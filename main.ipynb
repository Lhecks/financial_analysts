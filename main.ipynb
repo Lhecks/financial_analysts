{
 "cells": [
  {
   "cell_type": "markdown",
   "id": "de00f28c",
   "metadata": {},
   "source": [
    "# Summary of the Jupyter Notebook\n",
    "\n",
    "This Jupyter Notebook provides a comprehensive analysis of a financial dataset (`datasets/financials.csv`) containing sales, profit, and related metrics for various products across multiple countries and years. The workflow includes:\n",
    "\n",
    "- **Data Import & Cleaning:** The dataset is loaded and cleaned, with columns standardized and monetary values converted to numeric types.\n",
    "- **Exploratory Data Analysis:** Descriptive statistics and data info are displayed to understand the structure and summary of the dataset.\n",
    "- **Country-Level Analysis:** \n",
    "    - Sales and profit are aggregated by country.\n",
    "    - Visualizations include bar charts (with country flag images) and interactive Plotly maps to highlight sales and profit distribution.\n",
    "    - Special highlighting is used for countries with the maximum and minimum profit.\n",
    "- **Yearly and Segment/Product Analysis:** \n",
    "    - Sales and profit are broken down by year, segment, and product.\n",
    "    - Comparative bar charts show trends for 2013 and 2014.\n",
    "- **Gross Sales Analysis:** \n",
    "    - Gross sales are summarized and visualized by country and year.\n",
    "- **Product Sales by Country:** \n",
    "    - The total number of products sold per country is calculated and visualized.\n",
    "- **Discount Band Analysis:** \n",
    "    - The distribution of countries across different discount bands is summarized.\n",
    "\n",
    "The notebook uses a variety of visualization libraries (Matplotlib, Seaborn, Plotly) and incorporates images for enhanced data storytelling. The variables and dataframes created throughout the notebook support in-depth, multi-dimensional analysis of sales and profitability trends."
   ]
  },
  {
   "cell_type": "markdown",
   "id": "abf36fdd",
   "metadata": {},
   "source": [
    "### Downloading the libraries\n",
    "* pandas\n",
    "* numpy\n",
    "* matplotlib.pyplot\n",
    "* OffsetImage and AnnotationBboxmat from plotlib.offsetbox \n",
    "* Image from PIL\n",
    "* seaborn\n",
    "* plotly.express\n",
    "* plotly.graph_objects\n",
    "* plotly.figure_factory\n",
    "* FuncFormatter from matplotlib.ticker \n",
    " "
   ]
  },
  {
   "cell_type": "code",
   "execution_count": 39,
   "id": "fa063984",
   "metadata": {},
   "outputs": [],
   "source": [
    "# Downloading the libraries\n",
    "import pandas as pd\n",
    "import numpy as np\n",
    "import matplotlib.pyplot as plt\n",
    "from matplotlib.offsetbox import OffsetImage, AnnotationBbox\n",
    "from PIL import Image\n",
    "import seaborn as sns\n",
    "import plotly.express as px\n",
    "import plotly.graph_objects as go\n",
    "import plotly.figure_factory as ff\n",
    "from matplotlib.ticker import FuncFormatter\n"
   ]
  },
  {
   "cell_type": "code",
   "execution_count": 40,
   "id": "6b5848f4",
   "metadata": {},
   "outputs": [
    {
     "data": {
      "application/vnd.microsoft.datawrangler.viewer.v0+json": {
       "columns": [
        {
         "name": "index",
         "rawType": "int64",
         "type": "integer"
        },
        {
         "name": "Segment",
         "rawType": "object",
         "type": "string"
        },
        {
         "name": "Country",
         "rawType": "object",
         "type": "string"
        },
        {
         "name": "Product",
         "rawType": "object",
         "type": "string"
        },
        {
         "name": "Discount_Band",
         "rawType": "object",
         "type": "string"
        },
        {
         "name": "Units_Sold",
         "rawType": "float64",
         "type": "float"
        },
        {
         "name": "Manufacturing_Price",
         "rawType": "int64",
         "type": "integer"
        },
        {
         "name": "Sale_Price",
         "rawType": "int64",
         "type": "integer"
        },
        {
         "name": "Gross_Sales",
         "rawType": "float64",
         "type": "float"
        },
        {
         "name": "Discounts",
         "rawType": "float64",
         "type": "float"
        },
        {
         "name": "Sales",
         "rawType": "float64",
         "type": "float"
        },
        {
         "name": "COGS",
         "rawType": "float64",
         "type": "float"
        },
        {
         "name": "Profit",
         "rawType": "float64",
         "type": "float"
        },
        {
         "name": "Date",
         "rawType": "object",
         "type": "string"
        },
        {
         "name": "Month_Number",
         "rawType": "int64",
         "type": "integer"
        },
        {
         "name": "Month_Name",
         "rawType": "object",
         "type": "string"
        },
        {
         "name": "Year",
         "rawType": "int64",
         "type": "integer"
        }
       ],
       "conversionMethod": "pd.DataFrame",
       "ref": "d0547b7d-ddd1-4223-b5b3-7c0e90bc8f93",
       "rows": [
        [
         "0",
         "Government",
         "Canada",
         " Carretera ",
         " None ",
         "1618.5",
         "3",
         "20",
         "32370.0",
         "0.0",
         "32370.0",
         "16185.0",
         "16185.0",
         "1/1/2014",
         "1",
         " January ",
         "2014"
        ],
        [
         "1",
         "Government",
         "Germany",
         " Carretera ",
         " None ",
         "1321.0",
         "3",
         "20",
         "26420.0",
         "0.0",
         "26420.0",
         "13210.0",
         "13210.0",
         "1/1/2014",
         "1",
         " January ",
         "2014"
        ],
        [
         "2",
         "Midmarket",
         "France",
         " Carretera ",
         " None ",
         "2178.0",
         "3",
         "15",
         "32670.0",
         "0.0",
         "32670.0",
         "21780.0",
         "10890.0",
         "6/1/2014",
         "6",
         " June ",
         "2014"
        ],
        [
         "3",
         "Midmarket",
         "Germany",
         " Carretera ",
         " None ",
         "888.0",
         "3",
         "15",
         "13320.0",
         "0.0",
         "13320.0",
         "8880.0",
         "4440.0",
         "6/1/2014",
         "6",
         " June ",
         "2014"
        ],
        [
         "4",
         "Midmarket",
         "Mexico",
         " Carretera ",
         " None ",
         "2470.0",
         "3",
         "15",
         "37050.0",
         "0.0",
         "37050.0",
         "24700.0",
         "12350.0",
         "6/1/2014",
         "6",
         " June ",
         "2014"
        ],
        [
         "5",
         "Government",
         "Germany",
         " Carretera ",
         " None ",
         "1513.0",
         "3",
         "350",
         "529550.0",
         "0.0",
         "529550.0",
         "393380.0",
         "136170.0",
         "12/1/2014",
         "12",
         " December ",
         "2014"
        ],
        [
         "6",
         "Midmarket",
         "Germany",
         " Montana ",
         " None ",
         "921.0",
         "5",
         "15",
         "13815.0",
         "0.0",
         "13815.0",
         "9210.0",
         "4605.0",
         "3/1/2014",
         "3",
         " March ",
         "2014"
        ],
        [
         "7",
         "Channel Partners",
         "Canada",
         " Montana ",
         " None ",
         "2518.0",
         "5",
         "12",
         "30216.0",
         "0.0",
         "30216.0",
         "7554.0",
         "22662.0",
         "6/1/2014",
         "6",
         " June ",
         "2014"
        ],
        [
         "8",
         "Government",
         "France",
         " Montana ",
         " None ",
         "1899.0",
         "5",
         "20",
         "37980.0",
         "0.0",
         "37980.0",
         "18990.0",
         "18990.0",
         "6/1/2014",
         "6",
         " June ",
         "2014"
        ],
        [
         "9",
         "Channel Partners",
         "Germany",
         " Montana ",
         " None ",
         "1545.0",
         "5",
         "12",
         "18540.0",
         "0.0",
         "18540.0",
         "4635.0",
         "13905.0",
         "6/1/2014",
         "6",
         " June ",
         "2014"
        ],
        [
         "10",
         "Midmarket",
         "Mexico",
         " Montana ",
         " None ",
         "2470.0",
         "5",
         "15",
         "37050.0",
         "0.0",
         "37050.0",
         "24700.0",
         "12350.0",
         "6/1/2014",
         "6",
         " June ",
         "2014"
        ],
        [
         "11",
         "Enterprise",
         "Canada",
         " Montana ",
         " None ",
         "2665.5",
         "5",
         "125",
         "333187.5",
         "0.0",
         "333187.5",
         "319860.0",
         "13327.5",
         "7/1/2014",
         "7",
         " July ",
         "2014"
        ],
        [
         "12",
         "Small Business",
         "Mexico",
         " Montana ",
         " None ",
         "958.0",
         "5",
         "300",
         "287400.0",
         "0.0",
         "287400.0",
         "239500.0",
         "47900.0",
         "8/1/2014",
         "8",
         " August ",
         "2014"
        ],
        [
         "13",
         "Government",
         "Germany",
         " Montana ",
         " None ",
         "2146.0",
         "5",
         "7",
         "15022.0",
         "0.0",
         "15022.0",
         "10730.0",
         "4292.0",
         "9/1/2014",
         "9",
         " September ",
         "2014"
        ],
        [
         "14",
         "Enterprise",
         "Canada",
         " Montana ",
         " None ",
         "345.0",
         "5",
         "125",
         "43125.0",
         "0.0",
         "43125.0",
         "41400.0",
         "1725.0",
         "10/1/2013",
         "10",
         " October ",
         "2013"
        ],
        [
         "15",
         "Midmarket",
         "United States of America",
         " Montana ",
         " None ",
         "615.0",
         "5",
         "15",
         "9225.0",
         "0.0",
         "9225.0",
         "6150.0",
         "3075.0",
         "12/1/2014",
         "12",
         " December ",
         "2014"
        ],
        [
         "16",
         "Government",
         "Canada",
         " Paseo ",
         " None ",
         "292.0",
         "10",
         "20",
         "5840.0",
         "0.0",
         "5840.0",
         "2920.0",
         "2920.0",
         "2/1/2014",
         "2",
         " February ",
         "2014"
        ],
        [
         "17",
         "Midmarket",
         "Mexico",
         " Paseo ",
         " None ",
         "974.0",
         "10",
         "15",
         "14610.0",
         "0.0",
         "14610.0",
         "9740.0",
         "4870.0",
         "2/1/2014",
         "2",
         " February ",
         "2014"
        ],
        [
         "18",
         "Channel Partners",
         "Canada",
         " Paseo ",
         " None ",
         "2518.0",
         "10",
         "12",
         "30216.0",
         "0.0",
         "30216.0",
         "7554.0",
         "22662.0",
         "6/1/2014",
         "6",
         " June ",
         "2014"
        ],
        [
         "19",
         "Government",
         "Germany",
         " Paseo ",
         " None ",
         "1006.0",
         "10",
         "350",
         "352100.0",
         "0.0",
         "352100.0",
         "261560.0",
         "90540.0",
         "6/1/2014",
         "6",
         " June ",
         "2014"
        ],
        [
         "20",
         "Channel Partners",
         "Germany",
         " Paseo ",
         " None ",
         "367.0",
         "10",
         "12",
         "4404.0",
         "0.0",
         "4404.0",
         "1101.0",
         "3303.0",
         "7/1/2014",
         "7",
         " July ",
         "2014"
        ],
        [
         "21",
         "Government",
         "Mexico",
         " Paseo ",
         " None ",
         "883.0",
         "10",
         "7",
         "6181.0",
         "0.0",
         "6181.0",
         "4415.0",
         "1766.0",
         "8/1/2014",
         "8",
         " August ",
         "2014"
        ],
        [
         "22",
         "Midmarket",
         "France",
         " Paseo ",
         " None ",
         "549.0",
         "10",
         "15",
         "8235.0",
         "0.0",
         "8235.0",
         "5490.0",
         "2745.0",
         "9/1/2013",
         "9",
         " September ",
         "2013"
        ],
        [
         "23",
         "Small Business",
         "Mexico",
         " Paseo ",
         " None ",
         "788.0",
         "10",
         "300",
         "236400.0",
         "0.0",
         "236400.0",
         "197000.0",
         "39400.0",
         "9/1/2013",
         "9",
         " September ",
         "2013"
        ],
        [
         "24",
         "Midmarket",
         "Mexico",
         " Paseo ",
         " None ",
         "2472.0",
         "10",
         "15",
         "37080.0",
         "0.0",
         "37080.0",
         "24720.0",
         "12360.0",
         "9/1/2014",
         "9",
         " September ",
         "2014"
        ],
        [
         "25",
         "Government",
         "United States of America",
         " Paseo ",
         " None ",
         "1143.0",
         "10",
         "7",
         "8001.0",
         "0.0",
         "8001.0",
         "5715.0",
         "2286.0",
         "10/1/2014",
         "10",
         " October ",
         "2014"
        ],
        [
         "26",
         "Government",
         "Canada",
         " Paseo ",
         " None ",
         "1725.0",
         "10",
         "350",
         "603750.0",
         "0.0",
         "603750.0",
         "448500.0",
         "155250.0",
         "11/1/2013",
         "11",
         " November ",
         "2013"
        ],
        [
         "27",
         "Channel Partners",
         "United States of America",
         " Paseo ",
         " None ",
         "912.0",
         "10",
         "12",
         "10944.0",
         "0.0",
         "10944.0",
         "2736.0",
         "8208.0",
         "11/1/2013",
         "11",
         " November ",
         "2013"
        ],
        [
         "28",
         "Midmarket",
         "Canada",
         " Paseo ",
         " None ",
         "2152.0",
         "10",
         "15",
         "32280.0",
         "0.0",
         "32280.0",
         "21520.0",
         "10760.0",
         "12/1/2013",
         "12",
         " December ",
         "2013"
        ],
        [
         "29",
         "Government",
         "Canada",
         " Paseo ",
         " None ",
         "1817.0",
         "10",
         "20",
         "36340.0",
         "0.0",
         "36340.0",
         "18170.0",
         "18170.0",
         "12/1/2014",
         "12",
         " December ",
         "2014"
        ],
        [
         "30",
         "Government",
         "Germany",
         " Paseo ",
         " None ",
         "1513.0",
         "10",
         "350",
         "529550.0",
         "0.0",
         "529550.0",
         "393380.0",
         "136170.0",
         "12/1/2014",
         "12",
         " December ",
         "2014"
        ],
        [
         "31",
         "Government",
         "Mexico",
         " Velo ",
         " None ",
         "1493.0",
         "120",
         "7",
         "10451.0",
         "0.0",
         "10451.0",
         "7465.0",
         "2986.0",
         "1/1/2014",
         "1",
         " January ",
         "2014"
        ],
        [
         "32",
         "Enterprise",
         "France",
         " Velo ",
         " None ",
         "1804.0",
         "120",
         "125",
         "225500.0",
         "0.0",
         "225500.0",
         "216480.0",
         "9020.0",
         "2/1/2014",
         "2",
         " February ",
         "2014"
        ],
        [
         "33",
         "Channel Partners",
         "Germany",
         " Velo ",
         " None ",
         "2161.0",
         "120",
         "12",
         "25932.0",
         "0.0",
         "25932.0",
         "6483.0",
         "19449.0",
         "3/1/2014",
         "3",
         " March ",
         "2014"
        ],
        [
         "34",
         "Government",
         "Germany",
         " Velo ",
         " None ",
         "1006.0",
         "120",
         "350",
         "352100.0",
         "0.0",
         "352100.0",
         "261560.0",
         "90540.0",
         "6/1/2014",
         "6",
         " June ",
         "2014"
        ],
        [
         "35",
         "Channel Partners",
         "Germany",
         " Velo ",
         " None ",
         "1545.0",
         "120",
         "12",
         "18540.0",
         "0.0",
         "18540.0",
         "4635.0",
         "13905.0",
         "6/1/2014",
         "6",
         " June ",
         "2014"
        ],
        [
         "36",
         "Enterprise",
         "United States of America",
         " Velo ",
         " None ",
         "2821.0",
         "120",
         "125",
         "352625.0",
         "0.0",
         "352625.0",
         "338520.0",
         "14105.0",
         "8/1/2014",
         "8",
         " August ",
         "2014"
        ],
        [
         "37",
         "Enterprise",
         "Canada",
         " Velo ",
         " None ",
         "345.0",
         "120",
         "125",
         "43125.0",
         "0.0",
         "43125.0",
         "41400.0",
         "1725.0",
         "10/1/2013",
         "10",
         " October ",
         "2013"
        ],
        [
         "38",
         "Small Business",
         "Canada",
         " VTT ",
         " None ",
         "2001.0",
         "250",
         "300",
         "600300.0",
         "0.0",
         "600300.0",
         "500250.0",
         "100050.0",
         "2/1/2014",
         "2",
         " February ",
         "2014"
        ],
        [
         "39",
         "Channel Partners",
         "Germany",
         " VTT ",
         " None ",
         "2838.0",
         "250",
         "12",
         "34056.0",
         "0.0",
         "34056.0",
         "8514.0",
         "25542.0",
         "4/1/2014",
         "4",
         " April ",
         "2014"
        ],
        [
         "40",
         "Midmarket",
         "France",
         " VTT ",
         " None ",
         "2178.0",
         "250",
         "15",
         "32670.0",
         "0.0",
         "32670.0",
         "21780.0",
         "10890.0",
         "6/1/2014",
         "6",
         " June ",
         "2014"
        ],
        [
         "41",
         "Midmarket",
         "Germany",
         " VTT ",
         " None ",
         "888.0",
         "250",
         "15",
         "13320.0",
         "0.0",
         "13320.0",
         "8880.0",
         "4440.0",
         "6/1/2014",
         "6",
         " June ",
         "2014"
        ],
        [
         "42",
         "Government",
         "France",
         " VTT ",
         " None ",
         "1527.0",
         "250",
         "350",
         "534450.0",
         "0.0",
         "534450.0",
         "397020.0",
         "137430.0",
         "9/1/2013",
         "9",
         " September ",
         "2013"
        ],
        [
         "43",
         "Small Business",
         "France",
         " VTT ",
         " None ",
         "2151.0",
         "250",
         "300",
         "645300.0",
         "0.0",
         "645300.0",
         "537750.0",
         "107550.0",
         "9/1/2014",
         "9",
         " September ",
         "2014"
        ],
        [
         "44",
         "Government",
         "Canada",
         " VTT ",
         " None ",
         "1817.0",
         "250",
         "20",
         "36340.0",
         "0.0",
         "36340.0",
         "18170.0",
         "18170.0",
         "12/1/2014",
         "12",
         " December ",
         "2014"
        ],
        [
         "45",
         "Government",
         "France",
         " Amarilla ",
         " None ",
         "2750.0",
         "260",
         "350",
         "962500.0",
         "0.0",
         "962500.0",
         "715000.0",
         "247500.0",
         "2/1/2014",
         "2",
         " February ",
         "2014"
        ],
        [
         "46",
         "Channel Partners",
         "United States of America",
         " Amarilla ",
         " None ",
         "1953.0",
         "260",
         "12",
         "23436.0",
         "0.0",
         "23436.0",
         "5859.0",
         "17577.0",
         "4/1/2014",
         "4",
         " April ",
         "2014"
        ],
        [
         "47",
         "Enterprise",
         "Germany",
         " Amarilla ",
         " None ",
         "4219.5",
         "260",
         "125",
         "527437.5",
         "0.0",
         "527437.5",
         "506340.0",
         "21097.5",
         "4/1/2014",
         "4",
         " April ",
         "2014"
        ],
        [
         "48",
         "Government",
         "France",
         " Amarilla ",
         " None ",
         "1899.0",
         "260",
         "20",
         "37980.0",
         "0.0",
         "37980.0",
         "18990.0",
         "18990.0",
         "6/1/2014",
         "6",
         " June ",
         "2014"
        ],
        [
         "49",
         "Government",
         "Germany",
         " Amarilla ",
         " None ",
         "1686.0",
         "260",
         "7",
         "11802.0",
         "0.0",
         "11802.0",
         "8430.0",
         "3372.0",
         "7/1/2014",
         "7",
         " July ",
         "2014"
        ]
       ],
       "shape": {
        "columns": 16,
        "rows": 700
       }
      },
      "text/html": [
       "<div>\n",
       "<style scoped>\n",
       "    .dataframe tbody tr th:only-of-type {\n",
       "        vertical-align: middle;\n",
       "    }\n",
       "\n",
       "    .dataframe tbody tr th {\n",
       "        vertical-align: top;\n",
       "    }\n",
       "\n",
       "    .dataframe thead th {\n",
       "        text-align: right;\n",
       "    }\n",
       "</style>\n",
       "<table border=\"1\" class=\"dataframe\">\n",
       "  <thead>\n",
       "    <tr style=\"text-align: right;\">\n",
       "      <th></th>\n",
       "      <th>Segment</th>\n",
       "      <th>Country</th>\n",
       "      <th>Product</th>\n",
       "      <th>Discount_Band</th>\n",
       "      <th>Units_Sold</th>\n",
       "      <th>Manufacturing_Price</th>\n",
       "      <th>Sale_Price</th>\n",
       "      <th>Gross_Sales</th>\n",
       "      <th>Discounts</th>\n",
       "      <th>Sales</th>\n",
       "      <th>COGS</th>\n",
       "      <th>Profit</th>\n",
       "      <th>Date</th>\n",
       "      <th>Month_Number</th>\n",
       "      <th>Month_Name</th>\n",
       "      <th>Year</th>\n",
       "    </tr>\n",
       "  </thead>\n",
       "  <tbody>\n",
       "    <tr>\n",
       "      <th>0</th>\n",
       "      <td>Government</td>\n",
       "      <td>Canada</td>\n",
       "      <td>Carretera</td>\n",
       "      <td>None</td>\n",
       "      <td>1618.5</td>\n",
       "      <td>3</td>\n",
       "      <td>20</td>\n",
       "      <td>32370.0</td>\n",
       "      <td>0.00</td>\n",
       "      <td>32370.00</td>\n",
       "      <td>16185.0</td>\n",
       "      <td>16185.00</td>\n",
       "      <td>1/1/2014</td>\n",
       "      <td>1</td>\n",
       "      <td>January</td>\n",
       "      <td>2014</td>\n",
       "    </tr>\n",
       "    <tr>\n",
       "      <th>1</th>\n",
       "      <td>Government</td>\n",
       "      <td>Germany</td>\n",
       "      <td>Carretera</td>\n",
       "      <td>None</td>\n",
       "      <td>1321.0</td>\n",
       "      <td>3</td>\n",
       "      <td>20</td>\n",
       "      <td>26420.0</td>\n",
       "      <td>0.00</td>\n",
       "      <td>26420.00</td>\n",
       "      <td>13210.0</td>\n",
       "      <td>13210.00</td>\n",
       "      <td>1/1/2014</td>\n",
       "      <td>1</td>\n",
       "      <td>January</td>\n",
       "      <td>2014</td>\n",
       "    </tr>\n",
       "    <tr>\n",
       "      <th>2</th>\n",
       "      <td>Midmarket</td>\n",
       "      <td>France</td>\n",
       "      <td>Carretera</td>\n",
       "      <td>None</td>\n",
       "      <td>2178.0</td>\n",
       "      <td>3</td>\n",
       "      <td>15</td>\n",
       "      <td>32670.0</td>\n",
       "      <td>0.00</td>\n",
       "      <td>32670.00</td>\n",
       "      <td>21780.0</td>\n",
       "      <td>10890.00</td>\n",
       "      <td>6/1/2014</td>\n",
       "      <td>6</td>\n",
       "      <td>June</td>\n",
       "      <td>2014</td>\n",
       "    </tr>\n",
       "    <tr>\n",
       "      <th>3</th>\n",
       "      <td>Midmarket</td>\n",
       "      <td>Germany</td>\n",
       "      <td>Carretera</td>\n",
       "      <td>None</td>\n",
       "      <td>888.0</td>\n",
       "      <td>3</td>\n",
       "      <td>15</td>\n",
       "      <td>13320.0</td>\n",
       "      <td>0.00</td>\n",
       "      <td>13320.00</td>\n",
       "      <td>8880.0</td>\n",
       "      <td>4440.00</td>\n",
       "      <td>6/1/2014</td>\n",
       "      <td>6</td>\n",
       "      <td>June</td>\n",
       "      <td>2014</td>\n",
       "    </tr>\n",
       "    <tr>\n",
       "      <th>4</th>\n",
       "      <td>Midmarket</td>\n",
       "      <td>Mexico</td>\n",
       "      <td>Carretera</td>\n",
       "      <td>None</td>\n",
       "      <td>2470.0</td>\n",
       "      <td>3</td>\n",
       "      <td>15</td>\n",
       "      <td>37050.0</td>\n",
       "      <td>0.00</td>\n",
       "      <td>37050.00</td>\n",
       "      <td>24700.0</td>\n",
       "      <td>12350.00</td>\n",
       "      <td>6/1/2014</td>\n",
       "      <td>6</td>\n",
       "      <td>June</td>\n",
       "      <td>2014</td>\n",
       "    </tr>\n",
       "    <tr>\n",
       "      <th>...</th>\n",
       "      <td>...</td>\n",
       "      <td>...</td>\n",
       "      <td>...</td>\n",
       "      <td>...</td>\n",
       "      <td>...</td>\n",
       "      <td>...</td>\n",
       "      <td>...</td>\n",
       "      <td>...</td>\n",
       "      <td>...</td>\n",
       "      <td>...</td>\n",
       "      <td>...</td>\n",
       "      <td>...</td>\n",
       "      <td>...</td>\n",
       "      <td>...</td>\n",
       "      <td>...</td>\n",
       "      <td>...</td>\n",
       "    </tr>\n",
       "    <tr>\n",
       "      <th>695</th>\n",
       "      <td>Small Business</td>\n",
       "      <td>France</td>\n",
       "      <td>Amarilla</td>\n",
       "      <td>High</td>\n",
       "      <td>2475.0</td>\n",
       "      <td>260</td>\n",
       "      <td>300</td>\n",
       "      <td>742500.0</td>\n",
       "      <td>0.00</td>\n",
       "      <td>631125.00</td>\n",
       "      <td>618750.0</td>\n",
       "      <td>12375.00</td>\n",
       "      <td>3/1/2014</td>\n",
       "      <td>3</td>\n",
       "      <td>March</td>\n",
       "      <td>2014</td>\n",
       "    </tr>\n",
       "    <tr>\n",
       "      <th>696</th>\n",
       "      <td>Small Business</td>\n",
       "      <td>Mexico</td>\n",
       "      <td>Amarilla</td>\n",
       "      <td>High</td>\n",
       "      <td>546.0</td>\n",
       "      <td>260</td>\n",
       "      <td>300</td>\n",
       "      <td>163800.0</td>\n",
       "      <td>0.00</td>\n",
       "      <td>139230.00</td>\n",
       "      <td>136500.0</td>\n",
       "      <td>2730.00</td>\n",
       "      <td>10/1/2014</td>\n",
       "      <td>10</td>\n",
       "      <td>October</td>\n",
       "      <td>2014</td>\n",
       "    </tr>\n",
       "    <tr>\n",
       "      <th>697</th>\n",
       "      <td>Government</td>\n",
       "      <td>Mexico</td>\n",
       "      <td>Montana</td>\n",
       "      <td>High</td>\n",
       "      <td>1368.0</td>\n",
       "      <td>5</td>\n",
       "      <td>7</td>\n",
       "      <td>9576.0</td>\n",
       "      <td>0.00</td>\n",
       "      <td>8139.60</td>\n",
       "      <td>6840.0</td>\n",
       "      <td>1299.60</td>\n",
       "      <td>2/1/2014</td>\n",
       "      <td>2</td>\n",
       "      <td>February</td>\n",
       "      <td>2014</td>\n",
       "    </tr>\n",
       "    <tr>\n",
       "      <th>698</th>\n",
       "      <td>Government</td>\n",
       "      <td>Canada</td>\n",
       "      <td>Paseo</td>\n",
       "      <td>High</td>\n",
       "      <td>723.0</td>\n",
       "      <td>10</td>\n",
       "      <td>7</td>\n",
       "      <td>5061.0</td>\n",
       "      <td>759.15</td>\n",
       "      <td>4301.85</td>\n",
       "      <td>3615.0</td>\n",
       "      <td>686.85</td>\n",
       "      <td>4/1/2014</td>\n",
       "      <td>4</td>\n",
       "      <td>April</td>\n",
       "      <td>2014</td>\n",
       "    </tr>\n",
       "    <tr>\n",
       "      <th>699</th>\n",
       "      <td>Channel Partners</td>\n",
       "      <td>United States of America</td>\n",
       "      <td>VTT</td>\n",
       "      <td>High</td>\n",
       "      <td>1806.0</td>\n",
       "      <td>250</td>\n",
       "      <td>12</td>\n",
       "      <td>21672.0</td>\n",
       "      <td>0.00</td>\n",
       "      <td>18421.20</td>\n",
       "      <td>5418.0</td>\n",
       "      <td>13003.20</td>\n",
       "      <td>5/1/2014</td>\n",
       "      <td>5</td>\n",
       "      <td>May</td>\n",
       "      <td>2014</td>\n",
       "    </tr>\n",
       "  </tbody>\n",
       "</table>\n",
       "<p>700 rows × 16 columns</p>\n",
       "</div>"
      ],
      "text/plain": [
       "              Segment                   Country      Product Discount_Band  \\\n",
       "0          Government                    Canada   Carretera          None    \n",
       "1          Government                   Germany   Carretera          None    \n",
       "2           Midmarket                    France   Carretera          None    \n",
       "3           Midmarket                   Germany   Carretera          None    \n",
       "4           Midmarket                    Mexico   Carretera          None    \n",
       "..                ...                       ...          ...           ...   \n",
       "695    Small Business                    France    Amarilla          High    \n",
       "696    Small Business                    Mexico    Amarilla          High    \n",
       "697        Government                    Mexico     Montana          High    \n",
       "698        Government                    Canada       Paseo          High    \n",
       "699  Channel Partners  United States of America         VTT          High    \n",
       "\n",
       "     Units_Sold  Manufacturing_Price  Sale_Price  Gross_Sales  Discounts  \\\n",
       "0        1618.5                    3          20      32370.0       0.00   \n",
       "1        1321.0                    3          20      26420.0       0.00   \n",
       "2        2178.0                    3          15      32670.0       0.00   \n",
       "3         888.0                    3          15      13320.0       0.00   \n",
       "4        2470.0                    3          15      37050.0       0.00   \n",
       "..          ...                  ...         ...          ...        ...   \n",
       "695      2475.0                  260         300     742500.0       0.00   \n",
       "696       546.0                  260         300     163800.0       0.00   \n",
       "697      1368.0                    5           7       9576.0       0.00   \n",
       "698       723.0                   10           7       5061.0     759.15   \n",
       "699      1806.0                  250          12      21672.0       0.00   \n",
       "\n",
       "         Sales      COGS    Profit       Date  Month_Number  Month_Name  Year  \n",
       "0     32370.00   16185.0  16185.00   1/1/2014             1    January   2014  \n",
       "1     26420.00   13210.0  13210.00   1/1/2014             1    January   2014  \n",
       "2     32670.00   21780.0  10890.00   6/1/2014             6       June   2014  \n",
       "3     13320.00    8880.0   4440.00   6/1/2014             6       June   2014  \n",
       "4     37050.00   24700.0  12350.00   6/1/2014             6       June   2014  \n",
       "..         ...       ...       ...        ...           ...         ...   ...  \n",
       "695  631125.00  618750.0  12375.00   3/1/2014             3      March   2014  \n",
       "696  139230.00  136500.0   2730.00  10/1/2014            10    October   2014  \n",
       "697    8139.60    6840.0   1299.60   2/1/2014             2   February   2014  \n",
       "698    4301.85    3615.0    686.85   4/1/2014             4      April   2014  \n",
       "699   18421.20    5418.0  13003.20   5/1/2014             5        May   2014  \n",
       "\n",
       "[700 rows x 16 columns]"
      ]
     },
     "execution_count": 40,
     "metadata": {},
     "output_type": "execute_result"
    }
   ],
   "source": [
    "file_path = 'datasets/financials.csv'\n",
    "df = pd.read_csv(file_path)\n",
    "df.columns = df.columns.str.strip().str.replace(' ', '_')\n",
    "\n",
    "df['Discounts'] = df['Discounts'].str.replace('$', '',regex=False)\n",
    "df['Discounts'] = pd.to_numeric(df['Discounts'], errors='coerce')\n",
    "df['Discounts'] = df['Discounts'].fillna(0)\n",
    "df\n"
   ]
  },
  {
   "cell_type": "code",
   "execution_count": 41,
   "id": "d043948f",
   "metadata": {},
   "outputs": [
    {
     "data": {
      "application/vnd.microsoft.datawrangler.viewer.v0+json": {
       "columns": [
        {
         "name": "index",
         "rawType": "object",
         "type": "string"
        },
        {
         "name": "Units_Sold",
         "rawType": "float64",
         "type": "float"
        },
        {
         "name": "Manufacturing_Price",
         "rawType": "float64",
         "type": "float"
        },
        {
         "name": "Sale_Price",
         "rawType": "float64",
         "type": "float"
        },
        {
         "name": "Gross_Sales",
         "rawType": "float64",
         "type": "float"
        },
        {
         "name": "Discounts",
         "rawType": "float64",
         "type": "float"
        },
        {
         "name": "Sales",
         "rawType": "float64",
         "type": "float"
        },
        {
         "name": "COGS",
         "rawType": "float64",
         "type": "float"
        },
        {
         "name": "Profit",
         "rawType": "float64",
         "type": "float"
        },
        {
         "name": "Month_Number",
         "rawType": "float64",
         "type": "float"
        },
        {
         "name": "Year",
         "rawType": "float64",
         "type": "float"
        }
       ],
       "conversionMethod": "pd.DataFrame",
       "ref": "f4cd4db4-3a2d-45ad-b4d9-b8ba9cb32eb1",
       "rows": [
        [
         "count",
         "700.0",
         "700.0",
         "700.0",
         "700.0",
         "700.0",
         "700.0",
         "700.0",
         "695.0",
         "700.0",
         "700.0"
        ],
        [
         "mean",
         "1608.2942857142857",
         "96.47714285714285",
         "118.42857142857143",
         "182759.42642857143",
         "114.62567142857144",
         "169609.07184285714",
         "145475.21142857143",
         "24307.485309352516",
         "7.9",
         "2013.75"
        ],
        [
         "std",
         "867.4278590570525",
         "108.60261218681302",
         "136.7755145691398",
         "254262.28437834268",
         "249.22450188627948",
         "236726.3468993033",
         "203865.50611847595",
         "42865.11565743684",
         "3.377320640200437",
         "0.4333223284615595"
        ],
        [
         "min",
         "200.0",
         "3.0",
         "7.0",
         "1799.0",
         "0.0",
         "1655.08",
         "918.0",
         "-40617.5",
         "1.0",
         "2013.0"
        ],
        [
         "25%",
         "905.0",
         "5.0",
         "12.0",
         "17391.75",
         "0.0",
         "15928.0",
         "7490.0",
         "2929.3199999999997",
         "5.75",
         "2013.75"
        ],
        [
         "50%",
         "1542.5",
         "10.0",
         "20.0",
         "37980.0",
         "0.0",
         "35540.2",
         "22506.25",
         "9297.0",
         "9.0",
         "2014.0"
        ],
        [
         "75%",
         "2229.125",
         "250.0",
         "300.0",
         "279025.0",
         "0.0",
         "261077.5",
         "245607.5",
         "22777.5",
         "10.25",
         "2014.0"
        ],
        [
         "max",
         "4492.5",
         "260.0",
         "350.0",
         "1207500.0",
         "983.75",
         "1159200.0",
         "950625.0",
         "262200.0",
         "12.0",
         "2014.0"
        ]
       ],
       "shape": {
        "columns": 10,
        "rows": 8
       }
      },
      "text/html": [
       "<div>\n",
       "<style scoped>\n",
       "    .dataframe tbody tr th:only-of-type {\n",
       "        vertical-align: middle;\n",
       "    }\n",
       "\n",
       "    .dataframe tbody tr th {\n",
       "        vertical-align: top;\n",
       "    }\n",
       "\n",
       "    .dataframe thead th {\n",
       "        text-align: right;\n",
       "    }\n",
       "</style>\n",
       "<table border=\"1\" class=\"dataframe\">\n",
       "  <thead>\n",
       "    <tr style=\"text-align: right;\">\n",
       "      <th></th>\n",
       "      <th>Units_Sold</th>\n",
       "      <th>Manufacturing_Price</th>\n",
       "      <th>Sale_Price</th>\n",
       "      <th>Gross_Sales</th>\n",
       "      <th>Discounts</th>\n",
       "      <th>Sales</th>\n",
       "      <th>COGS</th>\n",
       "      <th>Profit</th>\n",
       "      <th>Month_Number</th>\n",
       "      <th>Year</th>\n",
       "    </tr>\n",
       "  </thead>\n",
       "  <tbody>\n",
       "    <tr>\n",
       "      <th>count</th>\n",
       "      <td>700.000000</td>\n",
       "      <td>700.000000</td>\n",
       "      <td>700.000000</td>\n",
       "      <td>7.000000e+02</td>\n",
       "      <td>700.000000</td>\n",
       "      <td>7.000000e+02</td>\n",
       "      <td>700.000000</td>\n",
       "      <td>695.000000</td>\n",
       "      <td>700.000000</td>\n",
       "      <td>700.000000</td>\n",
       "    </tr>\n",
       "    <tr>\n",
       "      <th>mean</th>\n",
       "      <td>1608.294286</td>\n",
       "      <td>96.477143</td>\n",
       "      <td>118.428571</td>\n",
       "      <td>1.827594e+05</td>\n",
       "      <td>114.625671</td>\n",
       "      <td>1.696091e+05</td>\n",
       "      <td>145475.211429</td>\n",
       "      <td>24307.485309</td>\n",
       "      <td>7.900000</td>\n",
       "      <td>2013.750000</td>\n",
       "    </tr>\n",
       "    <tr>\n",
       "      <th>std</th>\n",
       "      <td>867.427859</td>\n",
       "      <td>108.602612</td>\n",
       "      <td>136.775515</td>\n",
       "      <td>2.542623e+05</td>\n",
       "      <td>249.224502</td>\n",
       "      <td>2.367263e+05</td>\n",
       "      <td>203865.506118</td>\n",
       "      <td>42865.115657</td>\n",
       "      <td>3.377321</td>\n",
       "      <td>0.433322</td>\n",
       "    </tr>\n",
       "    <tr>\n",
       "      <th>min</th>\n",
       "      <td>200.000000</td>\n",
       "      <td>3.000000</td>\n",
       "      <td>7.000000</td>\n",
       "      <td>1.799000e+03</td>\n",
       "      <td>0.000000</td>\n",
       "      <td>1.655080e+03</td>\n",
       "      <td>918.000000</td>\n",
       "      <td>-40617.500000</td>\n",
       "      <td>1.000000</td>\n",
       "      <td>2013.000000</td>\n",
       "    </tr>\n",
       "    <tr>\n",
       "      <th>25%</th>\n",
       "      <td>905.000000</td>\n",
       "      <td>5.000000</td>\n",
       "      <td>12.000000</td>\n",
       "      <td>1.739175e+04</td>\n",
       "      <td>0.000000</td>\n",
       "      <td>1.592800e+04</td>\n",
       "      <td>7490.000000</td>\n",
       "      <td>2929.320000</td>\n",
       "      <td>5.750000</td>\n",
       "      <td>2013.750000</td>\n",
       "    </tr>\n",
       "    <tr>\n",
       "      <th>50%</th>\n",
       "      <td>1542.500000</td>\n",
       "      <td>10.000000</td>\n",
       "      <td>20.000000</td>\n",
       "      <td>3.798000e+04</td>\n",
       "      <td>0.000000</td>\n",
       "      <td>3.554020e+04</td>\n",
       "      <td>22506.250000</td>\n",
       "      <td>9297.000000</td>\n",
       "      <td>9.000000</td>\n",
       "      <td>2014.000000</td>\n",
       "    </tr>\n",
       "    <tr>\n",
       "      <th>75%</th>\n",
       "      <td>2229.125000</td>\n",
       "      <td>250.000000</td>\n",
       "      <td>300.000000</td>\n",
       "      <td>2.790250e+05</td>\n",
       "      <td>0.000000</td>\n",
       "      <td>2.610775e+05</td>\n",
       "      <td>245607.500000</td>\n",
       "      <td>22777.500000</td>\n",
       "      <td>10.250000</td>\n",
       "      <td>2014.000000</td>\n",
       "    </tr>\n",
       "    <tr>\n",
       "      <th>max</th>\n",
       "      <td>4492.500000</td>\n",
       "      <td>260.000000</td>\n",
       "      <td>350.000000</td>\n",
       "      <td>1.207500e+06</td>\n",
       "      <td>983.750000</td>\n",
       "      <td>1.159200e+06</td>\n",
       "      <td>950625.000000</td>\n",
       "      <td>262200.000000</td>\n",
       "      <td>12.000000</td>\n",
       "      <td>2014.000000</td>\n",
       "    </tr>\n",
       "  </tbody>\n",
       "</table>\n",
       "</div>"
      ],
      "text/plain": [
       "        Units_Sold  Manufacturing_Price  Sale_Price   Gross_Sales   Discounts  \\\n",
       "count   700.000000           700.000000  700.000000  7.000000e+02  700.000000   \n",
       "mean   1608.294286            96.477143  118.428571  1.827594e+05  114.625671   \n",
       "std     867.427859           108.602612  136.775515  2.542623e+05  249.224502   \n",
       "min     200.000000             3.000000    7.000000  1.799000e+03    0.000000   \n",
       "25%     905.000000             5.000000   12.000000  1.739175e+04    0.000000   \n",
       "50%    1542.500000            10.000000   20.000000  3.798000e+04    0.000000   \n",
       "75%    2229.125000           250.000000  300.000000  2.790250e+05    0.000000   \n",
       "max    4492.500000           260.000000  350.000000  1.207500e+06  983.750000   \n",
       "\n",
       "              Sales           COGS         Profit  Month_Number         Year  \n",
       "count  7.000000e+02     700.000000     695.000000    700.000000   700.000000  \n",
       "mean   1.696091e+05  145475.211429   24307.485309      7.900000  2013.750000  \n",
       "std    2.367263e+05  203865.506118   42865.115657      3.377321     0.433322  \n",
       "min    1.655080e+03     918.000000  -40617.500000      1.000000  2013.000000  \n",
       "25%    1.592800e+04    7490.000000    2929.320000      5.750000  2013.750000  \n",
       "50%    3.554020e+04   22506.250000    9297.000000      9.000000  2014.000000  \n",
       "75%    2.610775e+05  245607.500000   22777.500000     10.250000  2014.000000  \n",
       "max    1.159200e+06  950625.000000  262200.000000     12.000000  2014.000000  "
      ]
     },
     "execution_count": 41,
     "metadata": {},
     "output_type": "execute_result"
    }
   ],
   "source": [
    "df.describe()"
   ]
  },
  {
   "cell_type": "code",
   "execution_count": 42,
   "id": "d8a9abda",
   "metadata": {},
   "outputs": [
    {
     "name": "stdout",
     "output_type": "stream",
     "text": [
      "<class 'pandas.core.frame.DataFrame'>\n",
      "RangeIndex: 700 entries, 0 to 699\n",
      "Data columns (total 16 columns):\n",
      " #   Column               Non-Null Count  Dtype  \n",
      "---  ------               --------------  -----  \n",
      " 0   Segment              700 non-null    object \n",
      " 1   Country              700 non-null    object \n",
      " 2   Product              700 non-null    object \n",
      " 3   Discount_Band        700 non-null    object \n",
      " 4   Units_Sold           700 non-null    float64\n",
      " 5   Manufacturing_Price  700 non-null    int64  \n",
      " 6   Sale_Price           700 non-null    int64  \n",
      " 7   Gross_Sales          700 non-null    float64\n",
      " 8   Discounts            700 non-null    float64\n",
      " 9   Sales                700 non-null    float64\n",
      " 10  COGS                 700 non-null    float64\n",
      " 11  Profit               695 non-null    float64\n",
      " 12  Date                 700 non-null    object \n",
      " 13  Month_Number         700 non-null    int64  \n",
      " 14  Month_Name           700 non-null    object \n",
      " 15  Year                 700 non-null    int64  \n",
      "dtypes: float64(6), int64(4), object(6)\n",
      "memory usage: 87.6+ KB\n"
     ]
    }
   ],
   "source": [
    "df.info()"
   ]
  },
  {
   "cell_type": "code",
   "execution_count": 43,
   "id": "4b83a536",
   "metadata": {},
   "outputs": [
    {
     "data": {
      "application/vnd.microsoft.datawrangler.viewer.v0+json": {
       "columns": [
        {
         "name": "index",
         "rawType": "int64",
         "type": "integer"
        },
        {
         "name": "Country",
         "rawType": "object",
         "type": "string"
        },
        {
         "name": "Discounts",
         "rawType": "int64",
         "type": "integer"
        },
        {
         "name": "Sales",
         "rawType": "object",
         "type": "string"
        }
       ],
       "conversionMethod": "pd.DataFrame",
       "ref": "ecda83ac-bd33-47a0-9c35-e00bea7f1e43",
       "rows": [
        [
         "0",
         "Canada",
         "11189",
         "$24,887,655"
        ],
        [
         "1",
         "France",
         "14767",
         "$24,354,172"
        ],
        [
         "2",
         "Germany",
         "15939",
         "$23,505,341"
        ],
        [
         "3",
         "Mexico",
         "20076",
         "$20,949,352"
        ],
        [
         "4",
         "United States of America",
         "18265",
         "$25,029,830"
        ]
       ],
       "shape": {
        "columns": 3,
        "rows": 5
       }
      },
      "text/html": [
       "<div>\n",
       "<style scoped>\n",
       "    .dataframe tbody tr th:only-of-type {\n",
       "        vertical-align: middle;\n",
       "    }\n",
       "\n",
       "    .dataframe tbody tr th {\n",
       "        vertical-align: top;\n",
       "    }\n",
       "\n",
       "    .dataframe thead th {\n",
       "        text-align: right;\n",
       "    }\n",
       "</style>\n",
       "<table border=\"1\" class=\"dataframe\">\n",
       "  <thead>\n",
       "    <tr style=\"text-align: right;\">\n",
       "      <th></th>\n",
       "      <th>Country</th>\n",
       "      <th>Discounts</th>\n",
       "      <th>Sales</th>\n",
       "    </tr>\n",
       "  </thead>\n",
       "  <tbody>\n",
       "    <tr>\n",
       "      <th>0</th>\n",
       "      <td>Canada</td>\n",
       "      <td>11189</td>\n",
       "      <td>$24,887,655</td>\n",
       "    </tr>\n",
       "    <tr>\n",
       "      <th>1</th>\n",
       "      <td>France</td>\n",
       "      <td>14767</td>\n",
       "      <td>$24,354,172</td>\n",
       "    </tr>\n",
       "    <tr>\n",
       "      <th>2</th>\n",
       "      <td>Germany</td>\n",
       "      <td>15939</td>\n",
       "      <td>$23,505,341</td>\n",
       "    </tr>\n",
       "    <tr>\n",
       "      <th>3</th>\n",
       "      <td>Mexico</td>\n",
       "      <td>20076</td>\n",
       "      <td>$20,949,352</td>\n",
       "    </tr>\n",
       "    <tr>\n",
       "      <th>4</th>\n",
       "      <td>United States of America</td>\n",
       "      <td>18265</td>\n",
       "      <td>$25,029,830</td>\n",
       "    </tr>\n",
       "  </tbody>\n",
       "</table>\n",
       "</div>"
      ],
      "text/plain": [
       "                    Country  Discounts        Sales\n",
       "0                    Canada      11189  $24,887,655\n",
       "1                    France      14767  $24,354,172\n",
       "2                   Germany      15939  $23,505,341\n",
       "3                    Mexico      20076  $20,949,352\n",
       "4  United States of America      18265  $25,029,830"
      ]
     },
     "execution_count": 43,
     "metadata": {},
     "output_type": "execute_result"
    }
   ],
   "source": [
    "df_country_sales = df.groupby('Country').agg({'Discounts': 'sum', 'Sales': 'sum'}).reset_index()\n",
    "df_country_sales['Discounts'] = df_country_sales['Discounts'].astype(int)\n",
    "df_country_sales['Sales'] = df_country_sales['Sales'].apply(lambda x: '${:,.0f}'.format(x))\n",
    "df_country_sales"
   ]
  },
  {
   "cell_type": "code",
   "execution_count": 44,
   "id": "6821da37",
   "metadata": {},
   "outputs": [
    {
     "data": {
      "application/vnd.microsoft.datawrangler.viewer.v0+json": {
       "columns": [
        {
         "name": "index",
         "rawType": "int64",
         "type": "integer"
        },
        {
         "name": "Country",
         "rawType": "object",
         "type": "string"
        },
        {
         "name": "Sales",
         "rawType": "object",
         "type": "string"
        }
       ],
       "conversionMethod": "pd.DataFrame",
       "ref": "3dd9dd43-cbe7-4915-96de-7be0d94bfeec",
       "rows": [
        [
         "3",
         "Mexico",
         "$20,949,352"
        ],
        [
         "2",
         "Germany",
         "$23,505,341"
        ],
        [
         "1",
         "France",
         "$24,354,172"
        ],
        [
         "0",
         "Canada",
         "$24,887,655"
        ],
        [
         "4",
         "United States of America",
         "$25,029,830"
        ]
       ],
       "shape": {
        "columns": 2,
        "rows": 5
       }
      },
      "text/html": [
       "<div>\n",
       "<style scoped>\n",
       "    .dataframe tbody tr th:only-of-type {\n",
       "        vertical-align: middle;\n",
       "    }\n",
       "\n",
       "    .dataframe tbody tr th {\n",
       "        vertical-align: top;\n",
       "    }\n",
       "\n",
       "    .dataframe thead th {\n",
       "        text-align: right;\n",
       "    }\n",
       "</style>\n",
       "<table border=\"1\" class=\"dataframe\">\n",
       "  <thead>\n",
       "    <tr style=\"text-align: right;\">\n",
       "      <th></th>\n",
       "      <th>Country</th>\n",
       "      <th>Sales</th>\n",
       "    </tr>\n",
       "  </thead>\n",
       "  <tbody>\n",
       "    <tr>\n",
       "      <th>3</th>\n",
       "      <td>Mexico</td>\n",
       "      <td>$20,949,352</td>\n",
       "    </tr>\n",
       "    <tr>\n",
       "      <th>2</th>\n",
       "      <td>Germany</td>\n",
       "      <td>$23,505,341</td>\n",
       "    </tr>\n",
       "    <tr>\n",
       "      <th>1</th>\n",
       "      <td>France</td>\n",
       "      <td>$24,354,172</td>\n",
       "    </tr>\n",
       "    <tr>\n",
       "      <th>0</th>\n",
       "      <td>Canada</td>\n",
       "      <td>$24,887,655</td>\n",
       "    </tr>\n",
       "    <tr>\n",
       "      <th>4</th>\n",
       "      <td>United States of America</td>\n",
       "      <td>$25,029,830</td>\n",
       "    </tr>\n",
       "  </tbody>\n",
       "</table>\n",
       "</div>"
      ],
      "text/plain": [
       "                    Country        Sales\n",
       "3                    Mexico  $20,949,352\n",
       "2                   Germany  $23,505,341\n",
       "1                    France  $24,354,172\n",
       "0                    Canada  $24,887,655\n",
       "4  United States of America  $25,029,830"
      ]
     },
     "execution_count": 44,
     "metadata": {},
     "output_type": "execute_result"
    }
   ],
   "source": [
    "df_country_sales  = df.groupby('Country').agg({'Sales': 'sum'}).reset_index()\n",
    "df_country_sales = df_country_sales.sort_values(by='Sales', ascending=True)\n",
    "df_country_sales['Sales'] = df_country_sales['Sales'].apply(lambda x: '${:,.0f}'.format(x))\n",
    "# Display the results grouped dataframe\n",
    "df_country_sales"
   ]
  },
  {
   "cell_type": "code",
   "execution_count": 45,
   "id": "8dd350d6",
   "metadata": {},
   "outputs": [
    {
     "data": {
      "image/png": "[encoded data removed]",
      "text/plain": [
       "<Figure size 1200x600 with 1 Axes>"
      ]
     },
     "metadata": {},
     "output_type": "display_data"
    }
   ],
   "source": [
    "# Create a bar plot using Plotly Express\n",
    "# File paths for country images (replace with actual paths)\n",
    "country_images = {\n",
    "    \"United States of America\": \"images/flags/usa.png\",\n",
    "    \"Canada\": \"images/flags/canada.png\",\n",
    "    \"Germany\": \"images/flags/germany.png\",\n",
    "    \"France\": \"images/flags/france.png\",\n",
    "    \"Mexico\": \"images/flags/mexico.png\"\n",
    "    # Add more countries and their image paths\n",
    "}\n",
    "\n",
    "# Creating the horizontal bar chart\n",
    "fig, ax = plt.subplots(figsize=(12, 6))\n",
    "bars = ax.barh(df_country_sales['Country'], df_country_sales['Sales'], color='skyblue')\n",
    "\n",
    "# Adding the images at the end of each bar\n",
    "for bar, country in zip(bars, df_country_sales['Country']):\n",
    "    if country in country_images:\n",
    "        img_path = country_images[country]\n",
    "        img = Image.open(img_path)\n",
    "        imagebox = OffsetImage(img, zoom=0.15)  # Adjust zoom as needed\n",
    "        ab = AnnotationBbox(imagebox, (bar.get_width(), bar.get_y() + bar.get_height() / 2),\n",
    "                            frameon=False, box_alignment=(0, 0.5))\n",
    "        ax.add_artist(ab)\n",
    "# Set X-axis to start at 0\n",
    "ax.set_xlim(left=0)\n",
    "\n",
    "# Add labels and title\n",
    "ax.set_xlabel('Sales')\n",
    "ax.set_title('Total Sales by Country with Images')\n",
    "plt.tight_layout()\n",
    "plt.show()"
   ]
  },
  {
   "cell_type": "code",
   "execution_count": 46,
   "id": "2bf2344c",
   "metadata": {},
   "outputs": [
    {
     "data": {
      "image/png": "[encoded data removed]",
      "text/plain": [
       "<Figure size 1200x600 with 1 Axes>"
      ]
     },
     "metadata": {},
     "output_type": "display_data"
    },
    {
     "data": {
      "image/png": "[encoded data removed]",
      "text/plain": [
       "<Figure size 1200x600 with 1 Axes>"
      ]
     },
     "metadata": {},
     "output_type": "display_data"
    }
   ],
   "source": [
    "# Filtering the dataframe for 2013 and 2014 sales\n",
    "df_sales_2013 = df[df['Year'] == 2013].groupby('Country').agg({'Sales': 'sum'}).reset_index()\n",
    "df_sales_2014 = df[df['Year'] == 2014].groupby('Country').agg({'Sales': 'sum'}).reset_index()\n",
    "\n",
    "# Formating the sales values for better readability\n",
    "df_sales_2013['Sales'] = df_sales_2013['Sales'].apply(lambda x: '${:,.0f}'.format(x))\n",
    "df_sales_2014['Sales'] = df_sales_2014['Sales'].apply(lambda x: '${:,.0f}'.format(x))\n",
    "\n",
    "# Creating the horizontal bar chart for 2013\n",
    "fig, ax = plt.subplots(figsize=(12, 6))\n",
    "bars = ax.barh(df_sales_2013['Country'], df_sales_2013['Sales'], color='#21134D')\n",
    "\n",
    "# Adding images to the end of each bar\n",
    "for bar, country in zip(bars, df_sales_2013['Country']):\n",
    "    if country in country_images:\n",
    "        img_path = country_images[country]\n",
    "        img = Image.open(img_path)\n",
    "        imagebox = OffsetImage(img, zoom=0.15)  # Adjust zoom as needed\n",
    "        ab = AnnotationBbox(imagebox, (bar.get_width(), bar.get_y() + bar.get_height() / 2),\n",
    "                            frameon=False, box_alignment=(0, 0.5))\n",
    "        ax.add_artist(ab)\n",
    "\n",
    "# Set X-axis to start at 0\n",
    "ax.set_xlim(left=0)\n",
    "\n",
    "# Add labels and title\n",
    "ax.set_xlabel('Sales')\n",
    "ax.set_title('Total Sales by Country with Images (Year: 2013)')\n",
    "plt.tight_layout()\n",
    "plt.show()\n",
    "\n",
    "# Create the horizontal bar chart for 2014\n",
    "fig, ax = plt.subplots(figsize=(12, 6))\n",
    "bars = ax.barh(df_sales_2014['Country'], df_sales_2014['Sales'], color='#004D4D')\n",
    "\n",
    "# Add images to the end of each bar\n",
    "for bar, country in zip(bars, df_sales_2014['Country']):\n",
    "    if country in country_images:\n",
    "        img_path = country_images[country]\n",
    "        img = Image.open(img_path)\n",
    "        imagebox = OffsetImage(img, zoom=0.15)  # Adjust zoom as needed\n",
    "        ab = AnnotationBbox(imagebox, (bar.get_width(), bar.get_y() + bar.get_height() / 2),\n",
    "                            frameon=False, box_alignment=(0, 0.5))\n",
    "        ax.add_artist(ab)\n",
    "\n",
    "# Set X-axis to start at 0\n",
    "ax.set_xlim(left=0)\n",
    "\n",
    "# Add labels and title\n",
    "ax.set_xlabel('Sales')\n",
    "ax.set_title('Total Sales by Country with Images (Year: 2014)')\n",
    "plt.tight_layout()\n",
    "plt.show()\n"
   ]
  },
  {
   "cell_type": "code",
   "execution_count": 47,
   "id": "2076e454",
   "metadata": {},
   "outputs": [
    {
     "data": {
      "application/vnd.plotly.v1+json": {
       "config": {
        "plotlyServerURL": "https://plot.ly"
       },
       "data": [
        {
         "hovertemplate": "Sales=%{y}<br>Country=%{x}<extra></extra>",
         "legendgroup": "$20,949,352",
         "marker": {
          "color": "#636efa",
          "pattern": {
           "shape": ""
          }
         },
         "name": "$20,949,352",
         "orientation": "v",
         "showlegend": true,
         "textposition": "auto",
         "type": "bar",
         "x": [
          "Mexico"
         ],
         "xaxis": "x",
         "y": [
          "$20,949,352"
         ],
         "yaxis": "y"
        },
        {
         "hovertemplate": "Sales=%{y}<br>Country=%{x}<extra></extra>",
         "legendgroup": "$23,505,341",
         "marker": {
          "color": "#EF553B",
          "pattern": {
           "shape": ""
          }
         },
         "name": "$23,505,341",
         "orientation": "v",
         "showlegend": true,
         "textposition": "auto",
         "type": "bar",
         "x": [
          "Germany"
         ],
         "xaxis": "x",
         "y": [
          "$23,505,341"
         ],
         "yaxis": "y"
        },
        {
         "hovertemplate": "Sales=%{y}<br>Country=%{x}<extra></extra>",
         "legendgroup": "$24,354,172",
         "marker": {
          "color": "#00cc96",
          "pattern": {
           "shape": ""
          }
         },
         "name": "$24,354,172",
         "orientation": "v",
         "showlegend": true,
         "textposition": "auto",
         "type": "bar",
         "x": [
          "France"
         ],
         "xaxis": "x",
         "y": [
          "$24,354,172"
         ],
         "yaxis": "y"
        },
        {
         "hovertemplate": "Sales=%{y}<br>Country=%{x}<extra></extra>",
         "legendgroup": "$24,887,655",
         "marker": {
          "color": "#ab63fa",
          "pattern": {
           "shape": ""
          }
         },
         "name": "$24,887,655",
         "orientation": "v",
         "showlegend": true,
         "textposition": "auto",
         "type": "bar",
         "x": [
          "Canada"
         ],
         "xaxis": "x",
         "y": [
          "$24,887,655"
         ],
         "yaxis": "y"
        },
        {
         "hovertemplate": "Sales=%{y}<br>Country=%{x}<extra></extra>",
         "legendgroup": "$25,029,830",
         "marker": {
          "color": "#FFA15A",
          "pattern": {
           "shape": ""
          }
         },
         "name": "$25,029,830",
         "orientation": "v",
         "showlegend": true,
         "textposition": "auto",
         "type": "bar",
         "x": [
          "United States of America"
         ],
         "xaxis": "x",
         "y": [
          "$25,029,830"
         ],
         "yaxis": "y"
        }
       ],
       "layout": {
        "barmode": "relative",
        "legend": {
         "title": {
          "text": "Sales"
         },
         "tracegroupgap": 0
        },
        "template": {
         "data": {
          "bar": [
           {
            "error_x": {
             "color": "#2a3f5f"
            },
            "error_y": {
             "color": "#2a3f5f"
            },
            "marker": {
             "line": {
              "color": "#E5ECF6",
              "width": 0.5
             },
             "pattern": {
              "fillmode": "overlay",
              "size": 10,
              "solidity": 0.2
             }
            },
            "type": "bar"
           }
          ],
          "barpolar": [
           {
            "marker": {
             "line": {
              "color": "#E5ECF6",
              "width": 0.5
             },
             "pattern": {
              "fillmode": "overlay",
              "size": 10,
              "solidity": 0.2
             }
            },
            "type": "barpolar"
           }
          ],
          "carpet": [
           {
            "aaxis": {
             "endlinecolor": "#2a3f5f",
             "gridcolor": "white",
             "linecolor": "white",
             "minorgridcolor": "white",
             "startlinecolor": "#2a3f5f"
            },
            "baxis": {
             "endlinecolor": "#2a3f5f",
             "gridcolor": "white",
             "linecolor": "white",
             "minorgridcolor": "white",
             "startlinecolor": "#2a3f5f"
            },
            "type": "carpet"
           }
          ],
          "choropleth": [
           {
            "colorbar": {
             "outlinewidth": 0,
             "ticks": ""
            },
            "type": "choropleth"
           }
          ],
          "contour": [
           {
            "colorbar": {
             "outlinewidth": 0,
             "ticks": ""
            },
            "colorscale": [
             [
              0,
              "#0d0887"
             ],
             [
              0.1111111111111111,
              "#46039f"
             ],
             [
              0.2222222222222222,
              "#7201a8"
             ],
             [
              0.3333333333333333,
              "#9c179e"
             ],
             [
              0.4444444444444444,
              "#bd3786"
             ],
             [
              0.5555555555555556,
              "#d8576b"
             ],
             [
              0.6666666666666666,
              "#ed7953"
             ],
             [
              0.7777777777777778,
              "#fb9f3a"
             ],
             [
              0.8888888888888888,
              "#fdca26"
             ],
             [
              1,
              "#f0f921"
             ]
            ],
            "type": "contour"
           }
          ],
          "contourcarpet": [
           {
            "colorbar": {
             "outlinewidth": 0,
             "ticks": ""
            },
            "type": "contourcarpet"
           }
          ],
          "heatmap": [
           {
            "colorbar": {
             "outlinewidth": 0,
             "ticks": ""
            },
            "colorscale": [
             [
              0,
              "#0d0887"
             ],
             [
              0.1111111111111111,
              "#46039f"
             ],
             [
              0.2222222222222222,
              "#7201a8"
             ],
             [
              0.3333333333333333,
              "#9c179e"
             ],
             [
              0.4444444444444444,
              "#bd3786"
             ],
             [
              0.5555555555555556,
              "#d8576b"
             ],
             [
              0.6666666666666666,
              "#ed7953"
             ],
             [
              0.7777777777777778,
              "#fb9f3a"
             ],
             [
              0.8888888888888888,
              "#fdca26"
             ],
             [
              1,
              "#f0f921"
             ]
            ],
            "type": "heatmap"
           }
          ],
          "histogram": [
           {
            "marker": {
             "pattern": {
              "fillmode": "overlay",
              "size": 10,
              "solidity": 0.2
             }
            },
            "type": "histogram"
           }
          ],
          "histogram2d": [
           {
            "colorbar": {
             "outlinewidth": 0,
             "ticks": ""
            },
            "colorscale": [
             [
              0,
              "#0d0887"
             ],
             [
              0.1111111111111111,
              "#46039f"
             ],
             [
              0.2222222222222222,
              "#7201a8"
             ],
             [
              0.3333333333333333,
              "#9c179e"
             ],
             [
              0.4444444444444444,
              "#bd3786"
             ],
             [
              0.5555555555555556,
              "#d8576b"
             ],
             [
              0.6666666666666666,
              "#ed7953"
             ],
             [
              0.7777777777777778,
              "#fb9f3a"
             ],
             [
              0.8888888888888888,
              "#fdca26"
             ],
             [
              1,
              "#f0f921"
             ]
            ],
            "type": "histogram2d"
           }
          ],
          "histogram2dcontour": [
           {
            "colorbar": {
             "outlinewidth": 0,
             "ticks": ""
            },
            "colorscale": [
             [
              0,
              "#0d0887"
             ],
             [
              0.1111111111111111,
              "#46039f"
             ],
             [
              0.2222222222222222,
              "#7201a8"
             ],
             [
              0.3333333333333333,
              "#9c179e"
             ],
             [
              0.4444444444444444,
              "#bd3786"
             ],
             [
              0.5555555555555556,
              "#d8576b"
             ],
             [
              0.6666666666666666,
              "#ed7953"
             ],
             [
              0.7777777777777778,
              "#fb9f3a"
             ],
             [
              0.8888888888888888,
              "#fdca26"
             ],
             [
              1,
              "#f0f921"
             ]
            ],
            "type": "histogram2dcontour"
           }
          ],
          "mesh3d": [
           {
            "colorbar": {
             "outlinewidth": 0,
             "ticks": ""
            },
            "type": "mesh3d"
           }
          ],
          "parcoords": [
           {
            "line": {
             "colorbar": {
              "outlinewidth": 0,
              "ticks": ""
             }
            },
            "type": "parcoords"
           }
          ],
          "pie": [
           {
            "automargin": true,
            "type": "pie"
           }
          ],
          "scatter": [
           {
            "fillpattern": {
             "fillmode": "overlay",
             "size": 10,
             "solidity": 0.2
            },
            "type": "scatter"
           }
          ],
          "scatter3d": [
           {
            "line": {
             "colorbar": {
              "outlinewidth": 0,
              "ticks": ""
             }
            },
            "marker": {
             "colorbar": {
              "outlinewidth": 0,
              "ticks": ""
             }
            },
            "type": "scatter3d"
           }
          ],
          "scattercarpet": [
           {
            "marker": {
             "colorbar": {
              "outlinewidth": 0,
              "ticks": ""
             }
            },
            "type": "scattercarpet"
           }
          ],
          "scattergeo": [
           {
            "marker": {
             "colorbar": {
              "outlinewidth": 0,
              "ticks": ""
             }
            },
            "type": "scattergeo"
           }
          ],
          "scattergl": [
           {
            "marker": {
             "colorbar": {
              "outlinewidth": 0,
              "ticks": ""
             }
            },
            "type": "scattergl"
           }
          ],
          "scattermap": [
           {
            "marker": {
             "colorbar": {
              "outlinewidth": 0,
              "ticks": ""
             }
            },
            "type": "scattermap"
           }
          ],
          "scattermapbox": [
           {
            "marker": {
             "colorbar": {
              "outlinewidth": 0,
              "ticks": ""
             }
            },
            "type": "scattermapbox"
           }
          ],
          "scatterpolar": [
           {
            "marker": {
             "colorbar": {
              "outlinewidth": 0,
              "ticks": ""
             }
            },
            "type": "scatterpolar"
           }
          ],
          "scatterpolargl": [
           {
            "marker": {
             "colorbar": {
              "outlinewidth": 0,
              "ticks": ""
             }
            },
            "type": "scatterpolargl"
           }
          ],
          "scatterternary": [
           {
            "marker": {
             "colorbar": {
              "outlinewidth": 0,
              "ticks": ""
             }
            },
            "type": "scatterternary"
           }
          ],
          "surface": [
           {
            "colorbar": {
             "outlinewidth": 0,
             "ticks": ""
            },
            "colorscale": [
             [
              0,
              "#0d0887"
             ],
             [
              0.1111111111111111,
              "#46039f"
             ],
             [
              0.2222222222222222,
              "#7201a8"
             ],
             [
              0.3333333333333333,
              "#9c179e"
             ],
             [
              0.4444444444444444,
              "#bd3786"
             ],
             [
              0.5555555555555556,
              "#d8576b"
             ],
             [
              0.6666666666666666,
              "#ed7953"
             ],
             [
              0.7777777777777778,
              "#fb9f3a"
             ],
             [
              0.8888888888888888,
              "#fdca26"
             ],
             [
              1,
              "#f0f921"
             ]
            ],
            "type": "surface"
           }
          ],
          "table": [
           {
            "cells": {
             "fill": {
              "color": "#EBF0F8"
             },
             "line": {
              "color": "white"
             }
            },
            "header": {
             "fill": {
              "color": "#C8D4E3"
             },
             "line": {
              "color": "white"
             }
            },
            "type": "table"
           }
          ]
         },
         "layout": {
          "annotationdefaults": {
           "arrowcolor": "#2a3f5f",
           "arrowhead": 0,
           "arrowwidth": 1
          },
          "autotypenumbers": "strict",
          "coloraxis": {
           "colorbar": {
            "outlinewidth": 0,
            "ticks": ""
           }
          },
          "colorscale": {
           "diverging": [
            [
             0,
             "#8e0152"
            ],
            [
             0.1,
             "#c51b7d"
            ],
            [
             0.2,
             "#de77ae"
            ],
            [
             0.3,
             "#f1b6da"
            ],
            [
             0.4,
             "#fde0ef"
            ],
            [
             0.5,
             "#f7f7f7"
            ],
            [
             0.6,
             "#e6f5d0"
            ],
            [
             0.7,
             "#b8e186"
            ],
            [
             0.8,
             "#7fbc41"
            ],
            [
             0.9,
             "#4d9221"
            ],
            [
             1,
             "#276419"
            ]
           ],
           "sequential": [
            [
             0,
             "#0d0887"
            ],
            [
             0.1111111111111111,
             "#46039f"
            ],
            [
             0.2222222222222222,
             "#7201a8"
            ],
            [
             0.3333333333333333,
             "#9c179e"
            ],
            [
             0.4444444444444444,
             "#bd3786"
            ],
            [
             0.5555555555555556,
             "#d8576b"
            ],
            [
             0.6666666666666666,
             "#ed7953"
            ],
            [
             0.7777777777777778,
             "#fb9f3a"
            ],
            [
             0.8888888888888888,
             "#fdca26"
            ],
            [
             1,
             "#f0f921"
            ]
           ],
           "sequentialminus": [
            [
             0,
             "#0d0887"
            ],
            [
             0.1111111111111111,
             "#46039f"
            ],
            [
             0.2222222222222222,
             "#7201a8"
            ],
            [
             0.3333333333333333,
             "#9c179e"
            ],
            [
             0.4444444444444444,
             "#bd3786"
            ],
            [
             0.5555555555555556,
             "#d8576b"
            ],
            [
             0.6666666666666666,
             "#ed7953"
            ],
            [
             0.7777777777777778,
             "#fb9f3a"
            ],
            [
             0.8888888888888888,
             "#fdca26"
            ],
            [
             1,
             "#f0f921"
            ]
           ]
          },
          "colorway": [
           "#636efa",
           "#EF553B",
           "#00cc96",
           "#ab63fa",
           "#FFA15A",
           "#19d3f3",
           "#FF6692",
           "#B6E880",
           "#FF97FF",
           "#FECB52"
          ],
          "font": {
           "color": "#2a3f5f"
          },
          "geo": {
           "bgcolor": "white",
           "lakecolor": "white",
           "landcolor": "#E5ECF6",
           "showlakes": true,
           "showland": true,
           "subunitcolor": "white"
          },
          "hoverlabel": {
           "align": "left"
          },
          "hovermode": "closest",
          "mapbox": {
           "style": "light"
          },
          "paper_bgcolor": "white",
          "plot_bgcolor": "#E5ECF6",
          "polar": {
           "angularaxis": {
            "gridcolor": "white",
            "linecolor": "white",
            "ticks": ""
           },
           "bgcolor": "#E5ECF6",
           "radialaxis": {
            "gridcolor": "white",
            "linecolor": "white",
            "ticks": ""
           }
          },
          "scene": {
           "xaxis": {
            "backgroundcolor": "#E5ECF6",
            "gridcolor": "white",
            "gridwidth": 2,
            "linecolor": "white",
            "showbackground": true,
            "ticks": "",
            "zerolinecolor": "white"
           },
           "yaxis": {
            "backgroundcolor": "#E5ECF6",
            "gridcolor": "white",
            "gridwidth": 2,
            "linecolor": "white",
            "showbackground": true,
            "ticks": "",
            "zerolinecolor": "white"
           },
           "zaxis": {
            "backgroundcolor": "#E5ECF6",
            "gridcolor": "white",
            "gridwidth": 2,
            "linecolor": "white",
            "showbackground": true,
            "ticks": "",
            "zerolinecolor": "white"
           }
          },
          "shapedefaults": {
           "line": {
            "color": "#2a3f5f"
           }
          },
          "ternary": {
           "aaxis": {
            "gridcolor": "white",
            "linecolor": "white",
            "ticks": ""
           },
           "baxis": {
            "gridcolor": "white",
            "linecolor": "white",
            "ticks": ""
           },
           "bgcolor": "#E5ECF6",
           "caxis": {
            "gridcolor": "white",
            "linecolor": "white",
            "ticks": ""
           }
          },
          "title": {
           "x": 0.05
          },
          "xaxis": {
           "automargin": true,
           "gridcolor": "white",
           "linecolor": "white",
           "ticks": "",
           "title": {
            "standoff": 15
           },
           "zerolinecolor": "white",
           "zerolinewidth": 2
          },
          "yaxis": {
           "automargin": true,
           "gridcolor": "white",
           "linecolor": "white",
           "ticks": "",
           "title": {
            "standoff": 15
           },
           "zerolinecolor": "white",
           "zerolinewidth": 2
          }
         }
        },
        "title": {
         "text": "Total Sales by Country"
        },
        "xaxis": {
         "anchor": "y",
         "domain": [
          0,
          1
         ],
         "tickangle": -45,
         "title": {
          "text": "Country"
         }
        },
        "yaxis": {
         "anchor": "x",
         "categoryarray": [
          "$25,029,830",
          "$24,887,655",
          "$24,354,172",
          "$23,505,341",
          "$20,949,352"
         ],
         "categoryorder": "array",
         "domain": [
          0,
          1
         ],
         "title": {
          "text": "Total Sales"
         }
        }
       }
      }
     },
     "metadata": {},
     "output_type": "display_data"
    }
   ],
   "source": [
    "# Creating a bar plot using Plotly Express\n",
    "fig = px.bar(df_country_sales, x='Country', y='Sales', title='Total Sales by Country', color='Sales')\n",
    "fig.update_layout(xaxis_title='Country', yaxis_title='Total Sales', xaxis_tickangle=-45)\n",
    "fig.show()"
   ]
  },
  {
   "cell_type": "code",
   "execution_count": 48,
   "id": "03c7666c",
   "metadata": {},
   "outputs": [
    {
     "data": {
      "application/vnd.plotly.v1+json": {
       "config": {
        "plotlyServerURL": "https://plot.ly"
       },
       "data": [
        {
         "colorscale": [
          [
           0,
           "#636efa"
          ],
          [
           1,
           "#636efa"
          ]
         ],
         "geo": "geo",
         "hovertemplate": "Sales=$20,949,352<br>Country=%{location}<extra></extra>",
         "locationmode": "country names",
         "locations": [
          "Mexico"
         ],
         "name": "$20,949,352",
         "showlegend": true,
         "showscale": false,
         "type": "choropleth",
         "z": [
          1
         ]
        },
        {
         "colorscale": [
          [
           0,
           "#EF553B"
          ],
          [
           1,
           "#EF553B"
          ]
         ],
         "geo": "geo",
         "hovertemplate": "Sales=$23,505,341<br>Country=%{location}<extra></extra>",
         "locationmode": "country names",
         "locations": [
          "Germany"
         ],
         "name": "$23,505,341",
         "showlegend": true,
         "showscale": false,
         "type": "choropleth",
         "z": [
          1
         ]
        },
        {
         "colorscale": [
          [
           0,
           "#00cc96"
          ],
          [
           1,
           "#00cc96"
          ]
         ],
         "geo": "geo",
         "hovertemplate": "Sales=$24,354,172<br>Country=%{location}<extra></extra>",
         "locationmode": "country names",
         "locations": [
          "France"
         ],
         "name": "$24,354,172",
         "showlegend": true,
         "showscale": false,
         "type": "choropleth",
         "z": [
          1
         ]
        },
        {
         "colorscale": [
          [
           0,
           "#ab63fa"
          ],
          [
           1,
           "#ab63fa"
          ]
         ],
         "geo": "geo",
         "hovertemplate": "Sales=$24,887,655<br>Country=%{location}<extra></extra>",
         "locationmode": "country names",
         "locations": [
          "Canada"
         ],
         "name": "$24,887,655",
         "showlegend": true,
         "showscale": false,
         "type": "choropleth",
         "z": [
          1
         ]
        },
        {
         "colorscale": [
          [
           0,
           "#FFA15A"
          ],
          [
           1,
           "#FFA15A"
          ]
         ],
         "geo": "geo",
         "hovertemplate": "Sales=$25,029,830<br>Country=%{location}<extra></extra>",
         "locationmode": "country names",
         "locations": [
          "United States of America"
         ],
         "name": "$25,029,830",
         "showlegend": true,
         "showscale": false,
         "type": "choropleth",
         "z": [
          1
         ]
        }
       ],
       "layout": {
        "geo": {
         "center": {},
         "domain": {
          "x": [
           0,
           1
          ],
          "y": [
           0,
           1
          ]
         },
         "showcoastlines": true,
         "showframe": false
        },
        "legend": {
         "title": {
          "text": "Sales"
         },
         "tracegroupgap": 0
        },
        "template": {
         "data": {
          "bar": [
           {
            "error_x": {
             "color": "#2a3f5f"
            },
            "error_y": {
             "color": "#2a3f5f"
            },
            "marker": {
             "line": {
              "color": "#E5ECF6",
              "width": 0.5
             },
             "pattern": {
              "fillmode": "overlay",
              "size": 10,
              "solidity": 0.2
             }
            },
            "type": "bar"
           }
          ],
          "barpolar": [
           {
            "marker": {
             "line": {
              "color": "#E5ECF6",
              "width": 0.5
             },
             "pattern": {
              "fillmode": "overlay",
              "size": 10,
              "solidity": 0.2
             }
            },
            "type": "barpolar"
           }
          ],
          "carpet": [
           {
            "aaxis": {
             "endlinecolor": "#2a3f5f",
             "gridcolor": "white",
             "linecolor": "white",
             "minorgridcolor": "white",
             "startlinecolor": "#2a3f5f"
            },
            "baxis": {
             "endlinecolor": "#2a3f5f",
             "gridcolor": "white",
             "linecolor": "white",
             "minorgridcolor": "white",
             "startlinecolor": "#2a3f5f"
            },
            "type": "carpet"
           }
          ],
          "choropleth": [
           {
            "colorbar": {
             "outlinewidth": 0,
             "ticks": ""
            },
            "type": "choropleth"
           }
          ],
          "contour": [
           {
            "colorbar": {
             "outlinewidth": 0,
             "ticks": ""
            },
            "colorscale": [
             [
              0,
              "#0d0887"
             ],
             [
              0.1111111111111111,
              "#46039f"
             ],
             [
              0.2222222222222222,
              "#7201a8"
             ],
             [
              0.3333333333333333,
              "#9c179e"
             ],
             [
              0.4444444444444444,
              "#bd3786"
             ],
             [
              0.5555555555555556,
              "#d8576b"
             ],
             [
              0.6666666666666666,
              "#ed7953"
             ],
             [
              0.7777777777777778,
              "#fb9f3a"
             ],
             [
              0.8888888888888888,
              "#fdca26"
             ],
             [
              1,
              "#f0f921"
             ]
            ],
            "type": "contour"
           }
          ],
          "contourcarpet": [
           {
            "colorbar": {
             "outlinewidth": 0,
             "ticks": ""
            },
            "type": "contourcarpet"
           }
          ],
          "heatmap": [
           {
            "colorbar": {
             "outlinewidth": 0,
             "ticks": ""
            },
            "colorscale": [
             [
              0,
              "#0d0887"
             ],
             [
              0.1111111111111111,
              "#46039f"
             ],
             [
              0.2222222222222222,
              "#7201a8"
             ],
             [
              0.3333333333333333,
              "#9c179e"
             ],
             [
              0.4444444444444444,
              "#bd3786"
             ],
             [
              0.5555555555555556,
              "#d8576b"
             ],
             [
              0.6666666666666666,
              "#ed7953"
             ],
             [
              0.7777777777777778,
              "#fb9f3a"
             ],
             [
              0.8888888888888888,
              "#fdca26"
             ],
             [
              1,
              "#f0f921"
             ]
            ],
            "type": "heatmap"
           }
          ],
          "histogram": [
           {
            "marker": {
             "pattern": {
              "fillmode": "overlay",
              "size": 10,
              "solidity": 0.2
             }
            },
            "type": "histogram"
           }
          ],
          "histogram2d": [
           {
            "colorbar": {
             "outlinewidth": 0,
             "ticks": ""
            },
            "colorscale": [
             [
              0,
              "#0d0887"
             ],
             [
              0.1111111111111111,
              "#46039f"
             ],
             [
              0.2222222222222222,
              "#7201a8"
             ],
             [
              0.3333333333333333,
              "#9c179e"
             ],
             [
              0.4444444444444444,
              "#bd3786"
             ],
             [
              0.5555555555555556,
              "#d8576b"
             ],
             [
              0.6666666666666666,
              "#ed7953"
             ],
             [
              0.7777777777777778,
              "#fb9f3a"
             ],
             [
              0.8888888888888888,
              "#fdca26"
             ],
             [
              1,
              "#f0f921"
             ]
            ],
            "type": "histogram2d"
           }
          ],
          "histogram2dcontour": [
           {
            "colorbar": {
             "outlinewidth": 0,
             "ticks": ""
            },
            "colorscale": [
             [
              0,
              "#0d0887"
             ],
             [
              0.1111111111111111,
              "#46039f"
             ],
             [
              0.2222222222222222,
              "#7201a8"
             ],
             [
              0.3333333333333333,
              "#9c179e"
             ],
             [
              0.4444444444444444,
              "#bd3786"
             ],
             [
              0.5555555555555556,
              "#d8576b"
             ],
             [
              0.6666666666666666,
              "#ed7953"
             ],
             [
              0.7777777777777778,
              "#fb9f3a"
             ],
             [
              0.8888888888888888,
              "#fdca26"
             ],
             [
              1,
              "#f0f921"
             ]
            ],
            "type": "histogram2dcontour"
           }
          ],
          "mesh3d": [
           {
            "colorbar": {
             "outlinewidth": 0,
             "ticks": ""
            },
            "type": "mesh3d"
           }
          ],
          "parcoords": [
           {
            "line": {
             "colorbar": {
              "outlinewidth": 0,
              "ticks": ""
             }
            },
            "type": "parcoords"
           }
          ],
          "pie": [
           {
            "automargin": true,
            "type": "pie"
           }
          ],
          "scatter": [
           {
            "fillpattern": {
             "fillmode": "overlay",
             "size": 10,
             "solidity": 0.2
            },
            "type": "scatter"
           }
          ],
          "scatter3d": [
           {
            "line": {
             "colorbar": {
              "outlinewidth": 0,
              "ticks": ""
             }
            },
            "marker": {
             "colorbar": {
              "outlinewidth": 0,
              "ticks": ""
             }
            },
            "type": "scatter3d"
           }
          ],
          "scattercarpet": [
           {
            "marker": {
             "colorbar": {
              "outlinewidth": 0,
              "ticks": ""
             }
            },
            "type": "scattercarpet"
           }
          ],
          "scattergeo": [
           {
            "marker": {
             "colorbar": {
              "outlinewidth": 0,
              "ticks": ""
             }
            },
            "type": "scattergeo"
           }
          ],
          "scattergl": [
           {
            "marker": {
             "colorbar": {
              "outlinewidth": 0,
              "ticks": ""
             }
            },
            "type": "scattergl"
           }
          ],
          "scattermap": [
           {
            "marker": {
             "colorbar": {
              "outlinewidth": 0,
              "ticks": ""
             }
            },
            "type": "scattermap"
           }
          ],
          "scattermapbox": [
           {
            "marker": {
             "colorbar": {
              "outlinewidth": 0,
              "ticks": ""
             }
            },
            "type": "scattermapbox"
           }
          ],
          "scatterpolar": [
           {
            "marker": {
             "colorbar": {
              "outlinewidth": 0,
              "ticks": ""
             }
            },
            "type": "scatterpolar"
           }
          ],
          "scatterpolargl": [
           {
            "marker": {
             "colorbar": {
              "outlinewidth": 0,
              "ticks": ""
             }
            },
            "type": "scatterpolargl"
           }
          ],
          "scatterternary": [
           {
            "marker": {
             "colorbar": {
              "outlinewidth": 0,
              "ticks": ""
             }
            },
            "type": "scatterternary"
           }
          ],
          "surface": [
           {
            "colorbar": {
             "outlinewidth": 0,
             "ticks": ""
            },
            "colorscale": [
             [
              0,
              "#0d0887"
             ],
             [
              0.1111111111111111,
              "#46039f"
             ],
             [
              0.2222222222222222,
              "#7201a8"
             ],
             [
              0.3333333333333333,
              "#9c179e"
             ],
             [
              0.4444444444444444,
              "#bd3786"
             ],
             [
              0.5555555555555556,
              "#d8576b"
             ],
             [
              0.6666666666666666,
              "#ed7953"
             ],
             [
              0.7777777777777778,
              "#fb9f3a"
             ],
             [
              0.8888888888888888,
              "#fdca26"
             ],
             [
              1,
              "#f0f921"
             ]
            ],
            "type": "surface"
           }
          ],
          "table": [
           {
            "cells": {
             "fill": {
              "color": "#EBF0F8"
             },
             "line": {
              "color": "white"
             }
            },
            "header": {
             "fill": {
              "color": "#C8D4E3"
             },
             "line": {
              "color": "white"
             }
            },
            "type": "table"
           }
          ]
         },
         "layout": {
          "annotationdefaults": {
           "arrowcolor": "#2a3f5f",
           "arrowhead": 0,
           "arrowwidth": 1
          },
          "autotypenumbers": "strict",
          "coloraxis": {
           "colorbar": {
            "outlinewidth": 0,
            "ticks": ""
           }
          },
          "colorscale": {
           "diverging": [
            [
             0,
             "#8e0152"
            ],
            [
             0.1,
             "#c51b7d"
            ],
            [
             0.2,
             "#de77ae"
            ],
            [
             0.3,
             "#f1b6da"
            ],
            [
             0.4,
             "#fde0ef"
            ],
            [
             0.5,
             "#f7f7f7"
            ],
            [
             0.6,
             "#e6f5d0"
            ],
            [
             0.7,
             "#b8e186"
            ],
            [
             0.8,
             "#7fbc41"
            ],
            [
             0.9,
             "#4d9221"
            ],
            [
             1,
             "#276419"
            ]
           ],
           "sequential": [
            [
             0,
             "#0d0887"
            ],
            [
             0.1111111111111111,
             "#46039f"
            ],
            [
             0.2222222222222222,
             "#7201a8"
            ],
            [
             0.3333333333333333,
             "#9c179e"
            ],
            [
             0.4444444444444444,
             "#bd3786"
            ],
            [
             0.5555555555555556,
             "#d8576b"
            ],
            [
             0.6666666666666666,
             "#ed7953"
            ],
            [
             0.7777777777777778,
             "#fb9f3a"
            ],
            [
             0.8888888888888888,
             "#fdca26"
            ],
            [
             1,
             "#f0f921"
            ]
           ],
           "sequentialminus": [
            [
             0,
             "#0d0887"
            ],
            [
             0.1111111111111111,
             "#46039f"
            ],
            [
             0.2222222222222222,
             "#7201a8"
            ],
            [
             0.3333333333333333,
             "#9c179e"
            ],
            [
             0.4444444444444444,
             "#bd3786"
            ],
            [
             0.5555555555555556,
             "#d8576b"
            ],
            [
             0.6666666666666666,
             "#ed7953"
            ],
            [
             0.7777777777777778,
             "#fb9f3a"
            ],
            [
             0.8888888888888888,
             "#fdca26"
            ],
            [
             1,
             "#f0f921"
            ]
           ]
          },
          "colorway": [
           "#636efa",
           "#EF553B",
           "#00cc96",
           "#ab63fa",
           "#FFA15A",
           "#19d3f3",
           "#FF6692",
           "#B6E880",
           "#FF97FF",
           "#FECB52"
          ],
          "font": {
           "color": "#2a3f5f"
          },
          "geo": {
           "bgcolor": "white",
           "lakecolor": "white",
           "landcolor": "#E5ECF6",
           "showlakes": true,
           "showland": true,
           "subunitcolor": "white"
          },
          "hoverlabel": {
           "align": "left"
          },
          "hovermode": "closest",
          "mapbox": {
           "style": "light"
          },
          "paper_bgcolor": "white",
          "plot_bgcolor": "#E5ECF6",
          "polar": {
           "angularaxis": {
            "gridcolor": "white",
            "linecolor": "white",
            "ticks": ""
           },
           "bgcolor": "#E5ECF6",
           "radialaxis": {
            "gridcolor": "white",
            "linecolor": "white",
            "ticks": ""
           }
          },
          "scene": {
           "xaxis": {
            "backgroundcolor": "#E5ECF6",
            "gridcolor": "white",
            "gridwidth": 2,
            "linecolor": "white",
            "showbackground": true,
            "ticks": "",
            "zerolinecolor": "white"
           },
           "yaxis": {
            "backgroundcolor": "#E5ECF6",
            "gridcolor": "white",
            "gridwidth": 2,
            "linecolor": "white",
            "showbackground": true,
            "ticks": "",
            "zerolinecolor": "white"
           },
           "zaxis": {
            "backgroundcolor": "#E5ECF6",
            "gridcolor": "white",
            "gridwidth": 2,
            "linecolor": "white",
            "showbackground": true,
            "ticks": "",
            "zerolinecolor": "white"
           }
          },
          "shapedefaults": {
           "line": {
            "color": "#2a3f5f"
           }
          },
          "ternary": {
           "aaxis": {
            "gridcolor": "white",
            "linecolor": "white",
            "ticks": ""
           },
           "baxis": {
            "gridcolor": "white",
            "linecolor": "white",
            "ticks": ""
           },
           "bgcolor": "#E5ECF6",
           "caxis": {
            "gridcolor": "white",
            "linecolor": "white",
            "ticks": ""
           }
          },
          "title": {
           "x": 0.05
          },
          "xaxis": {
           "automargin": true,
           "gridcolor": "white",
           "linecolor": "white",
           "ticks": "",
           "title": {
            "standoff": 15
           },
           "zerolinecolor": "white",
           "zerolinewidth": 2
          },
          "yaxis": {
           "automargin": true,
           "gridcolor": "white",
           "linecolor": "white",
           "ticks": "",
           "title": {
            "standoff": 15
           },
           "zerolinecolor": "white",
           "zerolinewidth": 2
          }
         }
        },
        "title": {
         "text": "Sales by Country"
        }
       }
      }
     },
     "metadata": {},
     "output_type": "display_data"
    }
   ],
   "source": [
    "# Creating a map chart using Plotly Express\n",
    "fig = px.choropleth(df_country_sales, \n",
    "                    locations='Country', \n",
    "                    locationmode='country names', \n",
    "                    color='Sales', \n",
    "                    title='Sales by Country',\n",
    "                    color_continuous_scale=px.colors.sequential.Plasma)\n",
    "fig.update_layout(geo=dict(showframe=False, showcoastlines=True))\n",
    "fig.show()"
   ]
  },
  {
   "cell_type": "code",
   "execution_count": 49,
   "id": "5212b918",
   "metadata": {},
   "outputs": [
    {
     "data": {
      "application/vnd.microsoft.datawrangler.viewer.v0+json": {
       "columns": [
        {
         "name": "index",
         "rawType": "int64",
         "type": "integer"
        },
        {
         "name": "Country",
         "rawType": "object",
         "type": "string"
        },
        {
         "name": "Profit",
         "rawType": "object",
         "type": "string"
        }
       ],
       "conversionMethod": "pd.DataFrame",
       "ref": "54e5cc31-f9de-47c1-91f0-b213faa22db9",
       "rows": [
        [
         "3",
         "Mexico",
         "$2,907,523.11"
        ],
        [
         "4",
         "United States of America",
         "$2,995,540.68"
        ],
        [
         "0",
         "Canada",
         "$3,529,228.89"
        ],
        [
         "2",
         "Germany",
         "$3,680,388.82"
        ],
        [
         "1",
         "France",
         "$3,781,020.79"
        ]
       ],
       "shape": {
        "columns": 2,
        "rows": 5
       }
      },
      "text/html": [
       "<div>\n",
       "<style scoped>\n",
       "    .dataframe tbody tr th:only-of-type {\n",
       "        vertical-align: middle;\n",
       "    }\n",
       "\n",
       "    .dataframe tbody tr th {\n",
       "        vertical-align: top;\n",
       "    }\n",
       "\n",
       "    .dataframe thead th {\n",
       "        text-align: right;\n",
       "    }\n",
       "</style>\n",
       "<table border=\"1\" class=\"dataframe\">\n",
       "  <thead>\n",
       "    <tr style=\"text-align: right;\">\n",
       "      <th></th>\n",
       "      <th>Country</th>\n",
       "      <th>Profit</th>\n",
       "    </tr>\n",
       "  </thead>\n",
       "  <tbody>\n",
       "    <tr>\n",
       "      <th>3</th>\n",
       "      <td>Mexico</td>\n",
       "      <td>$2,907,523.11</td>\n",
       "    </tr>\n",
       "    <tr>\n",
       "      <th>4</th>\n",
       "      <td>United States of America</td>\n",
       "      <td>$2,995,540.68</td>\n",
       "    </tr>\n",
       "    <tr>\n",
       "      <th>0</th>\n",
       "      <td>Canada</td>\n",
       "      <td>$3,529,228.89</td>\n",
       "    </tr>\n",
       "    <tr>\n",
       "      <th>2</th>\n",
       "      <td>Germany</td>\n",
       "      <td>$3,680,388.82</td>\n",
       "    </tr>\n",
       "    <tr>\n",
       "      <th>1</th>\n",
       "      <td>France</td>\n",
       "      <td>$3,781,020.79</td>\n",
       "    </tr>\n",
       "  </tbody>\n",
       "</table>\n",
       "</div>"
      ],
      "text/plain": [
       "                    Country         Profit\n",
       "3                    Mexico  $2,907,523.11\n",
       "4  United States of America  $2,995,540.68\n",
       "0                    Canada  $3,529,228.89\n",
       "2                   Germany  $3,680,388.82\n",
       "1                    France  $3,781,020.79"
      ]
     },
     "execution_count": 49,
     "metadata": {},
     "output_type": "execute_result"
    }
   ],
   "source": [
    "df_country_profit  = df.groupby('Country').agg({'Profit': 'sum'}).reset_index()\n",
    "df_country_profit = df_country_profit.sort_values(by='Profit', ascending=True)\n",
    "\n",
    "# Displaying the results grouped dataframe\n",
    "df_country_profit['Profit'] = df_country_profit['Profit'].apply(lambda x: f\"${x:,.2f}\")\n",
    "df_country_profit"
   ]
  },
  {
   "cell_type": "code",
   "execution_count": 50,
   "id": "c0b11a48",
   "metadata": {},
   "outputs": [
    {
     "data": {
      "image/png": "[encoded data removed]",
      "text/plain": [
       "<Figure size 1200x600 with 1 Axes>"
      ]
     },
     "metadata": {},
     "output_type": "display_data"
    }
   ],
   "source": [
    "# Creating a bar plot for Profit based on the countries using Plotly Express\n",
    "\n",
    "# Creating the horizontal bar chart\n",
    "fig, ax = plt.subplots(figsize=(12, 6))\n",
    "bars = ax.barh(df_country_profit['Country'], df_country_profit['Profit'], color='skyblue')\n",
    "\n",
    "# Adding images to the end of each bar\n",
    "for bar, country in zip(bars, df_country_profit['Country']):\n",
    "    if country in country_images:\n",
    "        img_path = country_images[country]\n",
    "        img = Image.open(img_path)\n",
    "        imagebox = OffsetImage(img, zoom=0.15)  # Adjust zoom as needed\n",
    "        ab = AnnotationBbox(imagebox, (bar.get_width(), bar.get_y() + bar.get_height() / 2),\n",
    "                            frameon=False, box_alignment=(0, 0.5))\n",
    "        ax.add_artist(ab)\n",
    "\n",
    "# Adding labels and title\n",
    "ax.set_xlabel('Sales')\n",
    "ax.set_title('Profit by Country with Images')\n",
    "plt.tight_layout()\n",
    "plt.show()"
   ]
  },
  {
   "cell_type": "code",
   "execution_count": 51,
   "id": "2c575dad",
   "metadata": {},
   "outputs": [
    {
     "data": {
      "application/vnd.plotly.v1+json": {
       "config": {
        "plotlyServerURL": "https://plot.ly"
       },
       "data": [
        {
         "colorscale": [
          [
           0,
           "#636efa"
          ],
          [
           1,
           "#636efa"
          ]
         ],
         "geo": "geo",
         "hovertemplate": "Profit=$2,907,523.11<br>Country=%{location}<extra></extra>",
         "locationmode": "country names",
         "locations": [
          "Mexico"
         ],
         "name": "$2,907,523.11",
         "showlegend": true,
         "showscale": false,
         "type": "choropleth",
         "z": [
          1
         ]
        },
        {
         "colorscale": [
          [
           0,
           "#EF553B"
          ],
          [
           1,
           "#EF553B"
          ]
         ],
         "geo": "geo",
         "hovertemplate": "Profit=$2,995,540.68<br>Country=%{location}<extra></extra>",
         "locationmode": "country names",
         "locations": [
          "United States of America"
         ],
         "name": "$2,995,540.68",
         "showlegend": true,
         "showscale": false,
         "type": "choropleth",
         "z": [
          1
         ]
        },
        {
         "colorscale": [
          [
           0,
           "#00cc96"
          ],
          [
           1,
           "#00cc96"
          ]
         ],
         "geo": "geo",
         "hovertemplate": "Profit=$3,529,228.89<br>Country=%{location}<extra></extra>",
         "locationmode": "country names",
         "locations": [
          "Canada"
         ],
         "name": "$3,529,228.89",
         "showlegend": true,
         "showscale": false,
         "type": "choropleth",
         "z": [
          1
         ]
        },
        {
         "colorscale": [
          [
           0,
           "#ab63fa"
          ],
          [
           1,
           "#ab63fa"
          ]
         ],
         "geo": "geo",
         "hovertemplate": "Profit=$3,680,388.82<br>Country=%{location}<extra></extra>",
         "locationmode": "country names",
         "locations": [
          "Germany"
         ],
         "name": "$3,680,388.82",
         "showlegend": true,
         "showscale": false,
         "type": "choropleth",
         "z": [
          1
         ]
        },
        {
         "colorscale": [
          [
           0,
           "#FFA15A"
          ],
          [
           1,
           "#FFA15A"
          ]
         ],
         "geo": "geo",
         "hovertemplate": "Profit=$3,781,020.79<br>Country=%{location}<extra></extra>",
         "locationmode": "country names",
         "locations": [
          "France"
         ],
         "name": "$3,781,020.79",
         "showlegend": true,
         "showscale": false,
         "type": "choropleth",
         "z": [
          1
         ]
        }
       ],
       "layout": {
        "geo": {
         "center": {},
         "domain": {
          "x": [
           0,
           1
          ],
          "y": [
           0,
           1
          ]
         },
         "showcoastlines": true,
         "showframe": false
        },
        "legend": {
         "title": {
          "text": "Profit"
         },
         "tracegroupgap": 0
        },
        "template": {
         "data": {
          "bar": [
           {
            "error_x": {
             "color": "#2a3f5f"
            },
            "error_y": {
             "color": "#2a3f5f"
            },
            "marker": {
             "line": {
              "color": "#E5ECF6",
              "width": 0.5
             },
             "pattern": {
              "fillmode": "overlay",
              "size": 10,
              "solidity": 0.2
             }
            },
            "type": "bar"
           }
          ],
          "barpolar": [
           {
            "marker": {
             "line": {
              "color": "#E5ECF6",
              "width": 0.5
             },
             "pattern": {
              "fillmode": "overlay",
              "size": 10,
              "solidity": 0.2
             }
            },
            "type": "barpolar"
           }
          ],
          "carpet": [
           {
            "aaxis": {
             "endlinecolor": "#2a3f5f",
             "gridcolor": "white",
             "linecolor": "white",
             "minorgridcolor": "white",
             "startlinecolor": "#2a3f5f"
            },
            "baxis": {
             "endlinecolor": "#2a3f5f",
             "gridcolor": "white",
             "linecolor": "white",
             "minorgridcolor": "white",
             "startlinecolor": "#2a3f5f"
            },
            "type": "carpet"
           }
          ],
          "choropleth": [
           {
            "colorbar": {
             "outlinewidth": 0,
             "ticks": ""
            },
            "type": "choropleth"
           }
          ],
          "contour": [
           {
            "colorbar": {
             "outlinewidth": 0,
             "ticks": ""
            },
            "colorscale": [
             [
              0,
              "#0d0887"
             ],
             [
              0.1111111111111111,
              "#46039f"
             ],
             [
              0.2222222222222222,
              "#7201a8"
             ],
             [
              0.3333333333333333,
              "#9c179e"
             ],
             [
              0.4444444444444444,
              "#bd3786"
             ],
             [
              0.5555555555555556,
              "#d8576b"
             ],
             [
              0.6666666666666666,
              "#ed7953"
             ],
             [
              0.7777777777777778,
              "#fb9f3a"
             ],
             [
              0.8888888888888888,
              "#fdca26"
             ],
             [
              1,
              "#f0f921"
             ]
            ],
            "type": "contour"
           }
          ],
          "contourcarpet": [
           {
            "colorbar": {
             "outlinewidth": 0,
             "ticks": ""
            },
            "type": "contourcarpet"
           }
          ],
          "heatmap": [
           {
            "colorbar": {
             "outlinewidth": 0,
             "ticks": ""
            },
            "colorscale": [
             [
              0,
              "#0d0887"
             ],
             [
              0.1111111111111111,
              "#46039f"
             ],
             [
              0.2222222222222222,
              "#7201a8"
             ],
             [
              0.3333333333333333,
              "#9c179e"
             ],
             [
              0.4444444444444444,
              "#bd3786"
             ],
             [
              0.5555555555555556,
              "#d8576b"
             ],
             [
              0.6666666666666666,
              "#ed7953"
             ],
             [
              0.7777777777777778,
              "#fb9f3a"
             ],
             [
              0.8888888888888888,
              "#fdca26"
             ],
             [
              1,
              "#f0f921"
             ]
            ],
            "type": "heatmap"
           }
          ],
          "histogram": [
           {
            "marker": {
             "pattern": {
              "fillmode": "overlay",
              "size": 10,
              "solidity": 0.2
             }
            },
            "type": "histogram"
           }
          ],
          "histogram2d": [
           {
            "colorbar": {
             "outlinewidth": 0,
             "ticks": ""
            },
            "colorscale": [
             [
              0,
              "#0d0887"
             ],
             [
              0.1111111111111111,
              "#46039f"
             ],
             [
              0.2222222222222222,
              "#7201a8"
             ],
             [
              0.3333333333333333,
              "#9c179e"
             ],
             [
              0.4444444444444444,
              "#bd3786"
             ],
             [
              0.5555555555555556,
              "#d8576b"
             ],
             [
              0.6666666666666666,
              "#ed7953"
             ],
             [
              0.7777777777777778,
              "#fb9f3a"
             ],
             [
              0.8888888888888888,
              "#fdca26"
             ],
             [
              1,
              "#f0f921"
             ]
            ],
            "type": "histogram2d"
           }
          ],
          "histogram2dcontour": [
           {
            "colorbar": {
             "outlinewidth": 0,
             "ticks": ""
            },
            "colorscale": [
             [
              0,
              "#0d0887"
             ],
             [
              0.1111111111111111,
              "#46039f"
             ],
             [
              0.2222222222222222,
              "#7201a8"
             ],
             [
              0.3333333333333333,
              "#9c179e"
             ],
             [
              0.4444444444444444,
              "#bd3786"
             ],
             [
              0.5555555555555556,
              "#d8576b"
             ],
             [
              0.6666666666666666,
              "#ed7953"
             ],
             [
              0.7777777777777778,
              "#fb9f3a"
             ],
             [
              0.8888888888888888,
              "#fdca26"
             ],
             [
              1,
              "#f0f921"
             ]
            ],
            "type": "histogram2dcontour"
           }
          ],
          "mesh3d": [
           {
            "colorbar": {
             "outlinewidth": 0,
             "ticks": ""
            },
            "type": "mesh3d"
           }
          ],
          "parcoords": [
           {
            "line": {
             "colorbar": {
              "outlinewidth": 0,
              "ticks": ""
             }
            },
            "type": "parcoords"
           }
          ],
          "pie": [
           {
            "automargin": true,
            "type": "pie"
           }
          ],
          "scatter": [
           {
            "fillpattern": {
             "fillmode": "overlay",
             "size": 10,
             "solidity": 0.2
            },
            "type": "scatter"
           }
          ],
          "scatter3d": [
           {
            "line": {
             "colorbar": {
              "outlinewidth": 0,
              "ticks": ""
             }
            },
            "marker": {
             "colorbar": {
              "outlinewidth": 0,
              "ticks": ""
             }
            },
            "type": "scatter3d"
           }
          ],
          "scattercarpet": [
           {
            "marker": {
             "colorbar": {
              "outlinewidth": 0,
              "ticks": ""
             }
            },
            "type": "scattercarpet"
           }
          ],
          "scattergeo": [
           {
            "marker": {
             "colorbar": {
              "outlinewidth": 0,
              "ticks": ""
             }
            },
            "type": "scattergeo"
           }
          ],
          "scattergl": [
           {
            "marker": {
             "colorbar": {
              "outlinewidth": 0,
              "ticks": ""
             }
            },
            "type": "scattergl"
           }
          ],
          "scattermap": [
           {
            "marker": {
             "colorbar": {
              "outlinewidth": 0,
              "ticks": ""
             }
            },
            "type": "scattermap"
           }
          ],
          "scattermapbox": [
           {
            "marker": {
             "colorbar": {
              "outlinewidth": 0,
              "ticks": ""
             }
            },
            "type": "scattermapbox"
           }
          ],
          "scatterpolar": [
           {
            "marker": {
             "colorbar": {
              "outlinewidth": 0,
              "ticks": ""
             }
            },
            "type": "scatterpolar"
           }
          ],
          "scatterpolargl": [
           {
            "marker": {
             "colorbar": {
              "outlinewidth": 0,
              "ticks": ""
             }
            },
            "type": "scatterpolargl"
           }
          ],
          "scatterternary": [
           {
            "marker": {
             "colorbar": {
              "outlinewidth": 0,
              "ticks": ""
             }
            },
            "type": "scatterternary"
           }
          ],
          "surface": [
           {
            "colorbar": {
             "outlinewidth": 0,
             "ticks": ""
            },
            "colorscale": [
             [
              0,
              "#0d0887"
             ],
             [
              0.1111111111111111,
              "#46039f"
             ],
             [
              0.2222222222222222,
              "#7201a8"
             ],
             [
              0.3333333333333333,
              "#9c179e"
             ],
             [
              0.4444444444444444,
              "#bd3786"
             ],
             [
              0.5555555555555556,
              "#d8576b"
             ],
             [
              0.6666666666666666,
              "#ed7953"
             ],
             [
              0.7777777777777778,
              "#fb9f3a"
             ],
             [
              0.8888888888888888,
              "#fdca26"
             ],
             [
              1,
              "#f0f921"
             ]
            ],
            "type": "surface"
           }
          ],
          "table": [
           {
            "cells": {
             "fill": {
              "color": "#EBF0F8"
             },
             "line": {
              "color": "white"
             }
            },
            "header": {
             "fill": {
              "color": "#C8D4E3"
             },
             "line": {
              "color": "white"
             }
            },
            "type": "table"
           }
          ]
         },
         "layout": {
          "annotationdefaults": {
           "arrowcolor": "#2a3f5f",
           "arrowhead": 0,
           "arrowwidth": 1
          },
          "autotypenumbers": "strict",
          "coloraxis": {
           "colorbar": {
            "outlinewidth": 0,
            "ticks": ""
           }
          },
          "colorscale": {
           "diverging": [
            [
             0,
             "#8e0152"
            ],
            [
             0.1,
             "#c51b7d"
            ],
            [
             0.2,
             "#de77ae"
            ],
            [
             0.3,
             "#f1b6da"
            ],
            [
             0.4,
             "#fde0ef"
            ],
            [
             0.5,
             "#f7f7f7"
            ],
            [
             0.6,
             "#e6f5d0"
            ],
            [
             0.7,
             "#b8e186"
            ],
            [
             0.8,
             "#7fbc41"
            ],
            [
             0.9,
             "#4d9221"
            ],
            [
             1,
             "#276419"
            ]
           ],
           "sequential": [
            [
             0,
             "#0d0887"
            ],
            [
             0.1111111111111111,
             "#46039f"
            ],
            [
             0.2222222222222222,
             "#7201a8"
            ],
            [
             0.3333333333333333,
             "#9c179e"
            ],
            [
             0.4444444444444444,
             "#bd3786"
            ],
            [
             0.5555555555555556,
             "#d8576b"
            ],
            [
             0.6666666666666666,
             "#ed7953"
            ],
            [
             0.7777777777777778,
             "#fb9f3a"
            ],
            [
             0.8888888888888888,
             "#fdca26"
            ],
            [
             1,
             "#f0f921"
            ]
           ],
           "sequentialminus": [
            [
             0,
             "#0d0887"
            ],
            [
             0.1111111111111111,
             "#46039f"
            ],
            [
             0.2222222222222222,
             "#7201a8"
            ],
            [
             0.3333333333333333,
             "#9c179e"
            ],
            [
             0.4444444444444444,
             "#bd3786"
            ],
            [
             0.5555555555555556,
             "#d8576b"
            ],
            [
             0.6666666666666666,
             "#ed7953"
            ],
            [
             0.7777777777777778,
             "#fb9f3a"
            ],
            [
             0.8888888888888888,
             "#fdca26"
            ],
            [
             1,
             "#f0f921"
            ]
           ]
          },
          "colorway": [
           "#636efa",
           "#EF553B",
           "#00cc96",
           "#ab63fa",
           "#FFA15A",
           "#19d3f3",
           "#FF6692",
           "#B6E880",
           "#FF97FF",
           "#FECB52"
          ],
          "font": {
           "color": "#2a3f5f"
          },
          "geo": {
           "bgcolor": "white",
           "lakecolor": "white",
           "landcolor": "#E5ECF6",
           "showlakes": true,
           "showland": true,
           "subunitcolor": "white"
          },
          "hoverlabel": {
           "align": "left"
          },
          "hovermode": "closest",
          "mapbox": {
           "style": "light"
          },
          "paper_bgcolor": "white",
          "plot_bgcolor": "#E5ECF6",
          "polar": {
           "angularaxis": {
            "gridcolor": "white",
            "linecolor": "white",
            "ticks": ""
           },
           "bgcolor": "#E5ECF6",
           "radialaxis": {
            "gridcolor": "white",
            "linecolor": "white",
            "ticks": ""
           }
          },
          "scene": {
           "xaxis": {
            "backgroundcolor": "#E5ECF6",
            "gridcolor": "white",
            "gridwidth": 2,
            "linecolor": "white",
            "showbackground": true,
            "ticks": "",
            "zerolinecolor": "white"
           },
           "yaxis": {
            "backgroundcolor": "#E5ECF6",
            "gridcolor": "white",
            "gridwidth": 2,
            "linecolor": "white",
            "showbackground": true,
            "ticks": "",
            "zerolinecolor": "white"
           },
           "zaxis": {
            "backgroundcolor": "#E5ECF6",
            "gridcolor": "white",
            "gridwidth": 2,
            "linecolor": "white",
            "showbackground": true,
            "ticks": "",
            "zerolinecolor": "white"
           }
          },
          "shapedefaults": {
           "line": {
            "color": "#2a3f5f"
           }
          },
          "ternary": {
           "aaxis": {
            "gridcolor": "white",
            "linecolor": "white",
            "ticks": ""
           },
           "baxis": {
            "gridcolor": "white",
            "linecolor": "white",
            "ticks": ""
           },
           "bgcolor": "#E5ECF6",
           "caxis": {
            "gridcolor": "white",
            "linecolor": "white",
            "ticks": ""
           }
          },
          "title": {
           "x": 0.05
          },
          "xaxis": {
           "automargin": true,
           "gridcolor": "white",
           "linecolor": "white",
           "ticks": "",
           "title": {
            "standoff": 15
           },
           "zerolinecolor": "white",
           "zerolinewidth": 2
          },
          "yaxis": {
           "automargin": true,
           "gridcolor": "white",
           "linecolor": "white",
           "ticks": "",
           "title": {
            "standoff": 15
           },
           "zerolinecolor": "white",
           "zerolinewidth": 2
          }
         }
        },
        "title": {
         "text": "Profit by Country"
        }
       }
      }
     },
     "metadata": {},
     "output_type": "display_data"
    }
   ],
   "source": [
    "# Creating a map chart using Plotly Express\n",
    "fig = px.choropleth(df_country_profit, \n",
    "                    locations='Country', \n",
    "                    locationmode='country names', \n",
    "                    color='Profit', \n",
    "                    title='Profit by Country',\n",
    "                    color_continuous_scale=px.colors.sequential.Plasma)\n",
    "fig.update_layout(geo=dict(showframe=False, showcoastlines=True))\n",
    "fig.show()"
   ]
  },
  {
   "cell_type": "code",
   "execution_count": 52,
   "id": "438f4c91",
   "metadata": {},
   "outputs": [
    {
     "data": {
      "application/vnd.microsoft.datawrangler.viewer.v0+json": {
       "columns": [
        {
         "name": "index",
         "rawType": "int64",
         "type": "integer"
        },
        {
         "name": "Country",
         "rawType": "object",
         "type": "string"
        },
        {
         "name": "Profit",
         "rawType": "object",
         "type": "string"
        },
        {
         "name": "Highlight",
         "rawType": "object",
         "type": "string"
        }
       ],
       "conversionMethod": "pd.DataFrame",
       "ref": "577b1999-551f-434b-8d22-69697e383913",
       "rows": [
        [
         "3",
         "Mexico",
         "$2,907,523.11",
         "Min Profit"
        ],
        [
         "4",
         "United States of America",
         "$2,995,540.68",
         "Normal"
        ],
        [
         "0",
         "Canada",
         "$3,529,228.89",
         "Normal"
        ],
        [
         "2",
         "Germany",
         "$3,680,388.82",
         "Normal"
        ],
        [
         "1",
         "France",
         "$3,781,020.79",
         "Max Profit"
        ]
       ],
       "shape": {
        "columns": 3,
        "rows": 5
       }
      },
      "text/html": [
       "<div>\n",
       "<style scoped>\n",
       "    .dataframe tbody tr th:only-of-type {\n",
       "        vertical-align: middle;\n",
       "    }\n",
       "\n",
       "    .dataframe tbody tr th {\n",
       "        vertical-align: top;\n",
       "    }\n",
       "\n",
       "    .dataframe thead th {\n",
       "        text-align: right;\n",
       "    }\n",
       "</style>\n",
       "<table border=\"1\" class=\"dataframe\">\n",
       "  <thead>\n",
       "    <tr style=\"text-align: right;\">\n",
       "      <th></th>\n",
       "      <th>Country</th>\n",
       "      <th>Profit</th>\n",
       "      <th>Highlight</th>\n",
       "    </tr>\n",
       "  </thead>\n",
       "  <tbody>\n",
       "    <tr>\n",
       "      <th>3</th>\n",
       "      <td>Mexico</td>\n",
       "      <td>$2,907,523.11</td>\n",
       "      <td>Min Profit</td>\n",
       "    </tr>\n",
       "    <tr>\n",
       "      <th>4</th>\n",
       "      <td>United States of America</td>\n",
       "      <td>$2,995,540.68</td>\n",
       "      <td>Normal</td>\n",
       "    </tr>\n",
       "    <tr>\n",
       "      <th>0</th>\n",
       "      <td>Canada</td>\n",
       "      <td>$3,529,228.89</td>\n",
       "      <td>Normal</td>\n",
       "    </tr>\n",
       "    <tr>\n",
       "      <th>2</th>\n",
       "      <td>Germany</td>\n",
       "      <td>$3,680,388.82</td>\n",
       "      <td>Normal</td>\n",
       "    </tr>\n",
       "    <tr>\n",
       "      <th>1</th>\n",
       "      <td>France</td>\n",
       "      <td>$3,781,020.79</td>\n",
       "      <td>Max Profit</td>\n",
       "    </tr>\n",
       "  </tbody>\n",
       "</table>\n",
       "</div>"
      ],
      "text/plain": [
       "                    Country         Profit   Highlight\n",
       "3                    Mexico  $2,907,523.11  Min Profit\n",
       "4  United States of America  $2,995,540.68      Normal\n",
       "0                    Canada  $3,529,228.89      Normal\n",
       "2                   Germany  $3,680,388.82      Normal\n",
       "1                    France  $3,781,020.79  Max Profit"
      ]
     },
     "execution_count": 52,
     "metadata": {},
     "output_type": "execute_result"
    }
   ],
   "source": [
    "# Finding countries with the minimum and maximum profit\n",
    "max_profit_country = df_country_profit.loc[df_country_profit['Profit'].idxmax(), 'Country']\n",
    "min_profit_country = df_country_profit.loc[df_country_profit['Profit'].idxmin(), 'Country']\n",
    "\n",
    "# Creating a new column for highlighting\n",
    "df_country_profit['Highlight'] = 'Normal'\n",
    "df_country_profit.loc[df_country_profit['Country'] == max_profit_country, 'Highlight'] = 'Max Profit'\n",
    "df_country_profit.loc[df_country_profit['Country'] == min_profit_country, 'Highlight'] = 'Min Profit'\n",
    "df_country_profit"
   ]
  },
  {
   "cell_type": "code",
   "execution_count": 53,
   "id": "131cd606",
   "metadata": {},
   "outputs": [
    {
     "data": {
      "application/vnd.plotly.v1+json": {
       "config": {
        "plotlyServerURL": "https://plot.ly"
       },
       "data": [
        {
         "colorscale": [
          [
           0,
           "#ab63fa"
          ],
          [
           1,
           "#ab63fa"
          ]
         ],
         "customdata": {
          "bdata": "4XoUjsEuRkE=",
          "dtype": "f8",
          "shape": "1, 1"
         },
         "geo": "geo",
         "hovertemplate": "<b>%{location}</b><br>Profit: $%{customdata[0]:,.2f}<extra></extra>",
         "hovertext": [
          "Mexico"
         ],
         "locationmode": "country names",
         "locations": [
          "Mexico"
         ],
         "name": "Min",
         "showlegend": true,
         "showscale": false,
         "type": "choropleth",
         "z": [
          1
         ]
        },
        {
         "colorscale": [
          [
           0,
           "#1C4E80"
          ],
          [
           1,
           "#1C4E80"
          ]
         ],
         "customdata": {
          "bdata": "cT0KV6raRkEfhetxBu1KQY/C9WhCFExB",
          "dtype": "f8",
          "shape": "3, 1"
         },
         "geo": "geo",
         "hovertemplate": "<b>%{location}</b><br>Profit: $%{customdata[0]:,.2f}<extra></extra>",
         "hovertext": [
          "United States of America",
          "Canada",
          "Germany"
         ],
         "locationmode": "country names",
         "locations": [
          "United States of America",
          "Canada",
          "Germany"
         ],
         "name": "Normal",
         "showlegend": true,
         "showscale": false,
         "type": "choropleth",
         "z": [
          1,
          1,
          1
         ]
        },
        {
         "colorscale": [
          [
           0,
           "#FFA15A"
          ],
          [
           1,
           "#FFA15A"
          ]
         ],
         "customdata": {
          "bdata": "UrgeZc7YTEE=",
          "dtype": "f8",
          "shape": "1, 1"
         },
         "geo": "geo",
         "hovertemplate": "<b>%{location}</b><br>Profit: $%{customdata[0]:,.2f}<extra></extra>",
         "hovertext": [
          "France"
         ],
         "locationmode": "country names",
         "locations": [
          "France"
         ],
         "name": "Max",
         "showlegend": true,
         "showscale": false,
         "type": "choropleth",
         "z": [
          1
         ]
        }
       ],
       "layout": {
        "geo": {
         "center": {},
         "domain": {
          "x": [
           0,
           1
          ],
          "y": [
           0,
           1
          ]
         }
        },
        "legend": {
         "title": {
          "text": "Highlight"
         },
         "tracegroupgap": 0
        },
        "margin": {
         "t": 60
        },
        "template": {
         "data": {
          "bar": [
           {
            "error_x": {
             "color": "#2a3f5f"
            },
            "error_y": {
             "color": "#2a3f5f"
            },
            "marker": {
             "line": {
              "color": "#E5ECF6",
              "width": 0.5
             },
             "pattern": {
              "fillmode": "overlay",
              "size": 10,
              "solidity": 0.2
             }
            },
            "type": "bar"
           }
          ],
          "barpolar": [
           {
            "marker": {
             "line": {
              "color": "#E5ECF6",
              "width": 0.5
             },
             "pattern": {
              "fillmode": "overlay",
              "size": 10,
              "solidity": 0.2
             }
            },
            "type": "barpolar"
           }
          ],
          "carpet": [
           {
            "aaxis": {
             "endlinecolor": "#2a3f5f",
             "gridcolor": "white",
             "linecolor": "white",
             "minorgridcolor": "white",
             "startlinecolor": "#2a3f5f"
            },
            "baxis": {
             "endlinecolor": "#2a3f5f",
             "gridcolor": "white",
             "linecolor": "white",
             "minorgridcolor": "white",
             "startlinecolor": "#2a3f5f"
            },
            "type": "carpet"
           }
          ],
          "choropleth": [
           {
            "colorbar": {
             "outlinewidth": 0,
             "ticks": ""
            },
            "type": "choropleth"
           }
          ],
          "contour": [
           {
            "colorbar": {
             "outlinewidth": 0,
             "ticks": ""
            },
            "colorscale": [
             [
              0,
              "#0d0887"
             ],
             [
              0.1111111111111111,
              "#46039f"
             ],
             [
              0.2222222222222222,
              "#7201a8"
             ],
             [
              0.3333333333333333,
              "#9c179e"
             ],
             [
              0.4444444444444444,
              "#bd3786"
             ],
             [
              0.5555555555555556,
              "#d8576b"
             ],
             [
              0.6666666666666666,
              "#ed7953"
             ],
             [
              0.7777777777777778,
              "#fb9f3a"
             ],
             [
              0.8888888888888888,
              "#fdca26"
             ],
             [
              1,
              "#f0f921"
             ]
            ],
            "type": "contour"
           }
          ],
          "contourcarpet": [
           {
            "colorbar": {
             "outlinewidth": 0,
             "ticks": ""
            },
            "type": "contourcarpet"
           }
          ],
          "heatmap": [
           {
            "colorbar": {
             "outlinewidth": 0,
             "ticks": ""
            },
            "colorscale": [
             [
              0,
              "#0d0887"
             ],
             [
              0.1111111111111111,
              "#46039f"
             ],
             [
              0.2222222222222222,
              "#7201a8"
             ],
             [
              0.3333333333333333,
              "#9c179e"
             ],
             [
              0.4444444444444444,
              "#bd3786"
             ],
             [
              0.5555555555555556,
              "#d8576b"
             ],
             [
              0.6666666666666666,
              "#ed7953"
             ],
             [
              0.7777777777777778,
              "#fb9f3a"
             ],
             [
              0.8888888888888888,
              "#fdca26"
             ],
             [
              1,
              "#f0f921"
             ]
            ],
            "type": "heatmap"
           }
          ],
          "histogram": [
           {
            "marker": {
             "pattern": {
              "fillmode": "overlay",
              "size": 10,
              "solidity": 0.2
             }
            },
            "type": "histogram"
           }
          ],
          "histogram2d": [
           {
            "colorbar": {
             "outlinewidth": 0,
             "ticks": ""
            },
            "colorscale": [
             [
              0,
              "#0d0887"
             ],
             [
              0.1111111111111111,
              "#46039f"
             ],
             [
              0.2222222222222222,
              "#7201a8"
             ],
             [
              0.3333333333333333,
              "#9c179e"
             ],
             [
              0.4444444444444444,
              "#bd3786"
             ],
             [
              0.5555555555555556,
              "#d8576b"
             ],
             [
              0.6666666666666666,
              "#ed7953"
             ],
             [
              0.7777777777777778,
              "#fb9f3a"
             ],
             [
              0.8888888888888888,
              "#fdca26"
             ],
             [
              1,
              "#f0f921"
             ]
            ],
            "type": "histogram2d"
           }
          ],
          "histogram2dcontour": [
           {
            "colorbar": {
             "outlinewidth": 0,
             "ticks": ""
            },
            "colorscale": [
             [
              0,
              "#0d0887"
             ],
             [
              0.1111111111111111,
              "#46039f"
             ],
             [
              0.2222222222222222,
              "#7201a8"
             ],
             [
              0.3333333333333333,
              "#9c179e"
             ],
             [
              0.4444444444444444,
              "#bd3786"
             ],
             [
              0.5555555555555556,
              "#d8576b"
             ],
             [
              0.6666666666666666,
              "#ed7953"
             ],
             [
              0.7777777777777778,
              "#fb9f3a"
             ],
             [
              0.8888888888888888,
              "#fdca26"
             ],
             [
              1,
              "#f0f921"
             ]
            ],
            "type": "histogram2dcontour"
           }
          ],
          "mesh3d": [
           {
            "colorbar": {
             "outlinewidth": 0,
             "ticks": ""
            },
            "type": "mesh3d"
           }
          ],
          "parcoords": [
           {
            "line": {
             "colorbar": {
              "outlinewidth": 0,
              "ticks": ""
             }
            },
            "type": "parcoords"
           }
          ],
          "pie": [
           {
            "automargin": true,
            "type": "pie"
           }
          ],
          "scatter": [
           {
            "fillpattern": {
             "fillmode": "overlay",
             "size": 10,
             "solidity": 0.2
            },
            "type": "scatter"
           }
          ],
          "scatter3d": [
           {
            "line": {
             "colorbar": {
              "outlinewidth": 0,
              "ticks": ""
             }
            },
            "marker": {
             "colorbar": {
              "outlinewidth": 0,
              "ticks": ""
             }
            },
            "type": "scatter3d"
           }
          ],
          "scattercarpet": [
           {
            "marker": {
             "colorbar": {
              "outlinewidth": 0,
              "ticks": ""
             }
            },
            "type": "scattercarpet"
           }
          ],
          "scattergeo": [
           {
            "marker": {
             "colorbar": {
              "outlinewidth": 0,
              "ticks": ""
             }
            },
            "type": "scattergeo"
           }
          ],
          "scattergl": [
           {
            "marker": {
             "colorbar": {
              "outlinewidth": 0,
              "ticks": ""
             }
            },
            "type": "scattergl"
           }
          ],
          "scattermap": [
           {
            "marker": {
             "colorbar": {
              "outlinewidth": 0,
              "ticks": ""
             }
            },
            "type": "scattermap"
           }
          ],
          "scattermapbox": [
           {
            "marker": {
             "colorbar": {
              "outlinewidth": 0,
              "ticks": ""
             }
            },
            "type": "scattermapbox"
           }
          ],
          "scatterpolar": [
           {
            "marker": {
             "colorbar": {
              "outlinewidth": 0,
              "ticks": ""
             }
            },
            "type": "scatterpolar"
           }
          ],
          "scatterpolargl": [
           {
            "marker": {
             "colorbar": {
              "outlinewidth": 0,
              "ticks": ""
             }
            },
            "type": "scatterpolargl"
           }
          ],
          "scatterternary": [
           {
            "marker": {
             "colorbar": {
              "outlinewidth": 0,
              "ticks": ""
             }
            },
            "type": "scatterternary"
           }
          ],
          "surface": [
           {
            "colorbar": {
             "outlinewidth": 0,
             "ticks": ""
            },
            "colorscale": [
             [
              0,
              "#0d0887"
             ],
             [
              0.1111111111111111,
              "#46039f"
             ],
             [
              0.2222222222222222,
              "#7201a8"
             ],
             [
              0.3333333333333333,
              "#9c179e"
             ],
             [
              0.4444444444444444,
              "#bd3786"
             ],
             [
              0.5555555555555556,
              "#d8576b"
             ],
             [
              0.6666666666666666,
              "#ed7953"
             ],
             [
              0.7777777777777778,
              "#fb9f3a"
             ],
             [
              0.8888888888888888,
              "#fdca26"
             ],
             [
              1,
              "#f0f921"
             ]
            ],
            "type": "surface"
           }
          ],
          "table": [
           {
            "cells": {
             "fill": {
              "color": "#EBF0F8"
             },
             "line": {
              "color": "white"
             }
            },
            "header": {
             "fill": {
              "color": "#C8D4E3"
             },
             "line": {
              "color": "white"
             }
            },
            "type": "table"
           }
          ]
         },
         "layout": {
          "annotationdefaults": {
           "arrowcolor": "#2a3f5f",
           "arrowhead": 0,
           "arrowwidth": 1
          },
          "autotypenumbers": "strict",
          "coloraxis": {
           "colorbar": {
            "outlinewidth": 0,
            "ticks": ""
           }
          },
          "colorscale": {
           "diverging": [
            [
             0,
             "#8e0152"
            ],
            [
             0.1,
             "#c51b7d"
            ],
            [
             0.2,
             "#de77ae"
            ],
            [
             0.3,
             "#f1b6da"
            ],
            [
             0.4,
             "#fde0ef"
            ],
            [
             0.5,
             "#f7f7f7"
            ],
            [
             0.6,
             "#e6f5d0"
            ],
            [
             0.7,
             "#b8e186"
            ],
            [
             0.8,
             "#7fbc41"
            ],
            [
             0.9,
             "#4d9221"
            ],
            [
             1,
             "#276419"
            ]
           ],
           "sequential": [
            [
             0,
             "#0d0887"
            ],
            [
             0.1111111111111111,
             "#46039f"
            ],
            [
             0.2222222222222222,
             "#7201a8"
            ],
            [
             0.3333333333333333,
             "#9c179e"
            ],
            [
             0.4444444444444444,
             "#bd3786"
            ],
            [
             0.5555555555555556,
             "#d8576b"
            ],
            [
             0.6666666666666666,
             "#ed7953"
            ],
            [
             0.7777777777777778,
             "#fb9f3a"
            ],
            [
             0.8888888888888888,
             "#fdca26"
            ],
            [
             1,
             "#f0f921"
            ]
           ],
           "sequentialminus": [
            [
             0,
             "#0d0887"
            ],
            [
             0.1111111111111111,
             "#46039f"
            ],
            [
             0.2222222222222222,
             "#7201a8"
            ],
            [
             0.3333333333333333,
             "#9c179e"
            ],
            [
             0.4444444444444444,
             "#bd3786"
            ],
            [
             0.5555555555555556,
             "#d8576b"
            ],
            [
             0.6666666666666666,
             "#ed7953"
            ],
            [
             0.7777777777777778,
             "#fb9f3a"
            ],
            [
             0.8888888888888888,
             "#fdca26"
            ],
            [
             1,
             "#f0f921"
            ]
           ]
          },
          "colorway": [
           "#636efa",
           "#EF553B",
           "#00cc96",
           "#ab63fa",
           "#FFA15A",
           "#19d3f3",
           "#FF6692",
           "#B6E880",
           "#FF97FF",
           "#FECB52"
          ],
          "font": {
           "color": "#2a3f5f"
          },
          "geo": {
           "bgcolor": "white",
           "lakecolor": "white",
           "landcolor": "#E5ECF6",
           "showlakes": true,
           "showland": true,
           "subunitcolor": "white"
          },
          "hoverlabel": {
           "align": "left"
          },
          "hovermode": "closest",
          "mapbox": {
           "style": "light"
          },
          "paper_bgcolor": "white",
          "plot_bgcolor": "#E5ECF6",
          "polar": {
           "angularaxis": {
            "gridcolor": "white",
            "linecolor": "white",
            "ticks": ""
           },
           "bgcolor": "#E5ECF6",
           "radialaxis": {
            "gridcolor": "white",
            "linecolor": "white",
            "ticks": ""
           }
          },
          "scene": {
           "xaxis": {
            "backgroundcolor": "#E5ECF6",
            "gridcolor": "white",
            "gridwidth": 2,
            "linecolor": "white",
            "showbackground": true,
            "ticks": "",
            "zerolinecolor": "white"
           },
           "yaxis": {
            "backgroundcolor": "#E5ECF6",
            "gridcolor": "white",
            "gridwidth": 2,
            "linecolor": "white",
            "showbackground": true,
            "ticks": "",
            "zerolinecolor": "white"
           },
           "zaxis": {
            "backgroundcolor": "#E5ECF6",
            "gridcolor": "white",
            "gridwidth": 2,
            "linecolor": "white",
            "showbackground": true,
            "ticks": "",
            "zerolinecolor": "white"
           }
          },
          "shapedefaults": {
           "line": {
            "color": "#2a3f5f"
           }
          },
          "ternary": {
           "aaxis": {
            "gridcolor": "white",
            "linecolor": "white",
            "ticks": ""
           },
           "baxis": {
            "gridcolor": "white",
            "linecolor": "white",
            "ticks": ""
           },
           "bgcolor": "#E5ECF6",
           "caxis": {
            "gridcolor": "white",
            "linecolor": "white",
            "ticks": ""
           }
          },
          "title": {
           "x": 0.05
          },
          "xaxis": {
           "automargin": true,
           "gridcolor": "white",
           "linecolor": "white",
           "ticks": "",
           "title": {
            "standoff": 15
           },
           "zerolinecolor": "white",
           "zerolinewidth": 2
          },
          "yaxis": {
           "automargin": true,
           "gridcolor": "white",
           "linecolor": "white",
           "ticks": "",
           "title": {
            "standoff": 15
           },
           "zerolinecolor": "white",
           "zerolinewidth": 2
          }
         }
        }
       }
      }
     },
     "metadata": {},
     "output_type": "display_data"
    }
   ],
   "source": [
    "# Creating a map chart using Plotly Express with highlighted countries\n",
    "\n",
    "# Ensuring the Profit is numeric\n",
    "df_country_profit['Profit'] = df_country_profit['Profit'].replace(r'[\\$,]', '', regex=True).astype(float)\n",
    "df_country_profit['Highlight'] = 'Normal'\n",
    "df_country_profit.loc[df_country_profit['Profit'].idxmax(), 'Highlight'] = 'Max'\n",
    "df_country_profit.loc[df_country_profit['Profit'].idxmin(), 'Highlight'] = 'Min'\n",
    "\n",
    "# Customizing the color scale (updated colors for better contrast)\n",
    "color_discrete_map = {\n",
    "    'Max Profit': '#00FF00',  # Bright green for max\n",
    "    'Min Profit': '#FF0000',  # Bright red for min\n",
    "    'Normal': '#1C4E80'       # Neutral blue for others\n",
    "}\n",
    "\n",
    "# Creating figure with CORRECT hover template\n",
    "fig = px.choropleth(\n",
    "    df_country_profit,\n",
    "    locations='Country',\n",
    "    locationmode='country names',\n",
    "    color_discrete_map=color_discrete_map,\n",
    "    color='Highlight',\n",
    "    hover_name='Country',\n",
    "    hover_data={'Profit': ':.2f'}\n",
    ")\n",
    "\n",
    "# Updating the hover effect\n",
    "fig.update_traces(\n",
    "    hovertemplate=\"<b>%{location}</b><br>Profit: $%{customdata[0]:,.2f}<extra></extra>\"\n",
    ")\n",
    "\n",
    "fig.show()"
   ]
  },
  {
   "cell_type": "code",
   "execution_count": 54,
   "id": "687d3084",
   "metadata": {},
   "outputs": [
    {
     "data": {
      "image/png": "[encoded data removed]",
      "text/plain": [
       "<Figure size 1200x600 with 1 Axes>"
      ]
     },
     "metadata": {},
     "output_type": "display_data"
    },
    {
     "data": {
      "image/png": "[encoded data removed]",
      "text/plain": [
       "<Figure size 1200x600 with 1 Axes>"
      ]
     },
     "metadata": {},
     "output_type": "display_data"
    }
   ],
   "source": [
    "# Filtering the dataframe for 2013 and 2014 sales\n",
    "df_sales_2013 = df[df['Year'] == 2013].groupby('Segment').agg({'Sales': 'sum'}).reset_index()\n",
    "df_sales_2014 = df[df['Year'] == 2014].groupby('Segment').agg({'Sales': 'sum'}).reset_index()\n",
    "\n",
    "# Formating the sales values for better readability\n",
    "df_sales_2013['Sales'] = df_sales_2013['Sales'].apply(lambda x: '${:,.0f}'.format(x))\n",
    "df_sales_2014['Sales'] = df_sales_2014['Sales'].apply(lambda x: '${:,.0f}'.format(x))\n",
    "\n",
    "# Creating the horizontal bar chart for 2013\n",
    "fig, ax = plt.subplots(figsize=(12, 6))\n",
    "bars = ax.barh(df_sales_2013['Segment'], df_sales_2013['Sales'], color='#147878')\n",
    "\n",
    "# Adding the labels and title\n",
    "ax.set_xlabel('Sales') \n",
    "ax.set_title('Total Sales by Segment - Year: 2013')\n",
    "plt.tight_layout()\n",
    "plt.show()\n",
    "\n",
    "# Create the horizontal bar chart for 2014\n",
    "fig, ax = plt.subplots(figsize=(12, 6))\n",
    "bars = ax.barh(df_sales_2014['Segment'], df_sales_2014['Sales'], color='#37A3A3')\n",
    "\n",
    "# Set X-axis to start at 0\n",
    "ax.set_xlim(left=0)\n",
    "\n",
    "# Add labels and title\n",
    "ax.set_xlabel('Sales')\n",
    "ax.set_title('Total Sales by Segment - Year: 2014')\n",
    "plt.tight_layout()\n",
    "plt.show()\n"
   ]
  },
  {
   "cell_type": "code",
   "execution_count": 55,
   "id": "c217d34d",
   "metadata": {},
   "outputs": [
    {
     "data": {
      "image/png": "[encoded data removed]",
      "text/plain": [
       "<Figure size 1200x600 with 1 Axes>"
      ]
     },
     "metadata": {},
     "output_type": "display_data"
    },
    {
     "data": {
      "image/png": "[encoded data removed]",
      "text/plain": [
       "<Figure size 1200x600 with 1 Axes>"
      ]
     },
     "metadata": {},
     "output_type": "display_data"
    }
   ],
   "source": [
    "# Preparing the numeric profit values for plotting\n",
    "df_profit_2013_plot = df[df['Year'] == 2013].groupby('Segment').agg({'Profit': 'sum'}).reset_index()\n",
    "df_profit_2014_plot = df[df['Year'] == 2014].groupby('Segment').agg({'Profit': 'sum'}).reset_index()\n",
    "\n",
    "# Plot for 2013\n",
    "fig, ax = plt.subplots(figsize=(12, 6))\n",
    "bars = ax.bar(df_profit_2013_plot['Segment'], df_profit_2013_plot['Profit'], color='#4394E5')\n",
    "ax.set_ylabel('Profit')\n",
    "ax.set_xlabel('Segment')\n",
    "ax.set_title('Total Profit by Segment - Year: 2013')\n",
    "ax.axhline(0, color='black', linewidth=1)\n",
    "ax.yaxis.set_major_formatter(FuncFormatter(lambda x, _: f'${x:,.0f}'))\n",
    "\n",
    "# Adding money labels inside the bars\n",
    "for bar in bars:\n",
    "    height = bar.get_height()\n",
    "    ax.text(\n",
    "        bar.get_x() + bar.get_width() / 2,\n",
    "        height / 2,\n",
    "        f'${height:,.0f}',\n",
    "        ha='center',\n",
    "        va='center',\n",
    "        color='white' if height > 0 else 'red',\n",
    "        fontsize=12,\n",
    "        fontweight='bold'\n",
    "    )\n",
    "\n",
    "plt.tight_layout()\n",
    "plt.show()\n",
    "\n",
    "# Plot for 2014\n",
    "fig, ax = plt.subplots(figsize=(12, 6))\n",
    "bars = ax.bar(df_profit_2014_plot['Segment'], df_profit_2014_plot['Profit'], color='#87BB62')\n",
    "ax.set_ylabel('Profit')\n",
    "ax.set_xlabel('Segment')\n",
    "ax.set_title('Total Profit by Segment - Year: 2014')\n",
    "ax.axhline(0, color='black', linewidth=1)\n",
    "ax.yaxis.set_major_formatter(FuncFormatter(lambda x, _: f'${x:,.0f}'))\n",
    "\n",
    "# Adding money labels inside the bars\n",
    "for bar in bars:\n",
    "    height = bar.get_height()\n",
    "    ax.text(\n",
    "        bar.get_x() + bar.get_width() / 2,\n",
    "        height / 2,\n",
    "        f'${height:,.0f}',\n",
    "        ha='center',\n",
    "        va='center',\n",
    "        color='white' if height > 0 else 'red',\n",
    "        fontsize=12,\n",
    "        fontweight='bold'\n",
    "    )\n",
    "\n",
    "plt.tight_layout()\n",
    "plt.show()"
   ]
  },
  {
   "cell_type": "code",
   "execution_count": 56,
   "id": "c13bc102",
   "metadata": {},
   "outputs": [
    {
     "data": {
      "image/png": "[encoded data removed]",
      "text/plain": [
       "<Figure size 1200x600 with 1 Axes>"
      ]
     },
     "metadata": {},
     "output_type": "display_data"
    }
   ],
   "source": [
    "# Preparing the data for a grouped bar chart\n",
    "segments = df_profit_2013_plot['Segment']\n",
    "profit_2013 = df_profit_2013_plot['Profit']\n",
    "profit_2014 = df_profit_2014_plot['Profit']\n",
    "\n",
    "x = np.arange(len(segments))\n",
    "width = 0.35\n",
    "\n",
    "fig, ax = plt.subplots(figsize=(12, 6))\n",
    "bars1 = ax.bar(x - width/2, profit_2013, width, label='2013', color='#0d88e6')\n",
    "bars2 = ax.bar(x + width/2, profit_2014, width, label='2014', color='#ffa300')\n",
    "\n",
    "ax.set_xlabel('Segment')\n",
    "ax.set_ylabel('Profit')\n",
    "ax.set_title('Total Profit by Segment: 2013 vs 2014')\n",
    "ax.set_xticks(x)\n",
    "ax.set_xticklabels(segments)\n",
    "ax.axhline(0, color='black', linewidth=1)\n",
    "ax.yaxis.set_major_formatter(FuncFormatter(lambda x, _: f'${x:,.0f}'))\n",
    "ax.legend()\n",
    "\n",
    "# Adding the labels inside the bars\n",
    "for bars in [bars1, bars2]:\n",
    "    for bar in bars:\n",
    "        height = bar.get_height()\n",
    "        ax.text(\n",
    "            bar.get_x() + bar.get_width() / 2,\n",
    "            height / 2,\n",
    "            f'${height:,.0f}',\n",
    "            ha='center',\n",
    "            va='center',\n",
    "            color='black' if height > 0 else 'red',\n",
    "            fontsize=8\n",
    "        )\n",
    "\n",
    "plt.tight_layout()\n",
    "plt.show()\n"
   ]
  },
  {
   "cell_type": "code",
   "execution_count": 57,
   "id": "4603690d",
   "metadata": {},
   "outputs": [
    {
     "data": {
      "image/png": "[encoded data removed]",
      "text/plain": [
       "<Figure size 1200x600 with 1 Axes>"
      ]
     },
     "metadata": {},
     "output_type": "display_data"
    },
    {
     "data": {
      "image/png": "[encoded data removed]",
      "text/plain": [
       "<Figure size 1200x600 with 1 Axes>"
      ]
     },
     "metadata": {},
     "output_type": "display_data"
    }
   ],
   "source": [
    "# Filtering the dataframe for 2013 and 2014 sales\n",
    "df_sales_2013 = df[df['Year'] == 2013].groupby('Product').agg({'Sales': 'sum'}).reset_index()\n",
    "df_sales_2014 = df[df['Year'] == 2014].groupby('Product').agg({'Sales': 'sum'}).reset_index()\n",
    "\n",
    "# Formating the sales values for better readability\n",
    "df_sales_2013['Sales'] = df_sales_2013['Sales'].apply(lambda x: '${:,.0f}'.format(x))\n",
    "df_sales_2014['Sales'] = df_sales_2014['Sales'].apply(lambda x: '${:,.0f}'.format(x))\n",
    "\n",
    "# Creating the horizontal bar chart for 2013\n",
    "fig, ax = plt.subplots(figsize=(12, 6))\n",
    "bars = ax.barh(df_sales_2013['Product'], df_sales_2013['Sales'], color='#147878')\n",
    "\n",
    "# Set X-axis to start at 0\n",
    "ax.set_xlim(left=0)\n",
    "\n",
    "# Add labels and title\n",
    "ax.set_xlabel('Sales')\n",
    "ax.set_title('Total Sales by Product - Year: 2013', size=15)\n",
    "plt.tight_layout()\n",
    "plt.show()\n",
    "\n",
    "# Create the horizontal bar chart for 2014\n",
    "fig, ax = plt.subplots(figsize=(12, 6))\n",
    "bars = ax.barh(df_sales_2014['Product'], df_sales_2014['Sales'], color='#37A3A3')\n",
    "\n",
    "# Add images to the end of each bar\n",
    "for bar, country in zip(bars, df_sales_2014['Product']):\n",
    "    if country in country_images:\n",
    "        img_path = country_images[country]\n",
    "        img = Image.open(img_path)\n",
    "        imagebox = OffsetImage(img, zoom=0.15)  # Adjust zoom as needed\n",
    "        ab = AnnotationBbox(imagebox, (bar.get_width(), bar.get_y() + bar.get_height() / 2),\n",
    "                            frameon=False, box_alignment=(0, 0.5))\n",
    "        ax.add_artist(ab)\n",
    "\n",
    "# Set X-axis to start at 0\n",
    "ax.set_xlim(left=0)\n",
    "\n",
    "# Add labels and title\n",
    "ax.set_xlabel('Sales')\n",
    "ax.set_title('Total Sales by Product - Year: 2014',size=15)\n",
    "plt.tight_layout()\n",
    "plt.show()\n"
   ]
  },
  {
   "cell_type": "code",
   "execution_count": 58,
   "id": "3ad4eb9d",
   "metadata": {},
   "outputs": [
    {
     "data": {
      "image/png": "[encoded data removed]",
      "text/plain": [
       "<Figure size 1200x600 with 1 Axes>"
      ]
     },
     "metadata": {},
     "output_type": "display_data"
    },
    {
     "data": {
      "image/png": "[encoded data removed]",
      "text/plain": [
       "<Figure size 1200x600 with 1 Axes>"
      ]
     },
     "metadata": {},
     "output_type": "display_data"
    }
   ],
   "source": [
    "# Filtering the dataframe for 2013 and 2014 sales\n",
    "df_profit_2013 = df[df['Year'] == 2013].groupby('Product').agg({'Profit': 'sum'}).reset_index()\n",
    "df_profit_2014 = df[df['Year'] == 2014].groupby('Product').agg({'Profit': 'sum'}).reset_index()\n",
    "\n",
    "# Formating the sales values for better readability\n",
    "df_profit_2013['Profit'] = df_profit_2013['Profit'].apply(lambda x: '${:,.0f}'.format(x))\n",
    "df_profit_2014['Profit'] = df_profit_2014['Profit'].apply(lambda x: '${:,.0f}'.format(x))\n",
    "\n",
    "# Creating the horizontal bar chart for 2013\n",
    "fig, ax = plt.subplots(figsize=(12, 6))\n",
    "bars = ax.barh(df_profit_2013['Product'], df_profit_2013['Profit'], color='#A3A3A3')\n",
    "\n",
    "# Set X-axis to start at 0\n",
    "ax.set_xlim(left=0)\n",
    "\n",
    "# Add labels and title\n",
    "ax.set_xlabel('Sales')\n",
    "ax.set_ylabel('Products')\n",
    "ax.set_title('Total Profit by Product - Year: 2013', size=15)\n",
    "plt.tight_layout()\n",
    "plt.show()\n",
    "\n",
    "# Creating the horizontal bar chart for 2014\n",
    "fig, ax = plt.subplots(figsize=(12, 6))\n",
    "bars = ax.barh(df_sales_2014['Product'], df_profit_2014['Profit'], color='#707070')\n",
    "\n",
    "# Add images to the end of each bar\n",
    "for bar, country in zip(bars, df_profit_2014['Product']):\n",
    "    if country in country_images:\n",
    "        img_path = country_images[country]\n",
    "        img = Image.open(img_path)\n",
    "        imagebox = OffsetImage(img, zoom=0.15)  # Adjust zoom as needed\n",
    "        ab = AnnotationBbox(imagebox, (bar.get_width(), bar.get_y() + bar.get_height() / 2),\n",
    "                            frameon=False, box_alignment=(0, 0.5))\n",
    "        ax.add_artist(ab)\n",
    "\n",
    "# Set X-axis to start at 0\n",
    "ax.set_xlim(left=0)\n",
    "\n",
    "# Add labels and title\n",
    "ax.set_xlabel('Profit')\n",
    "ax.set_ylabel('Products')\n",
    "ax.set_title('Total Profit by Product - Year: 2014', size=15)\n",
    "plt.tight_layout()\n",
    "plt.show()\n"
   ]
  },
  {
   "cell_type": "code",
   "execution_count": 59,
   "id": "0c3e1458",
   "metadata": {},
   "outputs": [
    {
     "data": {
      "application/vnd.plotly.v1+json": {
       "config": {
        "plotlyServerURL": "https://plot.ly"
       },
       "data": [
        {
         "hovertemplate": "Country=%{x}<br>Gross Sales=%{y}<extra></extra>",
         "legendgroup": "Canada",
         "marker": {
          "color": "#1f77b4",
          "pattern": {
           "shape": ""
          }
         },
         "name": "Canada",
         "orientation": "v",
         "showlegend": true,
         "textposition": "outside",
         "type": "bar",
         "x": [
          "Canada"
         ],
         "xaxis": "x",
         "y": {
          "bdata": "AAAAODyveUE=",
          "dtype": "f8"
         },
         "yaxis": "y"
        },
        {
         "hovertemplate": "Country=%{x}<br>Gross Sales=%{y}<extra></extra>",
         "legendgroup": "France",
         "marker": {
          "color": "#ff7f0e",
          "pattern": {
           "shape": ""
          }
         },
         "name": "France",
         "orientation": "v",
         "showlegend": true,
         "textposition": "outside",
         "type": "bar",
         "x": [
          "France"
         ],
         "xaxis": "x",
         "y": {
          "bdata": "AAAAqJjfeEE=",
          "dtype": "f8"
         },
         "yaxis": "y"
        },
        {
         "hovertemplate": "Country=%{x}<br>Gross Sales=%{y}<extra></extra>",
         "legendgroup": "Germany",
         "marker": {
          "color": "#2ca02c",
          "pattern": {
           "shape": ""
          }
         },
         "name": "Germany",
         "orientation": "v",
         "showlegend": true,
         "textposition": "outside",
         "type": "bar",
         "x": [
          "Germany"
         ],
         "xaxis": "x",
         "y": {
          "bdata": "AAAAuFfEd0E=",
          "dtype": "f8"
         },
         "yaxis": "y"
        },
        {
         "hovertemplate": "Country=%{x}<br>Gross Sales=%{y}<extra></extra>",
         "legendgroup": "Mexico",
         "marker": {
          "color": "#d62728",
          "pattern": {
           "shape": ""
          }
         },
         "name": "Mexico",
         "orientation": "v",
         "showlegend": true,
         "textposition": "outside",
         "type": "bar",
         "x": [
          "Mexico"
         ],
         "xaxis": "x",
         "y": {
          "bdata": "AAAAcJGsdUE=",
          "dtype": "f8"
         },
         "yaxis": "y"
        },
        {
         "hovertemplate": "Country=%{x}<br>Gross Sales=%{y}<extra></extra>",
         "legendgroup": "United States of America",
         "marker": {
          "color": "#9467bd",
          "pattern": {
           "shape": ""
          }
         },
         "name": "United States of America",
         "orientation": "v",
         "showlegend": true,
         "textposition": "outside",
         "type": "bar",
         "x": [
          "United States of America"
         ],
         "xaxis": "x",
         "y": {
          "bdata": "AAAA4I4BekE=",
          "dtype": "f8"
         },
         "yaxis": "y"
        }
       ],
       "layout": {
        "barmode": "relative",
        "legend": {
         "title": {
          "text": "Country"
         },
         "tracegroupgap": 0
        },
        "margin": {
         "b": 60,
         "l": 60,
         "r": 60,
         "t": 80
        },
        "template": {
         "data": {
          "bar": [
           {
            "error_x": {
             "color": "#2a3f5f"
            },
            "error_y": {
             "color": "#2a3f5f"
            },
            "marker": {
             "line": {
              "color": "#E5ECF6",
              "width": 0.5
             },
             "pattern": {
              "fillmode": "overlay",
              "size": 10,
              "solidity": 0.2
             }
            },
            "type": "bar"
           }
          ],
          "barpolar": [
           {
            "marker": {
             "line": {
              "color": "#E5ECF6",
              "width": 0.5
             },
             "pattern": {
              "fillmode": "overlay",
              "size": 10,
              "solidity": 0.2
             }
            },
            "type": "barpolar"
           }
          ],
          "carpet": [
           {
            "aaxis": {
             "endlinecolor": "#2a3f5f",
             "gridcolor": "white",
             "linecolor": "white",
             "minorgridcolor": "white",
             "startlinecolor": "#2a3f5f"
            },
            "baxis": {
             "endlinecolor": "#2a3f5f",
             "gridcolor": "white",
             "linecolor": "white",
             "minorgridcolor": "white",
             "startlinecolor": "#2a3f5f"
            },
            "type": "carpet"
           }
          ],
          "choropleth": [
           {
            "colorbar": {
             "outlinewidth": 0,
             "ticks": ""
            },
            "type": "choropleth"
           }
          ],
          "contour": [
           {
            "colorbar": {
             "outlinewidth": 0,
             "ticks": ""
            },
            "colorscale": [
             [
              0,
              "#0d0887"
             ],
             [
              0.1111111111111111,
              "#46039f"
             ],
             [
              0.2222222222222222,
              "#7201a8"
             ],
             [
              0.3333333333333333,
              "#9c179e"
             ],
             [
              0.4444444444444444,
              "#bd3786"
             ],
             [
              0.5555555555555556,
              "#d8576b"
             ],
             [
              0.6666666666666666,
              "#ed7953"
             ],
             [
              0.7777777777777778,
              "#fb9f3a"
             ],
             [
              0.8888888888888888,
              "#fdca26"
             ],
             [
              1,
              "#f0f921"
             ]
            ],
            "type": "contour"
           }
          ],
          "contourcarpet": [
           {
            "colorbar": {
             "outlinewidth": 0,
             "ticks": ""
            },
            "type": "contourcarpet"
           }
          ],
          "heatmap": [
           {
            "colorbar": {
             "outlinewidth": 0,
             "ticks": ""
            },
            "colorscale": [
             [
              0,
              "#0d0887"
             ],
             [
              0.1111111111111111,
              "#46039f"
             ],
             [
              0.2222222222222222,
              "#7201a8"
             ],
             [
              0.3333333333333333,
              "#9c179e"
             ],
             [
              0.4444444444444444,
              "#bd3786"
             ],
             [
              0.5555555555555556,
              "#d8576b"
             ],
             [
              0.6666666666666666,
              "#ed7953"
             ],
             [
              0.7777777777777778,
              "#fb9f3a"
             ],
             [
              0.8888888888888888,
              "#fdca26"
             ],
             [
              1,
              "#f0f921"
             ]
            ],
            "type": "heatmap"
           }
          ],
          "histogram": [
           {
            "marker": {
             "pattern": {
              "fillmode": "overlay",
              "size": 10,
              "solidity": 0.2
             }
            },
            "type": "histogram"
           }
          ],
          "histogram2d": [
           {
            "colorbar": {
             "outlinewidth": 0,
             "ticks": ""
            },
            "colorscale": [
             [
              0,
              "#0d0887"
             ],
             [
              0.1111111111111111,
              "#46039f"
             ],
             [
              0.2222222222222222,
              "#7201a8"
             ],
             [
              0.3333333333333333,
              "#9c179e"
             ],
             [
              0.4444444444444444,
              "#bd3786"
             ],
             [
              0.5555555555555556,
              "#d8576b"
             ],
             [
              0.6666666666666666,
              "#ed7953"
             ],
             [
              0.7777777777777778,
              "#fb9f3a"
             ],
             [
              0.8888888888888888,
              "#fdca26"
             ],
             [
              1,
              "#f0f921"
             ]
            ],
            "type": "histogram2d"
           }
          ],
          "histogram2dcontour": [
           {
            "colorbar": {
             "outlinewidth": 0,
             "ticks": ""
            },
            "colorscale": [
             [
              0,
              "#0d0887"
             ],
             [
              0.1111111111111111,
              "#46039f"
             ],
             [
              0.2222222222222222,
              "#7201a8"
             ],
             [
              0.3333333333333333,
              "#9c179e"
             ],
             [
              0.4444444444444444,
              "#bd3786"
             ],
             [
              0.5555555555555556,
              "#d8576b"
             ],
             [
              0.6666666666666666,
              "#ed7953"
             ],
             [
              0.7777777777777778,
              "#fb9f3a"
             ],
             [
              0.8888888888888888,
              "#fdca26"
             ],
             [
              1,
              "#f0f921"
             ]
            ],
            "type": "histogram2dcontour"
           }
          ],
          "mesh3d": [
           {
            "colorbar": {
             "outlinewidth": 0,
             "ticks": ""
            },
            "type": "mesh3d"
           }
          ],
          "parcoords": [
           {
            "line": {
             "colorbar": {
              "outlinewidth": 0,
              "ticks": ""
             }
            },
            "type": "parcoords"
           }
          ],
          "pie": [
           {
            "automargin": true,
            "type": "pie"
           }
          ],
          "scatter": [
           {
            "fillpattern": {
             "fillmode": "overlay",
             "size": 10,
             "solidity": 0.2
            },
            "type": "scatter"
           }
          ],
          "scatter3d": [
           {
            "line": {
             "colorbar": {
              "outlinewidth": 0,
              "ticks": ""
             }
            },
            "marker": {
             "colorbar": {
              "outlinewidth": 0,
              "ticks": ""
             }
            },
            "type": "scatter3d"
           }
          ],
          "scattercarpet": [
           {
            "marker": {
             "colorbar": {
              "outlinewidth": 0,
              "ticks": ""
             }
            },
            "type": "scattercarpet"
           }
          ],
          "scattergeo": [
           {
            "marker": {
             "colorbar": {
              "outlinewidth": 0,
              "ticks": ""
             }
            },
            "type": "scattergeo"
           }
          ],
          "scattergl": [
           {
            "marker": {
             "colorbar": {
              "outlinewidth": 0,
              "ticks": ""
             }
            },
            "type": "scattergl"
           }
          ],
          "scattermap": [
           {
            "marker": {
             "colorbar": {
              "outlinewidth": 0,
              "ticks": ""
             }
            },
            "type": "scattermap"
           }
          ],
          "scattermapbox": [
           {
            "marker": {
             "colorbar": {
              "outlinewidth": 0,
              "ticks": ""
             }
            },
            "type": "scattermapbox"
           }
          ],
          "scatterpolar": [
           {
            "marker": {
             "colorbar": {
              "outlinewidth": 0,
              "ticks": ""
             }
            },
            "type": "scatterpolar"
           }
          ],
          "scatterpolargl": [
           {
            "marker": {
             "colorbar": {
              "outlinewidth": 0,
              "ticks": ""
             }
            },
            "type": "scatterpolargl"
           }
          ],
          "scatterternary": [
           {
            "marker": {
             "colorbar": {
              "outlinewidth": 0,
              "ticks": ""
             }
            },
            "type": "scatterternary"
           }
          ],
          "surface": [
           {
            "colorbar": {
             "outlinewidth": 0,
             "ticks": ""
            },
            "colorscale": [
             [
              0,
              "#0d0887"
             ],
             [
              0.1111111111111111,
              "#46039f"
             ],
             [
              0.2222222222222222,
              "#7201a8"
             ],
             [
              0.3333333333333333,
              "#9c179e"
             ],
             [
              0.4444444444444444,
              "#bd3786"
             ],
             [
              0.5555555555555556,
              "#d8576b"
             ],
             [
              0.6666666666666666,
              "#ed7953"
             ],
             [
              0.7777777777777778,
              "#fb9f3a"
             ],
             [
              0.8888888888888888,
              "#fdca26"
             ],
             [
              1,
              "#f0f921"
             ]
            ],
            "type": "surface"
           }
          ],
          "table": [
           {
            "cells": {
             "fill": {
              "color": "#EBF0F8"
             },
             "line": {
              "color": "white"
             }
            },
            "header": {
             "fill": {
              "color": "#C8D4E3"
             },
             "line": {
              "color": "white"
             }
            },
            "type": "table"
           }
          ]
         },
         "layout": {
          "annotationdefaults": {
           "arrowcolor": "#2a3f5f",
           "arrowhead": 0,
           "arrowwidth": 1
          },
          "autotypenumbers": "strict",
          "coloraxis": {
           "colorbar": {
            "outlinewidth": 0,
            "ticks": ""
           }
          },
          "colorscale": {
           "diverging": [
            [
             0,
             "#8e0152"
            ],
            [
             0.1,
             "#c51b7d"
            ],
            [
             0.2,
             "#de77ae"
            ],
            [
             0.3,
             "#f1b6da"
            ],
            [
             0.4,
             "#fde0ef"
            ],
            [
             0.5,
             "#f7f7f7"
            ],
            [
             0.6,
             "#e6f5d0"
            ],
            [
             0.7,
             "#b8e186"
            ],
            [
             0.8,
             "#7fbc41"
            ],
            [
             0.9,
             "#4d9221"
            ],
            [
             1,
             "#276419"
            ]
           ],
           "sequential": [
            [
             0,
             "#0d0887"
            ],
            [
             0.1111111111111111,
             "#46039f"
            ],
            [
             0.2222222222222222,
             "#7201a8"
            ],
            [
             0.3333333333333333,
             "#9c179e"
            ],
            [
             0.4444444444444444,
             "#bd3786"
            ],
            [
             0.5555555555555556,
             "#d8576b"
            ],
            [
             0.6666666666666666,
             "#ed7953"
            ],
            [
             0.7777777777777778,
             "#fb9f3a"
            ],
            [
             0.8888888888888888,
             "#fdca26"
            ],
            [
             1,
             "#f0f921"
            ]
           ],
           "sequentialminus": [
            [
             0,
             "#0d0887"
            ],
            [
             0.1111111111111111,
             "#46039f"
            ],
            [
             0.2222222222222222,
             "#7201a8"
            ],
            [
             0.3333333333333333,
             "#9c179e"
            ],
            [
             0.4444444444444444,
             "#bd3786"
            ],
            [
             0.5555555555555556,
             "#d8576b"
            ],
            [
             0.6666666666666666,
             "#ed7953"
            ],
            [
             0.7777777777777778,
             "#fb9f3a"
            ],
            [
             0.8888888888888888,
             "#fdca26"
            ],
            [
             1,
             "#f0f921"
            ]
           ]
          },
          "colorway": [
           "#636efa",
           "#EF553B",
           "#00cc96",
           "#ab63fa",
           "#FFA15A",
           "#19d3f3",
           "#FF6692",
           "#B6E880",
           "#FF97FF",
           "#FECB52"
          ],
          "font": {
           "color": "#2a3f5f"
          },
          "geo": {
           "bgcolor": "white",
           "lakecolor": "white",
           "landcolor": "#E5ECF6",
           "showlakes": true,
           "showland": true,
           "subunitcolor": "white"
          },
          "hoverlabel": {
           "align": "left"
          },
          "hovermode": "closest",
          "mapbox": {
           "style": "light"
          },
          "paper_bgcolor": "white",
          "plot_bgcolor": "#E5ECF6",
          "polar": {
           "angularaxis": {
            "gridcolor": "white",
            "linecolor": "white",
            "ticks": ""
           },
           "bgcolor": "#E5ECF6",
           "radialaxis": {
            "gridcolor": "white",
            "linecolor": "white",
            "ticks": ""
           }
          },
          "scene": {
           "xaxis": {
            "backgroundcolor": "#E5ECF6",
            "gridcolor": "white",
            "gridwidth": 2,
            "linecolor": "white",
            "showbackground": true,
            "ticks": "",
            "zerolinecolor": "white"
           },
           "yaxis": {
            "backgroundcolor": "#E5ECF6",
            "gridcolor": "white",
            "gridwidth": 2,
            "linecolor": "white",
            "showbackground": true,
            "ticks": "",
            "zerolinecolor": "white"
           },
           "zaxis": {
            "backgroundcolor": "#E5ECF6",
            "gridcolor": "white",
            "gridwidth": 2,
            "linecolor": "white",
            "showbackground": true,
            "ticks": "",
            "zerolinecolor": "white"
           }
          },
          "shapedefaults": {
           "line": {
            "color": "#2a3f5f"
           }
          },
          "ternary": {
           "aaxis": {
            "gridcolor": "white",
            "linecolor": "white",
            "ticks": ""
           },
           "baxis": {
            "gridcolor": "white",
            "linecolor": "white",
            "ticks": ""
           },
           "bgcolor": "#E5ECF6",
           "caxis": {
            "gridcolor": "white",
            "linecolor": "white",
            "ticks": ""
           }
          },
          "title": {
           "x": 0.05
          },
          "xaxis": {
           "automargin": true,
           "gridcolor": "white",
           "linecolor": "white",
           "ticks": "",
           "title": {
            "standoff": 15
           },
           "zerolinecolor": "white",
           "zerolinewidth": 2
          },
          "yaxis": {
           "automargin": true,
           "gridcolor": "white",
           "linecolor": "white",
           "ticks": "",
           "title": {
            "standoff": 15
           },
           "zerolinecolor": "white",
           "zerolinewidth": 2
          }
         }
        },
        "title": {
         "font": {
          "color": "black",
          "family": "Arial",
          "size": 24
         },
         "text": "Total Gross Sales by Country"
        },
        "xaxis": {
         "anchor": "y",
         "categoryarray": [
          "Canada",
          "France",
          "Germany",
          "Mexico",
          "United States of America"
         ],
         "categoryorder": "array",
         "domain": [
          0,
          1
         ],
         "title": {
          "text": "Country"
         }
        },
        "yaxis": {
         "anchor": "x",
         "domain": [
          0,
          1
         ],
         "separatethousands": true,
         "tickprefix": "$",
         "title": {
          "text": "Gross Sales"
         }
        }
       }
      }
     },
     "metadata": {},
     "output_type": "display_data"
    }
   ],
   "source": [
    "# Grouping by Country and sum Gross_Sales\n",
    "df_gross_sales_country = df.groupby('Country')['Gross_Sales'].sum().reset_index()\n",
    "\n",
    "# Defining a color for each country\n",
    "bar_colors = ['#1f77b4', '#ff7f0e', '#2ca02c', '#d62728', '#9467bd']\n",
    "\n",
    "# Plot using Plotly\n",
    "fig = px.bar(\n",
    "    df_gross_sales_country,\n",
    "    x='Country',\n",
    "    y='Gross_Sales',\n",
    "    title='Total Gross Sales by Country',\n",
    "    labels={'Gross_Sales': 'Gross Sales'},\n",
    "    color='Country',  # Use Country for color mapping\n",
    "    color_discrete_sequence=bar_colors\n",
    ")\n",
    "fig.update_traces(textposition='outside')\n",
    "fig.update_layout(\n",
    "    yaxis_tickprefix='$',\n",
    "    yaxis_separatethousands=True,\n",
    "    title_font_size=24,\n",
    "    title_font_family='Arial',\n",
    "    title_font_color='black',\n",
    "    title_font=dict(size=24, family='Arial', color='black'),\n",
    "    margin=dict(l=60, r=60, t=80, b=60)  # Add padding\n",
    ")\n",
    "fig.show()\n"
   ]
  },
  {
   "cell_type": "code",
   "execution_count": 60,
   "id": "6ea8c5e4",
   "metadata": {},
   "outputs": [
    {
     "data": {
      "application/vnd.plotly.v1+json": {
       "config": {
        "plotlyServerURL": "https://plot.ly"
       },
       "data": [
        {
         "mode": "lines+markers",
         "name": " Amarilla ",
         "type": "scatter",
         "x": [
          " Amarilla "
         ],
         "y": {
          "bdata": "j8L1CEx4RUE=",
          "dtype": "f8"
         }
        },
        {
         "mode": "lines+markers",
         "name": " Carretera ",
         "type": "scatter",
         "x": [
          " Carretera "
         ],
         "y": {
          "bdata": "PQrX4/TfO0E=",
          "dtype": "f8"
         }
        },
        {
         "mode": "lines+markers",
         "name": " Montana ",
         "type": "scatter",
         "x": [
          " Montana "
         ],
         "y": {
          "bdata": "CtejcGEiQEE=",
          "dtype": "f8"
         }
        },
        {
         "mode": "lines+markers",
         "name": " Paseo ",
         "type": "scatter",
         "x": [
          " Paseo "
         ],
         "y": {
          "bdata": "16Nwff9MUkE=",
          "dtype": "f8"
         }
        },
        {
         "mode": "lines+markers",
         "name": " VTT ",
         "type": "scatter",
         "x": [
          " VTT "
         ],
         "y": {
          "bdata": "KVyPAvgmR0E=",
          "dtype": "f8"
         }
        },
        {
         "mode": "lines+markers",
         "name": " Velo ",
         "type": "scatter",
         "x": [
          " Velo "
         ],
         "y": {
          "bdata": "wvUoPOSXQUE=",
          "dtype": "f8"
         }
        }
       ],
       "layout": {
        "hovermode": "x unified",
        "legend": {
         "title": {
          "text": "Product"
         }
        },
        "template": {
         "data": {
          "bar": [
           {
            "error_x": {
             "color": "#2a3f5f"
            },
            "error_y": {
             "color": "#2a3f5f"
            },
            "marker": {
             "line": {
              "color": "#E5ECF6",
              "width": 0.5
             },
             "pattern": {
              "fillmode": "overlay",
              "size": 10,
              "solidity": 0.2
             }
            },
            "type": "bar"
           }
          ],
          "barpolar": [
           {
            "marker": {
             "line": {
              "color": "#E5ECF6",
              "width": 0.5
             },
             "pattern": {
              "fillmode": "overlay",
              "size": 10,
              "solidity": 0.2
             }
            },
            "type": "barpolar"
           }
          ],
          "carpet": [
           {
            "aaxis": {
             "endlinecolor": "#2a3f5f",
             "gridcolor": "white",
             "linecolor": "white",
             "minorgridcolor": "white",
             "startlinecolor": "#2a3f5f"
            },
            "baxis": {
             "endlinecolor": "#2a3f5f",
             "gridcolor": "white",
             "linecolor": "white",
             "minorgridcolor": "white",
             "startlinecolor": "#2a3f5f"
            },
            "type": "carpet"
           }
          ],
          "choropleth": [
           {
            "colorbar": {
             "outlinewidth": 0,
             "ticks": ""
            },
            "type": "choropleth"
           }
          ],
          "contour": [
           {
            "colorbar": {
             "outlinewidth": 0,
             "ticks": ""
            },
            "colorscale": [
             [
              0,
              "#0d0887"
             ],
             [
              0.1111111111111111,
              "#46039f"
             ],
             [
              0.2222222222222222,
              "#7201a8"
             ],
             [
              0.3333333333333333,
              "#9c179e"
             ],
             [
              0.4444444444444444,
              "#bd3786"
             ],
             [
              0.5555555555555556,
              "#d8576b"
             ],
             [
              0.6666666666666666,
              "#ed7953"
             ],
             [
              0.7777777777777778,
              "#fb9f3a"
             ],
             [
              0.8888888888888888,
              "#fdca26"
             ],
             [
              1,
              "#f0f921"
             ]
            ],
            "type": "contour"
           }
          ],
          "contourcarpet": [
           {
            "colorbar": {
             "outlinewidth": 0,
             "ticks": ""
            },
            "type": "contourcarpet"
           }
          ],
          "heatmap": [
           {
            "colorbar": {
             "outlinewidth": 0,
             "ticks": ""
            },
            "colorscale": [
             [
              0,
              "#0d0887"
             ],
             [
              0.1111111111111111,
              "#46039f"
             ],
             [
              0.2222222222222222,
              "#7201a8"
             ],
             [
              0.3333333333333333,
              "#9c179e"
             ],
             [
              0.4444444444444444,
              "#bd3786"
             ],
             [
              0.5555555555555556,
              "#d8576b"
             ],
             [
              0.6666666666666666,
              "#ed7953"
             ],
             [
              0.7777777777777778,
              "#fb9f3a"
             ],
             [
              0.8888888888888888,
              "#fdca26"
             ],
             [
              1,
              "#f0f921"
             ]
            ],
            "type": "heatmap"
           }
          ],
          "histogram": [
           {
            "marker": {
             "pattern": {
              "fillmode": "overlay",
              "size": 10,
              "solidity": 0.2
             }
            },
            "type": "histogram"
           }
          ],
          "histogram2d": [
           {
            "colorbar": {
             "outlinewidth": 0,
             "ticks": ""
            },
            "colorscale": [
             [
              0,
              "#0d0887"
             ],
             [
              0.1111111111111111,
              "#46039f"
             ],
             [
              0.2222222222222222,
              "#7201a8"
             ],
             [
              0.3333333333333333,
              "#9c179e"
             ],
             [
              0.4444444444444444,
              "#bd3786"
             ],
             [
              0.5555555555555556,
              "#d8576b"
             ],
             [
              0.6666666666666666,
              "#ed7953"
             ],
             [
              0.7777777777777778,
              "#fb9f3a"
             ],
             [
              0.8888888888888888,
              "#fdca26"
             ],
             [
              1,
              "#f0f921"
             ]
            ],
            "type": "histogram2d"
           }
          ],
          "histogram2dcontour": [
           {
            "colorbar": {
             "outlinewidth": 0,
             "ticks": ""
            },
            "colorscale": [
             [
              0,
              "#0d0887"
             ],
             [
              0.1111111111111111,
              "#46039f"
             ],
             [
              0.2222222222222222,
              "#7201a8"
             ],
             [
              0.3333333333333333,
              "#9c179e"
             ],
             [
              0.4444444444444444,
              "#bd3786"
             ],
             [
              0.5555555555555556,
              "#d8576b"
             ],
             [
              0.6666666666666666,
              "#ed7953"
             ],
             [
              0.7777777777777778,
              "#fb9f3a"
             ],
             [
              0.8888888888888888,
              "#fdca26"
             ],
             [
              1,
              "#f0f921"
             ]
            ],
            "type": "histogram2dcontour"
           }
          ],
          "mesh3d": [
           {
            "colorbar": {
             "outlinewidth": 0,
             "ticks": ""
            },
            "type": "mesh3d"
           }
          ],
          "parcoords": [
           {
            "line": {
             "colorbar": {
              "outlinewidth": 0,
              "ticks": ""
             }
            },
            "type": "parcoords"
           }
          ],
          "pie": [
           {
            "automargin": true,
            "type": "pie"
           }
          ],
          "scatter": [
           {
            "fillpattern": {
             "fillmode": "overlay",
             "size": 10,
             "solidity": 0.2
            },
            "type": "scatter"
           }
          ],
          "scatter3d": [
           {
            "line": {
             "colorbar": {
              "outlinewidth": 0,
              "ticks": ""
             }
            },
            "marker": {
             "colorbar": {
              "outlinewidth": 0,
              "ticks": ""
             }
            },
            "type": "scatter3d"
           }
          ],
          "scattercarpet": [
           {
            "marker": {
             "colorbar": {
              "outlinewidth": 0,
              "ticks": ""
             }
            },
            "type": "scattercarpet"
           }
          ],
          "scattergeo": [
           {
            "marker": {
             "colorbar": {
              "outlinewidth": 0,
              "ticks": ""
             }
            },
            "type": "scattergeo"
           }
          ],
          "scattergl": [
           {
            "marker": {
             "colorbar": {
              "outlinewidth": 0,
              "ticks": ""
             }
            },
            "type": "scattergl"
           }
          ],
          "scattermap": [
           {
            "marker": {
             "colorbar": {
              "outlinewidth": 0,
              "ticks": ""
             }
            },
            "type": "scattermap"
           }
          ],
          "scattermapbox": [
           {
            "marker": {
             "colorbar": {
              "outlinewidth": 0,
              "ticks": ""
             }
            },
            "type": "scattermapbox"
           }
          ],
          "scatterpolar": [
           {
            "marker": {
             "colorbar": {
              "outlinewidth": 0,
              "ticks": ""
             }
            },
            "type": "scatterpolar"
           }
          ],
          "scatterpolargl": [
           {
            "marker": {
             "colorbar": {
              "outlinewidth": 0,
              "ticks": ""
             }
            },
            "type": "scatterpolargl"
           }
          ],
          "scatterternary": [
           {
            "marker": {
             "colorbar": {
              "outlinewidth": 0,
              "ticks": ""
             }
            },
            "type": "scatterternary"
           }
          ],
          "surface": [
           {
            "colorbar": {
             "outlinewidth": 0,
             "ticks": ""
            },
            "colorscale": [
             [
              0,
              "#0d0887"
             ],
             [
              0.1111111111111111,
              "#46039f"
             ],
             [
              0.2222222222222222,
              "#7201a8"
             ],
             [
              0.3333333333333333,
              "#9c179e"
             ],
             [
              0.4444444444444444,
              "#bd3786"
             ],
             [
              0.5555555555555556,
              "#d8576b"
             ],
             [
              0.6666666666666666,
              "#ed7953"
             ],
             [
              0.7777777777777778,
              "#fb9f3a"
             ],
             [
              0.8888888888888888,
              "#fdca26"
             ],
             [
              1,
              "#f0f921"
             ]
            ],
            "type": "surface"
           }
          ],
          "table": [
           {
            "cells": {
             "fill": {
              "color": "#EBF0F8"
             },
             "line": {
              "color": "white"
             }
            },
            "header": {
             "fill": {
              "color": "#C8D4E3"
             },
             "line": {
              "color": "white"
             }
            },
            "type": "table"
           }
          ]
         },
         "layout": {
          "annotationdefaults": {
           "arrowcolor": "#2a3f5f",
           "arrowhead": 0,
           "arrowwidth": 1
          },
          "autotypenumbers": "strict",
          "coloraxis": {
           "colorbar": {
            "outlinewidth": 0,
            "ticks": ""
           }
          },
          "colorscale": {
           "diverging": [
            [
             0,
             "#8e0152"
            ],
            [
             0.1,
             "#c51b7d"
            ],
            [
             0.2,
             "#de77ae"
            ],
            [
             0.3,
             "#f1b6da"
            ],
            [
             0.4,
             "#fde0ef"
            ],
            [
             0.5,
             "#f7f7f7"
            ],
            [
             0.6,
             "#e6f5d0"
            ],
            [
             0.7,
             "#b8e186"
            ],
            [
             0.8,
             "#7fbc41"
            ],
            [
             0.9,
             "#4d9221"
            ],
            [
             1,
             "#276419"
            ]
           ],
           "sequential": [
            [
             0,
             "#0d0887"
            ],
            [
             0.1111111111111111,
             "#46039f"
            ],
            [
             0.2222222222222222,
             "#7201a8"
            ],
            [
             0.3333333333333333,
             "#9c179e"
            ],
            [
             0.4444444444444444,
             "#bd3786"
            ],
            [
             0.5555555555555556,
             "#d8576b"
            ],
            [
             0.6666666666666666,
             "#ed7953"
            ],
            [
             0.7777777777777778,
             "#fb9f3a"
            ],
            [
             0.8888888888888888,
             "#fdca26"
            ],
            [
             1,
             "#f0f921"
            ]
           ],
           "sequentialminus": [
            [
             0,
             "#0d0887"
            ],
            [
             0.1111111111111111,
             "#46039f"
            ],
            [
             0.2222222222222222,
             "#7201a8"
            ],
            [
             0.3333333333333333,
             "#9c179e"
            ],
            [
             0.4444444444444444,
             "#bd3786"
            ],
            [
             0.5555555555555556,
             "#d8576b"
            ],
            [
             0.6666666666666666,
             "#ed7953"
            ],
            [
             0.7777777777777778,
             "#fb9f3a"
            ],
            [
             0.8888888888888888,
             "#fdca26"
            ],
            [
             1,
             "#f0f921"
            ]
           ]
          },
          "colorway": [
           "#636efa",
           "#EF553B",
           "#00cc96",
           "#ab63fa",
           "#FFA15A",
           "#19d3f3",
           "#FF6692",
           "#B6E880",
           "#FF97FF",
           "#FECB52"
          ],
          "font": {
           "color": "#2a3f5f"
          },
          "geo": {
           "bgcolor": "white",
           "lakecolor": "white",
           "landcolor": "#E5ECF6",
           "showlakes": true,
           "showland": true,
           "subunitcolor": "white"
          },
          "hoverlabel": {
           "align": "left"
          },
          "hovermode": "closest",
          "mapbox": {
           "style": "light"
          },
          "paper_bgcolor": "white",
          "plot_bgcolor": "#E5ECF6",
          "polar": {
           "angularaxis": {
            "gridcolor": "white",
            "linecolor": "white",
            "ticks": ""
           },
           "bgcolor": "#E5ECF6",
           "radialaxis": {
            "gridcolor": "white",
            "linecolor": "white",
            "ticks": ""
           }
          },
          "scene": {
           "xaxis": {
            "backgroundcolor": "#E5ECF6",
            "gridcolor": "white",
            "gridwidth": 2,
            "linecolor": "white",
            "showbackground": true,
            "ticks": "",
            "zerolinecolor": "white"
           },
           "yaxis": {
            "backgroundcolor": "#E5ECF6",
            "gridcolor": "white",
            "gridwidth": 2,
            "linecolor": "white",
            "showbackground": true,
            "ticks": "",
            "zerolinecolor": "white"
           },
           "zaxis": {
            "backgroundcolor": "#E5ECF6",
            "gridcolor": "white",
            "gridwidth": 2,
            "linecolor": "white",
            "showbackground": true,
            "ticks": "",
            "zerolinecolor": "white"
           }
          },
          "shapedefaults": {
           "line": {
            "color": "#2a3f5f"
           }
          },
          "ternary": {
           "aaxis": {
            "gridcolor": "white",
            "linecolor": "white",
            "ticks": ""
           },
           "baxis": {
            "gridcolor": "white",
            "linecolor": "white",
            "ticks": ""
           },
           "bgcolor": "#E5ECF6",
           "caxis": {
            "gridcolor": "white",
            "linecolor": "white",
            "ticks": ""
           }
          },
          "title": {
           "x": 0.05
          },
          "xaxis": {
           "automargin": true,
           "gridcolor": "white",
           "linecolor": "white",
           "ticks": "",
           "title": {
            "standoff": 15
           },
           "zerolinecolor": "white",
           "zerolinewidth": 2
          },
          "yaxis": {
           "automargin": true,
           "gridcolor": "white",
           "linecolor": "white",
           "ticks": "",
           "title": {
            "standoff": 15
           },
           "zerolinecolor": "white",
           "zerolinewidth": 2
          }
         }
        },
        "title": {
         "text": "Yearly Profit Trend by Product"
        },
        "xaxis": {
         "title": {
          "text": "Product"
         }
        },
        "yaxis": {
         "title": {
          "text": "Profit ($)"
         }
        }
       }
      }
     },
     "metadata": {},
     "output_type": "display_data"
    }
   ],
   "source": [
    "# Grouping by Year and Product, summing Profit\n",
    "df_profit_trend = df.groupby(['Product'])['Profit'].sum().reset_index()\n",
    "\n",
    "# Creating the figure\n",
    "fig = go.Figure()\n",
    "\n",
    "# Adding a line for each product\n",
    "for product in df_profit_trend['Product'].unique():\n",
    "    product_data = df_profit_trend[df_profit_trend['Product'] == product]\n",
    "    fig.add_trace(go.Scatter(\n",
    "        x=product_data['Product'],\n",
    "        y=product_data['Profit'],\n",
    "        mode='lines+markers',\n",
    "        name=product\n",
    "    ))\n",
    "\n",
    "# Update layout\n",
    "fig.update_layout(\n",
    "    title='Yearly Profit Trend by Product',\n",
    "    xaxis_title='Product',\n",
    "    yaxis_title='Profit ($)',\n",
    "    hovermode='x unified',\n",
    "    legend_title='Product'\n",
    ")\n",
    "\n",
    "fig.show()\n"
   ]
  },
  {
   "cell_type": "code",
   "execution_count": 61,
   "id": "4a250e20",
   "metadata": {},
   "outputs": [
    {
     "data": {
      "application/vnd.microsoft.datawrangler.viewer.v0+json": {
       "columns": [
        {
         "name": "index",
         "rawType": "int64",
         "type": "integer"
        },
        {
         "name": "Country",
         "rawType": "object",
         "type": "string"
        },
        {
         "name": "Product",
         "rawType": "object",
         "type": "string"
        },
        {
         "name": "Total_Units_Sold",
         "rawType": "float64",
         "type": "float"
        }
       ],
       "conversionMethod": "pd.DataFrame",
       "ref": "0f0ae15d-03c9-4aad-91c1-0c067e443f72",
       "rows": [
        [
         "0",
         "Canada",
         " Amarilla ",
         "29232.0"
        ],
        [
         "1",
         "Canada",
         " Carretera ",
         "34804.0"
        ],
        [
         "2",
         "Canada",
         " Montana ",
         "31488.5"
        ],
        [
         "3",
         "Canada",
         " Paseo ",
         "78191.5"
        ],
        [
         "4",
         "Canada",
         " VTT ",
         "41248.5"
        ],
        [
         "5",
         "Canada",
         " Velo ",
         "32464.0"
        ],
        [
         "6",
         "France",
         " Amarilla ",
         "31603.0"
        ],
        [
         "7",
         "France",
         " Carretera ",
         "34056.0"
        ],
        [
         "8",
         "France",
         " Montana ",
         "31282.0"
        ],
        [
         "9",
         "France",
         " Paseo ",
         "71606.0"
        ],
        [
         "10",
         "France",
         " VTT ",
         "35774.5"
        ],
        [
         "11",
         "France",
         " Velo ",
         "36609.5"
        ],
        [
         "12",
         "Germany",
         " Amarilla ",
         "30614.5"
        ],
        [
         "13",
         "Germany",
         " Carretera ",
         "24944.0"
        ],
        [
         "14",
         "Germany",
         " Montana ",
         "28061.0"
        ],
        [
         "15",
         "Germany",
         " Paseo ",
         "55693.5"
        ],
        [
         "16",
         "Germany",
         " VTT ",
         "31131.0"
        ],
        [
         "17",
         "Germany",
         " Velo ",
         "31050.0"
        ],
        [
         "18",
         "Mexico",
         " Amarilla ",
         "28396.0"
        ],
        [
         "19",
         "Mexico",
         " Carretera ",
         "27224.0"
        ],
        [
         "20",
         "Mexico",
         " Montana ",
         "31754.0"
        ],
        [
         "21",
         "Mexico",
         " Paseo ",
         "63282.0"
        ],
        [
         "22",
         "Mexico",
         " VTT ",
         "26129.0"
        ],
        [
         "23",
         "Mexico",
         " Velo ",
         "26540.0"
        ],
        [
         "24",
         "United States of America",
         " Amarilla ",
         "35469.5"
        ],
        [
         "25",
         "United States of America",
         " Carretera ",
         "25818.0"
        ],
        [
         "26",
         "United States of America",
         " Montana ",
         "31612.5"
        ],
        [
         "27",
         "United States of America",
         " Paseo ",
         "69466.5"
        ],
        [
         "28",
         "United States of America",
         " VTT ",
         "34500.0"
        ],
        [
         "29",
         "United States of America",
         " Velo ",
         "35761.0"
        ]
       ],
       "shape": {
        "columns": 3,
        "rows": 30
       }
      },
      "text/html": [
       "<div>\n",
       "<style scoped>\n",
       "    .dataframe tbody tr th:only-of-type {\n",
       "        vertical-align: middle;\n",
       "    }\n",
       "\n",
       "    .dataframe tbody tr th {\n",
       "        vertical-align: top;\n",
       "    }\n",
       "\n",
       "    .dataframe thead th {\n",
       "        text-align: right;\n",
       "    }\n",
       "</style>\n",
       "<table border=\"1\" class=\"dataframe\">\n",
       "  <thead>\n",
       "    <tr style=\"text-align: right;\">\n",
       "      <th></th>\n",
       "      <th>Country</th>\n",
       "      <th>Product</th>\n",
       "      <th>Total_Units_Sold</th>\n",
       "    </tr>\n",
       "  </thead>\n",
       "  <tbody>\n",
       "    <tr>\n",
       "      <th>0</th>\n",
       "      <td>Canada</td>\n",
       "      <td>Amarilla</td>\n",
       "      <td>29232.0</td>\n",
       "    </tr>\n",
       "    <tr>\n",
       "      <th>1</th>\n",
       "      <td>Canada</td>\n",
       "      <td>Carretera</td>\n",
       "      <td>34804.0</td>\n",
       "    </tr>\n",
       "    <tr>\n",
       "      <th>2</th>\n",
       "      <td>Canada</td>\n",
       "      <td>Montana</td>\n",
       "      <td>31488.5</td>\n",
       "    </tr>\n",
       "    <tr>\n",
       "      <th>3</th>\n",
       "      <td>Canada</td>\n",
       "      <td>Paseo</td>\n",
       "      <td>78191.5</td>\n",
       "    </tr>\n",
       "    <tr>\n",
       "      <th>4</th>\n",
       "      <td>Canada</td>\n",
       "      <td>VTT</td>\n",
       "      <td>41248.5</td>\n",
       "    </tr>\n",
       "    <tr>\n",
       "      <th>5</th>\n",
       "      <td>Canada</td>\n",
       "      <td>Velo</td>\n",
       "      <td>32464.0</td>\n",
       "    </tr>\n",
       "    <tr>\n",
       "      <th>6</th>\n",
       "      <td>France</td>\n",
       "      <td>Amarilla</td>\n",
       "      <td>31603.0</td>\n",
       "    </tr>\n",
       "    <tr>\n",
       "      <th>7</th>\n",
       "      <td>France</td>\n",
       "      <td>Carretera</td>\n",
       "      <td>34056.0</td>\n",
       "    </tr>\n",
       "    <tr>\n",
       "      <th>8</th>\n",
       "      <td>France</td>\n",
       "      <td>Montana</td>\n",
       "      <td>31282.0</td>\n",
       "    </tr>\n",
       "    <tr>\n",
       "      <th>9</th>\n",
       "      <td>France</td>\n",
       "      <td>Paseo</td>\n",
       "      <td>71606.0</td>\n",
       "    </tr>\n",
       "    <tr>\n",
       "      <th>10</th>\n",
       "      <td>France</td>\n",
       "      <td>VTT</td>\n",
       "      <td>35774.5</td>\n",
       "    </tr>\n",
       "    <tr>\n",
       "      <th>11</th>\n",
       "      <td>France</td>\n",
       "      <td>Velo</td>\n",
       "      <td>36609.5</td>\n",
       "    </tr>\n",
       "    <tr>\n",
       "      <th>12</th>\n",
       "      <td>Germany</td>\n",
       "      <td>Amarilla</td>\n",
       "      <td>30614.5</td>\n",
       "    </tr>\n",
       "    <tr>\n",
       "      <th>13</th>\n",
       "      <td>Germany</td>\n",
       "      <td>Carretera</td>\n",
       "      <td>24944.0</td>\n",
       "    </tr>\n",
       "    <tr>\n",
       "      <th>14</th>\n",
       "      <td>Germany</td>\n",
       "      <td>Montana</td>\n",
       "      <td>28061.0</td>\n",
       "    </tr>\n",
       "    <tr>\n",
       "      <th>15</th>\n",
       "      <td>Germany</td>\n",
       "      <td>Paseo</td>\n",
       "      <td>55693.5</td>\n",
       "    </tr>\n",
       "    <tr>\n",
       "      <th>16</th>\n",
       "      <td>Germany</td>\n",
       "      <td>VTT</td>\n",
       "      <td>31131.0</td>\n",
       "    </tr>\n",
       "    <tr>\n",
       "      <th>17</th>\n",
       "      <td>Germany</td>\n",
       "      <td>Velo</td>\n",
       "      <td>31050.0</td>\n",
       "    </tr>\n",
       "    <tr>\n",
       "      <th>18</th>\n",
       "      <td>Mexico</td>\n",
       "      <td>Amarilla</td>\n",
       "      <td>28396.0</td>\n",
       "    </tr>\n",
       "    <tr>\n",
       "      <th>19</th>\n",
       "      <td>Mexico</td>\n",
       "      <td>Carretera</td>\n",
       "      <td>27224.0</td>\n",
       "    </tr>\n",
       "    <tr>\n",
       "      <th>20</th>\n",
       "      <td>Mexico</td>\n",
       "      <td>Montana</td>\n",
       "      <td>31754.0</td>\n",
       "    </tr>\n",
       "    <tr>\n",
       "      <th>21</th>\n",
       "      <td>Mexico</td>\n",
       "      <td>Paseo</td>\n",
       "      <td>63282.0</td>\n",
       "    </tr>\n",
       "    <tr>\n",
       "      <th>22</th>\n",
       "      <td>Mexico</td>\n",
       "      <td>VTT</td>\n",
       "      <td>26129.0</td>\n",
       "    </tr>\n",
       "    <tr>\n",
       "      <th>23</th>\n",
       "      <td>Mexico</td>\n",
       "      <td>Velo</td>\n",
       "      <td>26540.0</td>\n",
       "    </tr>\n",
       "    <tr>\n",
       "      <th>24</th>\n",
       "      <td>United States of America</td>\n",
       "      <td>Amarilla</td>\n",
       "      <td>35469.5</td>\n",
       "    </tr>\n",
       "    <tr>\n",
       "      <th>25</th>\n",
       "      <td>United States of America</td>\n",
       "      <td>Carretera</td>\n",
       "      <td>25818.0</td>\n",
       "    </tr>\n",
       "    <tr>\n",
       "      <th>26</th>\n",
       "      <td>United States of America</td>\n",
       "      <td>Montana</td>\n",
       "      <td>31612.5</td>\n",
       "    </tr>\n",
       "    <tr>\n",
       "      <th>27</th>\n",
       "      <td>United States of America</td>\n",
       "      <td>Paseo</td>\n",
       "      <td>69466.5</td>\n",
       "    </tr>\n",
       "    <tr>\n",
       "      <th>28</th>\n",
       "      <td>United States of America</td>\n",
       "      <td>VTT</td>\n",
       "      <td>34500.0</td>\n",
       "    </tr>\n",
       "    <tr>\n",
       "      <th>29</th>\n",
       "      <td>United States of America</td>\n",
       "      <td>Velo</td>\n",
       "      <td>35761.0</td>\n",
       "    </tr>\n",
       "  </tbody>\n",
       "</table>\n",
       "</div>"
      ],
      "text/plain": [
       "                     Country      Product  Total_Units_Sold\n",
       "0                     Canada    Amarilla            29232.0\n",
       "1                     Canada   Carretera            34804.0\n",
       "2                     Canada     Montana            31488.5\n",
       "3                     Canada       Paseo            78191.5\n",
       "4                     Canada         VTT            41248.5\n",
       "5                     Canada        Velo            32464.0\n",
       "6                     France    Amarilla            31603.0\n",
       "7                     France   Carretera            34056.0\n",
       "8                     France     Montana            31282.0\n",
       "9                     France       Paseo            71606.0\n",
       "10                    France         VTT            35774.5\n",
       "11                    France        Velo            36609.5\n",
       "12                   Germany    Amarilla            30614.5\n",
       "13                   Germany   Carretera            24944.0\n",
       "14                   Germany     Montana            28061.0\n",
       "15                   Germany       Paseo            55693.5\n",
       "16                   Germany         VTT            31131.0\n",
       "17                   Germany        Velo            31050.0\n",
       "18                    Mexico    Amarilla            28396.0\n",
       "19                    Mexico   Carretera            27224.0\n",
       "20                    Mexico     Montana            31754.0\n",
       "21                    Mexico       Paseo            63282.0\n",
       "22                    Mexico         VTT            26129.0\n",
       "23                    Mexico        Velo            26540.0\n",
       "24  United States of America    Amarilla            35469.5\n",
       "25  United States of America   Carretera            25818.0\n",
       "26  United States of America     Montana            31612.5\n",
       "27  United States of America       Paseo            69466.5\n",
       "28  United States of America         VTT            34500.0\n",
       "29  United States of America        Velo            35761.0"
      ]
     },
     "execution_count": 61,
     "metadata": {},
     "output_type": "execute_result"
    }
   ],
   "source": [
    "# Summarizing the total number of products sold per country\n",
    "# Grouping by Country and Product, then sum Units_Sold\n",
    "df_products_sold = df.groupby(['Country', 'Product'])['Units_Sold'].sum().reset_index()\n",
    "df_products_sold = df_products_sold.rename(columns={'Units_Sold': 'Total_Units_Sold'})\n",
    "df_products_sold"
   ]
  },
  {
   "cell_type": "code",
   "execution_count": 62,
   "id": "2ccb1bd1",
   "metadata": {},
   "outputs": [
    {
     "data": {
      "image/png": "[encoded data removed]",
      "text/plain": [
       "<Figure size 1800x800 with 1 Axes>"
      ]
     },
     "metadata": {},
     "output_type": "display_data"
    }
   ],
   "source": [
    "fig, ax = plt.subplots(figsize=(18, 8))\n",
    "sns.barplot(\n",
    "    data=df_products_sold,\n",
    "    x='Product',\n",
    "    y='Total_Units_Sold',\n",
    "    hue='Country',\n",
    "    ax=ax\n",
    ")\n",
    "\n",
    "# Adding the labels inside the bars, vertically centered\n",
    "for p in ax.patches:\n",
    "    height = p.get_height()\n",
    "    if height > 0:  # Only label bars with height > 0\n",
    "        ax.text(\n",
    "            p.get_x() + p.get_width() / 2,\n",
    "            height / 2,\n",
    "            f'{int(height):,}',  # Format with commas for thousands\n",
    "            ha='center',\n",
    "            va='center',\n",
    "            rotation=90,\n",
    "            color='white' if height > 10 else 'black',  # Change text color based on height\n",
    "            fontsize=12\n",
    "        )\n",
    "ax.set_facecolor('#F8F8F8')\n",
    "fig.patch.set_facecolor('#FAFAFA')\n",
    "ax.set_xlabel('Product')\n",
    "ax.set_ylabel('Total Units Sold')\n",
    "ax.set_title('Total Units Sold by Product and Country', fontsize=20, fontweight='bold')\n",
    "ax.legend(title='Country')\n",
    "plt.tight_layout()\n",
    "plt.show()"
   ]
  },
  {
   "cell_type": "code",
   "execution_count": 63,
   "id": "d237f097",
   "metadata": {},
   "outputs": [
    {
     "data": {
      "application/vnd.microsoft.datawrangler.viewer.v0+json": {
       "columns": [
        {
         "name": "index",
         "rawType": "int64",
         "type": "integer"
        },
        {
         "name": "Discount_Band",
         "rawType": "object",
         "type": "string"
        },
        {
         "name": "Count",
         "rawType": "int64",
         "type": "integer"
        }
       ],
       "conversionMethod": "pd.DataFrame",
       "ref": "291f073a-9f9f-454a-8234-72b49a2317af",
       "rows": [
        [
         "0",
         " High ",
         "245"
        ],
        [
         "1",
         " Low ",
         "160"
        ],
        [
         "2",
         " Medium ",
         "242"
        ],
        [
         "3",
         " None ",
         "53"
        ]
       ],
       "shape": {
        "columns": 2,
        "rows": 4
       }
      },
      "text/html": [
       "<div>\n",
       "<style scoped>\n",
       "    .dataframe tbody tr th:only-of-type {\n",
       "        vertical-align: middle;\n",
       "    }\n",
       "\n",
       "    .dataframe tbody tr th {\n",
       "        vertical-align: top;\n",
       "    }\n",
       "\n",
       "    .dataframe thead th {\n",
       "        text-align: right;\n",
       "    }\n",
       "</style>\n",
       "<table border=\"1\" class=\"dataframe\">\n",
       "  <thead>\n",
       "    <tr style=\"text-align: right;\">\n",
       "      <th></th>\n",
       "      <th>Discount_Band</th>\n",
       "      <th>Count</th>\n",
       "    </tr>\n",
       "  </thead>\n",
       "  <tbody>\n",
       "    <tr>\n",
       "      <th>0</th>\n",
       "      <td>High</td>\n",
       "      <td>245</td>\n",
       "    </tr>\n",
       "    <tr>\n",
       "      <th>1</th>\n",
       "      <td>Low</td>\n",
       "      <td>160</td>\n",
       "    </tr>\n",
       "    <tr>\n",
       "      <th>2</th>\n",
       "      <td>Medium</td>\n",
       "      <td>242</td>\n",
       "    </tr>\n",
       "    <tr>\n",
       "      <th>3</th>\n",
       "      <td>None</td>\n",
       "      <td>53</td>\n",
       "    </tr>\n",
       "  </tbody>\n",
       "</table>\n",
       "</div>"
      ],
      "text/plain": [
       "  Discount_Band  Count\n",
       "0         High     245\n",
       "1          Low     160\n",
       "2       Medium     242\n",
       "3         None      53"
      ]
     },
     "execution_count": 63,
     "metadata": {},
     "output_type": "execute_result"
    }
   ],
   "source": [
    "df_info_discount_band = df.groupby('Discount_Band').size().reset_index(name='Count')\n",
    "df_info_discount_band"
   ]
  },
  {
   "cell_type": "code",
   "execution_count": 64,
   "id": "3a5e6e8f",
   "metadata": {},
   "outputs": [
    {
     "data": {
      "application/vnd.microsoft.datawrangler.viewer.v0+json": {
       "columns": [
        {
         "name": "index",
         "rawType": "int64",
         "type": "integer"
        },
        {
         "name": "Product",
         "rawType": "object",
         "type": "string"
        },
        {
         "name": "Sum",
         "rawType": "float64",
         "type": "float"
        }
       ],
       "conversionMethod": "pd.DataFrame",
       "ref": "1c65693e-0ead-4d82-81c6-7740a114bdf6",
       "rows": [
        [
         "0",
         " Amarilla ",
         "155315.0"
        ],
        [
         "1",
         " Carretera ",
         "146846.0"
        ],
        [
         "2",
         " Montana ",
         "154198.0"
        ],
        [
         "3",
         " Paseo ",
         "338239.5"
        ],
        [
         "4",
         " VTT ",
         "168783.0"
        ],
        [
         "5",
         " Velo ",
         "162424.5"
        ]
       ],
       "shape": {
        "columns": 2,
        "rows": 6
       }
      },
      "text/html": [
       "<div>\n",
       "<style scoped>\n",
       "    .dataframe tbody tr th:only-of-type {\n",
       "        vertical-align: middle;\n",
       "    }\n",
       "\n",
       "    .dataframe tbody tr th {\n",
       "        vertical-align: top;\n",
       "    }\n",
       "\n",
       "    .dataframe thead th {\n",
       "        text-align: right;\n",
       "    }\n",
       "</style>\n",
       "<table border=\"1\" class=\"dataframe\">\n",
       "  <thead>\n",
       "    <tr style=\"text-align: right;\">\n",
       "      <th></th>\n",
       "      <th>Product</th>\n",
       "      <th>Sum</th>\n",
       "    </tr>\n",
       "  </thead>\n",
       "  <tbody>\n",
       "    <tr>\n",
       "      <th>0</th>\n",
       "      <td>Amarilla</td>\n",
       "      <td>155315.0</td>\n",
       "    </tr>\n",
       "    <tr>\n",
       "      <th>1</th>\n",
       "      <td>Carretera</td>\n",
       "      <td>146846.0</td>\n",
       "    </tr>\n",
       "    <tr>\n",
       "      <th>2</th>\n",
       "      <td>Montana</td>\n",
       "      <td>154198.0</td>\n",
       "    </tr>\n",
       "    <tr>\n",
       "      <th>3</th>\n",
       "      <td>Paseo</td>\n",
       "      <td>338239.5</td>\n",
       "    </tr>\n",
       "    <tr>\n",
       "      <th>4</th>\n",
       "      <td>VTT</td>\n",
       "      <td>168783.0</td>\n",
       "    </tr>\n",
       "    <tr>\n",
       "      <th>5</th>\n",
       "      <td>Velo</td>\n",
       "      <td>162424.5</td>\n",
       "    </tr>\n",
       "  </tbody>\n",
       "</table>\n",
       "</div>"
      ],
      "text/plain": [
       "       Product       Sum\n",
       "0    Amarilla   155315.0\n",
       "1   Carretera   146846.0\n",
       "2     Montana   154198.0\n",
       "3       Paseo   338239.5\n",
       "4         VTT   168783.0\n",
       "5        Velo   162424.5"
      ]
     },
     "execution_count": 64,
     "metadata": {},
     "output_type": "execute_result"
    }
   ],
   "source": [
    "df_info_segment = df.groupby('Product')['Units_Sold'].sum().reset_index(name='Sum')\n",
    "df_info_segment"
   ]
  },
  {
   "cell_type": "code",
   "execution_count": 65,
   "id": "7113ef90",
   "metadata": {},
   "outputs": [
    {
     "data": {
      "image/png": "[encoded data removed]",
      "text/plain": [
       "<Figure size 1000x600 with 1 Axes>"
      ]
     },
     "metadata": {},
     "output_type": "display_data"
    }
   ],
   "source": [
    "# Creating a bar chart with gradient color using seaborn\n",
    "\n",
    "# We'll use df_info_segment for this example (Product vs Sum)\n",
    "\n",
    "# Creating a color palette with a gradient\n",
    "gradient_palette = sns.color_palette(\"magma\", len(df_info_segment))\n",
    "\n",
    "fig, ax = plt.subplots(figsize=(10, 6))\n",
    "sns.barplot(\n",
    "    data=df_info_segment,\n",
    "    x='Product',\n",
    "    y='Sum',\n",
    "    hue='Product',\n",
    "    palette=gradient_palette,\n",
    "    ax=ax\n",
    ")\n",
    "ax.set_title('Total Units Sold by Product', fontsize=16)\n",
    "ax.set_xlabel('Product')\n",
    "ax.set_ylabel('Total Units Sold')\n",
    "plt.tight_layout()\n",
    "plt.show()"
   ]
  },
  {
   "cell_type": "code",
   "execution_count": 66,
   "id": "9bde8073",
   "metadata": {},
   "outputs": [
    {
     "data": {
      "image/png": "[encoded data removed]",
      "text/plain": [
       "<Figure size 1200x600 with 1 Axes>"
      ]
     },
     "metadata": {},
     "output_type": "display_data"
    }
   ],
   "source": [
    "# Comparing the total units sold by product for each year using a grouped bar chart\n",
    "\n",
    "# Grouping by Year and Product, sum Units_Sold\n",
    "df_units_sold_year = df.groupby(['Year', 'Product'])['Units_Sold'].sum().reset_index()\n",
    "\n",
    "# Pivot for plotting\n",
    "df_units_sold_pivot = df_units_sold_year.pivot(index='Product', columns='Year', values='Units_Sold').fillna(0)\n",
    "\n",
    "products = df_units_sold_pivot.index\n",
    "years = df_units_sold_pivot.columns.values\n",
    "x = np.arange(len(products))\n",
    "bar_width = 0.35\n",
    "\n",
    "fig, ax = plt.subplots(figsize=(12, 6))\n",
    "\n",
    "bars = []\n",
    "for i, year in enumerate(years):\n",
    "    bars.append(\n",
    "        ax.bar(\n",
    "            x + i * bar_width,\n",
    "            df_units_sold_pivot[year],\n",
    "            bar_width,\n",
    "            label=str(year)\n",
    "        )\n",
    "    )\n",
    "\n",
    "# Adding the labels to each bar with the number of units sold\n",
    "for i, year in enumerate(years):\n",
    "    for j, product in enumerate(products):\n",
    "        units = df_units_sold_pivot.loc[product, year]\n",
    "        ax.text(\n",
    "            x[j] + i * bar_width,\n",
    "            units / 2,\n",
    "            f'{int(units):,}',\n",
    "            ha='center',\n",
    "            va='center',\n",
    "            rotation=90,\n",
    "            color='black' if units > 0 else 'black',\n",
    "            fontsize=10\n",
    "        )\n",
    "\n",
    "ax.set_xticks(x + bar_width / 2)\n",
    "ax.set_xticklabels(products)\n",
    "ax.set_xlabel('Product')\n",
    "ax.set_ylabel('Total Units Sold')\n",
    "ax.set_title('Total Units Sold by Product and Year')\n",
    "ax.legend(title='Year')\n",
    "plt.tight_layout()\n",
    "plt.show()"
   ]
  },
  {
   "cell_type": "code",
   "execution_count": 67,
   "id": "125e08c0",
   "metadata": {},
   "outputs": [
    {
     "data": {
      "application/vnd.microsoft.datawrangler.viewer.v0+json": {
       "columns": [
        {
         "name": "index",
         "rawType": "int64",
         "type": "integer"
        },
        {
         "name": "Month_Name",
         "rawType": "category",
         "type": "unknown"
        },
        {
         "name": "Sum",
         "rawType": "float64",
         "type": "float"
        }
       ],
       "conversionMethod": "pd.DataFrame",
       "ref": "be04ffde-5c38-4a61-a989-9d38fb639782",
       "rows": [
        [
         "0",
         "January",
         "67835.5"
        ],
        [
         "1",
         "February",
         "55115.0"
        ],
        [
         "2",
         "March",
         "53420.0"
        ],
        [
         "3",
         "April",
         "78886.5"
        ],
        [
         "4",
         "May",
         "51771.0"
        ],
        [
         "5",
         "June",
         "103302.0"
        ],
        [
         "6",
         "July",
         "69349.0"
        ],
        [
         "7",
         "August",
         "60705.0"
        ],
        [
         "8",
         "September",
         "107881.0"
        ],
        [
         "9",
         "October",
         "201104.0"
        ],
        [
         "10",
         "November",
         "121131.0"
        ],
        [
         "11",
         "December",
         "155306.0"
        ]
       ],
       "shape": {
        "columns": 2,
        "rows": 12
       }
      },
      "text/html": [
       "<div>\n",
       "<style scoped>\n",
       "    .dataframe tbody tr th:only-of-type {\n",
       "        vertical-align: middle;\n",
       "    }\n",
       "\n",
       "    .dataframe tbody tr th {\n",
       "        vertical-align: top;\n",
       "    }\n",
       "\n",
       "    .dataframe thead th {\n",
       "        text-align: right;\n",
       "    }\n",
       "</style>\n",
       "<table border=\"1\" class=\"dataframe\">\n",
       "  <thead>\n",
       "    <tr style=\"text-align: right;\">\n",
       "      <th></th>\n",
       "      <th>Month_Name</th>\n",
       "      <th>Sum</th>\n",
       "    </tr>\n",
       "  </thead>\n",
       "  <tbody>\n",
       "    <tr>\n",
       "      <th>0</th>\n",
       "      <td>January</td>\n",
       "      <td>67835.5</td>\n",
       "    </tr>\n",
       "    <tr>\n",
       "      <th>1</th>\n",
       "      <td>February</td>\n",
       "      <td>55115.0</td>\n",
       "    </tr>\n",
       "    <tr>\n",
       "      <th>2</th>\n",
       "      <td>March</td>\n",
       "      <td>53420.0</td>\n",
       "    </tr>\n",
       "    <tr>\n",
       "      <th>3</th>\n",
       "      <td>April</td>\n",
       "      <td>78886.5</td>\n",
       "    </tr>\n",
       "    <tr>\n",
       "      <th>4</th>\n",
       "      <td>May</td>\n",
       "      <td>51771.0</td>\n",
       "    </tr>\n",
       "    <tr>\n",
       "      <th>5</th>\n",
       "      <td>June</td>\n",
       "      <td>103302.0</td>\n",
       "    </tr>\n",
       "    <tr>\n",
       "      <th>6</th>\n",
       "      <td>July</td>\n",
       "      <td>69349.0</td>\n",
       "    </tr>\n",
       "    <tr>\n",
       "      <th>7</th>\n",
       "      <td>August</td>\n",
       "      <td>60705.0</td>\n",
       "    </tr>\n",
       "    <tr>\n",
       "      <th>8</th>\n",
       "      <td>September</td>\n",
       "      <td>107881.0</td>\n",
       "    </tr>\n",
       "    <tr>\n",
       "      <th>9</th>\n",
       "      <td>October</td>\n",
       "      <td>201104.0</td>\n",
       "    </tr>\n",
       "    <tr>\n",
       "      <th>10</th>\n",
       "      <td>November</td>\n",
       "      <td>121131.0</td>\n",
       "    </tr>\n",
       "    <tr>\n",
       "      <th>11</th>\n",
       "      <td>December</td>\n",
       "      <td>155306.0</td>\n",
       "    </tr>\n",
       "  </tbody>\n",
       "</table>\n",
       "</div>"
      ],
      "text/plain": [
       "   Month_Name       Sum\n",
       "0     January   67835.5\n",
       "1    February   55115.0\n",
       "2       March   53420.0\n",
       "3       April   78886.5\n",
       "4         May   51771.0\n",
       "5        June  103302.0\n",
       "6        July   69349.0\n",
       "7      August   60705.0\n",
       "8   September  107881.0\n",
       "9     October  201104.0\n",
       "10   November  121131.0\n",
       "11   December  155306.0"
      ]
     },
     "execution_count": 67,
     "metadata": {},
     "output_type": "execute_result"
    }
   ],
   "source": [
    "# Stripping the whitespace from Month_Name before grouping and categorizing\n",
    "df['Month_Name'] = df['Month_Name'].str.strip()\n",
    "\n",
    "# Creating a monthly summary of units sold\n",
    "df_info_segment_monthly = df.groupby('Month_Name')['Units_Sold'].sum().reset_index(name='Sum')\n",
    "\n",
    "# Reordering the months according to calendar order\n",
    "month_order = ['January', 'February', 'March', 'April', 'May', 'June', \n",
    "               'July', 'August', 'September', 'October', 'November', 'December']\n",
    "df_info_segment_monthly['Month_Name'] = pd.Categorical(df_info_segment_monthly['Month_Name'], categories=month_order, ordered=True)\n",
    "df_info_segment_monthly = df_info_segment_monthly.sort_values('Month_Name').reset_index(drop=True)\n",
    "df_info_segment_monthly"
   ]
  },
  {
   "cell_type": "code",
   "execution_count": 68,
   "id": "7b0b95ec",
   "metadata": {},
   "outputs": [
    {
     "data": {
      "image/png": "[encoded data removed]",
      "text/plain": [
       "<Figure size 1000x600 with 1 Axes>"
      ]
     },
     "metadata": {},
     "output_type": "display_data"
    }
   ],
   "source": [
    "# Creating a gradient palette with 12 colors for 12 months\n",
    "monthly_palette = sns.color_palette(\"magma\", 12)\n",
    "\n",
    "fig, ax = plt.subplots(figsize=(10, 6))\n",
    "sns.barplot(\n",
    "    data=df_info_segment_monthly,\n",
    "    x='Month_Name',\n",
    "    y='Sum',\n",
    "    hue='Month_Name',\n",
    "    palette=monthly_palette,\n",
    "    ax=ax\n",
    ")\n",
    "ax.set_title('Total Monthly Sales', fontsize=16)\n",
    "ax.set_xlabel('Months')\n",
    "ax.set_ylabel('Units Sold')\n",
    "\n",
    "# Defining the currency formatter for y-axis\n",
    "currency_formatter = FuncFormatter(lambda x, _: f'${x:,.0f}')\n",
    "ax.yaxis.set_major_formatter(currency_formatter)\n",
    "\n",
    "plt.tight_layout()\n",
    "plt.show()\n"
   ]
  },
  {
   "cell_type": "code",
   "execution_count": 69,
   "id": "462ea08c",
   "metadata": {},
   "outputs": [
    {
     "data": {
      "application/vnd.plotly.v1+json": {
       "config": {
        "plotlyServerURL": "https://plot.ly"
       },
       "data": [
        {
         "mode": "lines+markers",
         "name": "2013",
         "type": "scatter",
         "x": [
          "January",
          "February",
          "March",
          "April",
          "May",
          "June",
          "July",
          "August",
          "September",
          "October",
          "November",
          "December"
         ],
         "y": {
          "bdata": "AAAAAAAA+H8AAAAAAAD4fwAAAAAAAPh/AAAAAAAA+H8AAAAAAAD4fwAAAAAAAPh/AAAAAAAA+H8AAAAAAAD4fx+F6wHoGlFBMzMzY9+6YUEzMzPT4LhbQVK4HkWeelRB",
          "dtype": "f8"
         }
        },
        {
         "mode": "lines+markers",
         "name": "2014",
         "type": "scatter",
         "x": [
          "January",
          "February",
          "March",
          "April",
          "May",
          "June",
          "July",
          "August",
          "September",
          "October",
          "November",
          "December"
         ],
         "y": {
          "bdata": "wvUobOQ0WUGPwvXYftZbQXsUrvfqT1VBUrgexYmRWkE9CtfDqLBXQaRwPbrlJ2JBw/UoDALpXkGuR+GaK19WQfYoXE+6aFhB16NwfeGaZ0HNzMyMBYpUQc3MzHzI4mZB",
          "dtype": "f8"
         }
        }
       ],
       "layout": {
        "legend": {
         "title": {
          "text": "Year"
         }
        },
        "template": {
         "data": {
          "bar": [
           {
            "error_x": {
             "color": "#2a3f5f"
            },
            "error_y": {
             "color": "#2a3f5f"
            },
            "marker": {
             "line": {
              "color": "#E5ECF6",
              "width": 0.5
             },
             "pattern": {
              "fillmode": "overlay",
              "size": 10,
              "solidity": 0.2
             }
            },
            "type": "bar"
           }
          ],
          "barpolar": [
           {
            "marker": {
             "line": {
              "color": "#E5ECF6",
              "width": 0.5
             },
             "pattern": {
              "fillmode": "overlay",
              "size": 10,
              "solidity": 0.2
             }
            },
            "type": "barpolar"
           }
          ],
          "carpet": [
           {
            "aaxis": {
             "endlinecolor": "#2a3f5f",
             "gridcolor": "white",
             "linecolor": "white",
             "minorgridcolor": "white",
             "startlinecolor": "#2a3f5f"
            },
            "baxis": {
             "endlinecolor": "#2a3f5f",
             "gridcolor": "white",
             "linecolor": "white",
             "minorgridcolor": "white",
             "startlinecolor": "#2a3f5f"
            },
            "type": "carpet"
           }
          ],
          "choropleth": [
           {
            "colorbar": {
             "outlinewidth": 0,
             "ticks": ""
            },
            "type": "choropleth"
           }
          ],
          "contour": [
           {
            "colorbar": {
             "outlinewidth": 0,
             "ticks": ""
            },
            "colorscale": [
             [
              0,
              "#0d0887"
             ],
             [
              0.1111111111111111,
              "#46039f"
             ],
             [
              0.2222222222222222,
              "#7201a8"
             ],
             [
              0.3333333333333333,
              "#9c179e"
             ],
             [
              0.4444444444444444,
              "#bd3786"
             ],
             [
              0.5555555555555556,
              "#d8576b"
             ],
             [
              0.6666666666666666,
              "#ed7953"
             ],
             [
              0.7777777777777778,
              "#fb9f3a"
             ],
             [
              0.8888888888888888,
              "#fdca26"
             ],
             [
              1,
              "#f0f921"
             ]
            ],
            "type": "contour"
           }
          ],
          "contourcarpet": [
           {
            "colorbar": {
             "outlinewidth": 0,
             "ticks": ""
            },
            "type": "contourcarpet"
           }
          ],
          "heatmap": [
           {
            "colorbar": {
             "outlinewidth": 0,
             "ticks": ""
            },
            "colorscale": [
             [
              0,
              "#0d0887"
             ],
             [
              0.1111111111111111,
              "#46039f"
             ],
             [
              0.2222222222222222,
              "#7201a8"
             ],
             [
              0.3333333333333333,
              "#9c179e"
             ],
             [
              0.4444444444444444,
              "#bd3786"
             ],
             [
              0.5555555555555556,
              "#d8576b"
             ],
             [
              0.6666666666666666,
              "#ed7953"
             ],
             [
              0.7777777777777778,
              "#fb9f3a"
             ],
             [
              0.8888888888888888,
              "#fdca26"
             ],
             [
              1,
              "#f0f921"
             ]
            ],
            "type": "heatmap"
           }
          ],
          "histogram": [
           {
            "marker": {
             "pattern": {
              "fillmode": "overlay",
              "size": 10,
              "solidity": 0.2
             }
            },
            "type": "histogram"
           }
          ],
          "histogram2d": [
           {
            "colorbar": {
             "outlinewidth": 0,
             "ticks": ""
            },
            "colorscale": [
             [
              0,
              "#0d0887"
             ],
             [
              0.1111111111111111,
              "#46039f"
             ],
             [
              0.2222222222222222,
              "#7201a8"
             ],
             [
              0.3333333333333333,
              "#9c179e"
             ],
             [
              0.4444444444444444,
              "#bd3786"
             ],
             [
              0.5555555555555556,
              "#d8576b"
             ],
             [
              0.6666666666666666,
              "#ed7953"
             ],
             [
              0.7777777777777778,
              "#fb9f3a"
             ],
             [
              0.8888888888888888,
              "#fdca26"
             ],
             [
              1,
              "#f0f921"
             ]
            ],
            "type": "histogram2d"
           }
          ],
          "histogram2dcontour": [
           {
            "colorbar": {
             "outlinewidth": 0,
             "ticks": ""
            },
            "colorscale": [
             [
              0,
              "#0d0887"
             ],
             [
              0.1111111111111111,
              "#46039f"
             ],
             [
              0.2222222222222222,
              "#7201a8"
             ],
             [
              0.3333333333333333,
              "#9c179e"
             ],
             [
              0.4444444444444444,
              "#bd3786"
             ],
             [
              0.5555555555555556,
              "#d8576b"
             ],
             [
              0.6666666666666666,
              "#ed7953"
             ],
             [
              0.7777777777777778,
              "#fb9f3a"
             ],
             [
              0.8888888888888888,
              "#fdca26"
             ],
             [
              1,
              "#f0f921"
             ]
            ],
            "type": "histogram2dcontour"
           }
          ],
          "mesh3d": [
           {
            "colorbar": {
             "outlinewidth": 0,
             "ticks": ""
            },
            "type": "mesh3d"
           }
          ],
          "parcoords": [
           {
            "line": {
             "colorbar": {
              "outlinewidth": 0,
              "ticks": ""
             }
            },
            "type": "parcoords"
           }
          ],
          "pie": [
           {
            "automargin": true,
            "type": "pie"
           }
          ],
          "scatter": [
           {
            "fillpattern": {
             "fillmode": "overlay",
             "size": 10,
             "solidity": 0.2
            },
            "type": "scatter"
           }
          ],
          "scatter3d": [
           {
            "line": {
             "colorbar": {
              "outlinewidth": 0,
              "ticks": ""
             }
            },
            "marker": {
             "colorbar": {
              "outlinewidth": 0,
              "ticks": ""
             }
            },
            "type": "scatter3d"
           }
          ],
          "scattercarpet": [
           {
            "marker": {
             "colorbar": {
              "outlinewidth": 0,
              "ticks": ""
             }
            },
            "type": "scattercarpet"
           }
          ],
          "scattergeo": [
           {
            "marker": {
             "colorbar": {
              "outlinewidth": 0,
              "ticks": ""
             }
            },
            "type": "scattergeo"
           }
          ],
          "scattergl": [
           {
            "marker": {
             "colorbar": {
              "outlinewidth": 0,
              "ticks": ""
             }
            },
            "type": "scattergl"
           }
          ],
          "scattermap": [
           {
            "marker": {
             "colorbar": {
              "outlinewidth": 0,
              "ticks": ""
             }
            },
            "type": "scattermap"
           }
          ],
          "scattermapbox": [
           {
            "marker": {
             "colorbar": {
              "outlinewidth": 0,
              "ticks": ""
             }
            },
            "type": "scattermapbox"
           }
          ],
          "scatterpolar": [
           {
            "marker": {
             "colorbar": {
              "outlinewidth": 0,
              "ticks": ""
             }
            },
            "type": "scatterpolar"
           }
          ],
          "scatterpolargl": [
           {
            "marker": {
             "colorbar": {
              "outlinewidth": 0,
              "ticks": ""
             }
            },
            "type": "scatterpolargl"
           }
          ],
          "scatterternary": [
           {
            "marker": {
             "colorbar": {
              "outlinewidth": 0,
              "ticks": ""
             }
            },
            "type": "scatterternary"
           }
          ],
          "surface": [
           {
            "colorbar": {
             "outlinewidth": 0,
             "ticks": ""
            },
            "colorscale": [
             [
              0,
              "#0d0887"
             ],
             [
              0.1111111111111111,
              "#46039f"
             ],
             [
              0.2222222222222222,
              "#7201a8"
             ],
             [
              0.3333333333333333,
              "#9c179e"
             ],
             [
              0.4444444444444444,
              "#bd3786"
             ],
             [
              0.5555555555555556,
              "#d8576b"
             ],
             [
              0.6666666666666666,
              "#ed7953"
             ],
             [
              0.7777777777777778,
              "#fb9f3a"
             ],
             [
              0.8888888888888888,
              "#fdca26"
             ],
             [
              1,
              "#f0f921"
             ]
            ],
            "type": "surface"
           }
          ],
          "table": [
           {
            "cells": {
             "fill": {
              "color": "#EBF0F8"
             },
             "line": {
              "color": "white"
             }
            },
            "header": {
             "fill": {
              "color": "#C8D4E3"
             },
             "line": {
              "color": "white"
             }
            },
            "type": "table"
           }
          ]
         },
         "layout": {
          "annotationdefaults": {
           "arrowcolor": "#2a3f5f",
           "arrowhead": 0,
           "arrowwidth": 1
          },
          "autotypenumbers": "strict",
          "coloraxis": {
           "colorbar": {
            "outlinewidth": 0,
            "ticks": ""
           }
          },
          "colorscale": {
           "diverging": [
            [
             0,
             "#8e0152"
            ],
            [
             0.1,
             "#c51b7d"
            ],
            [
             0.2,
             "#de77ae"
            ],
            [
             0.3,
             "#f1b6da"
            ],
            [
             0.4,
             "#fde0ef"
            ],
            [
             0.5,
             "#f7f7f7"
            ],
            [
             0.6,
             "#e6f5d0"
            ],
            [
             0.7,
             "#b8e186"
            ],
            [
             0.8,
             "#7fbc41"
            ],
            [
             0.9,
             "#4d9221"
            ],
            [
             1,
             "#276419"
            ]
           ],
           "sequential": [
            [
             0,
             "#0d0887"
            ],
            [
             0.1111111111111111,
             "#46039f"
            ],
            [
             0.2222222222222222,
             "#7201a8"
            ],
            [
             0.3333333333333333,
             "#9c179e"
            ],
            [
             0.4444444444444444,
             "#bd3786"
            ],
            [
             0.5555555555555556,
             "#d8576b"
            ],
            [
             0.6666666666666666,
             "#ed7953"
            ],
            [
             0.7777777777777778,
             "#fb9f3a"
            ],
            [
             0.8888888888888888,
             "#fdca26"
            ],
            [
             1,
             "#f0f921"
            ]
           ],
           "sequentialminus": [
            [
             0,
             "#0d0887"
            ],
            [
             0.1111111111111111,
             "#46039f"
            ],
            [
             0.2222222222222222,
             "#7201a8"
            ],
            [
             0.3333333333333333,
             "#9c179e"
            ],
            [
             0.4444444444444444,
             "#bd3786"
            ],
            [
             0.5555555555555556,
             "#d8576b"
            ],
            [
             0.6666666666666666,
             "#ed7953"
            ],
            [
             0.7777777777777778,
             "#fb9f3a"
            ],
            [
             0.8888888888888888,
             "#fdca26"
            ],
            [
             1,
             "#f0f921"
            ]
           ]
          },
          "colorway": [
           "#636efa",
           "#EF553B",
           "#00cc96",
           "#ab63fa",
           "#FFA15A",
           "#19d3f3",
           "#FF6692",
           "#B6E880",
           "#FF97FF",
           "#FECB52"
          ],
          "font": {
           "color": "#2a3f5f"
          },
          "geo": {
           "bgcolor": "white",
           "lakecolor": "white",
           "landcolor": "#E5ECF6",
           "showlakes": true,
           "showland": true,
           "subunitcolor": "white"
          },
          "hoverlabel": {
           "align": "left"
          },
          "hovermode": "closest",
          "mapbox": {
           "style": "light"
          },
          "paper_bgcolor": "white",
          "plot_bgcolor": "#E5ECF6",
          "polar": {
           "angularaxis": {
            "gridcolor": "white",
            "linecolor": "white",
            "ticks": ""
           },
           "bgcolor": "#E5ECF6",
           "radialaxis": {
            "gridcolor": "white",
            "linecolor": "white",
            "ticks": ""
           }
          },
          "scene": {
           "xaxis": {
            "backgroundcolor": "#E5ECF6",
            "gridcolor": "white",
            "gridwidth": 2,
            "linecolor": "white",
            "showbackground": true,
            "ticks": "",
            "zerolinecolor": "white"
           },
           "yaxis": {
            "backgroundcolor": "#E5ECF6",
            "gridcolor": "white",
            "gridwidth": 2,
            "linecolor": "white",
            "showbackground": true,
            "ticks": "",
            "zerolinecolor": "white"
           },
           "zaxis": {
            "backgroundcolor": "#E5ECF6",
            "gridcolor": "white",
            "gridwidth": 2,
            "linecolor": "white",
            "showbackground": true,
            "ticks": "",
            "zerolinecolor": "white"
           }
          },
          "shapedefaults": {
           "line": {
            "color": "#2a3f5f"
           }
          },
          "ternary": {
           "aaxis": {
            "gridcolor": "white",
            "linecolor": "white",
            "ticks": ""
           },
           "baxis": {
            "gridcolor": "white",
            "linecolor": "white",
            "ticks": ""
           },
           "bgcolor": "#E5ECF6",
           "caxis": {
            "gridcolor": "white",
            "linecolor": "white",
            "ticks": ""
           }
          },
          "title": {
           "x": 0.05
          },
          "xaxis": {
           "automargin": true,
           "gridcolor": "white",
           "linecolor": "white",
           "ticks": "",
           "title": {
            "standoff": 15
           },
           "zerolinecolor": "white",
           "zerolinewidth": 2
          },
          "yaxis": {
           "automargin": true,
           "gridcolor": "white",
           "linecolor": "white",
           "ticks": "",
           "title": {
            "standoff": 15
           },
           "zerolinecolor": "white",
           "zerolinewidth": 2
          }
         }
        },
        "title": {
         "text": "Monthly Sales per Year"
        },
        "xaxis": {
         "title": {
          "text": "Month"
         }
        },
        "yaxis": {
         "title": {
          "text": "Sales in $"
         }
        }
       }
      }
     },
     "metadata": {},
     "output_type": "display_data"
    }
   ],
   "source": [
    "# Grouping by Year and Month_Name, sum Sales\n",
    "df_monthly_sales = df.groupby(['Year', 'Month_Name'])['Sales'].sum().reset_index()\n",
    "\n",
    "# Ensuring that Month_Name is ordered correctly\n",
    "df_monthly_sales['Month_Name'] = pd.Categorical(df_monthly_sales['Month_Name'], categories=month_order, ordered=True)\n",
    "df_monthly_sales = df_monthly_sales.sort_values(['Year', 'Month_Name'])\n",
    "\n",
    "# Pivot for plotting\n",
    "monthly_sales_pivot = df_monthly_sales.pivot(index='Month_Name', columns='Year', values='Sales')\n",
    "\n",
    "fig = go.Figure()\n",
    "for year in years:\n",
    "    fig.add_trace(go.Scatter(\n",
    "        x=monthly_sales_pivot.index,\n",
    "        y=monthly_sales_pivot[year],\n",
    "        mode='lines+markers',\n",
    "        name=str(year)\n",
    "    ))\n",
    "\n",
    "fig.update_layout(\n",
    "    title='Monthly Sales per Year',\n",
    "    xaxis_title='Month',\n",
    "    yaxis_title='Sales in $',\n",
    "    legend_title='Year'\n",
    ")\n",
    "fig.show()"
   ]
  },
  {
   "cell_type": "code",
   "execution_count": 70,
   "id": "42242241",
   "metadata": {},
   "outputs": [
    {
     "data": {
      "application/vnd.plotly.v1+json": {
       "config": {
        "plotlyServerURL": "https://plot.ly"
       },
       "data": [
        {
         "mode": "lines+markers",
         "name": "2013",
         "type": "scatter",
         "x": [
          "January",
          "February",
          "March",
          "April",
          "May",
          "June",
          "July",
          "August",
          "September",
          "October",
          "November",
          "December"
         ],
         "y": {
          "bdata": "AAAAAAAA+H8AAAAAAAD4fwAAAAAAAPh/AAAAAAAA+H8AAAAAAAD4fwAAAAAAAPh/AAAAAAAA+H8AAAAAAAD4f/YoXA+mTSdBmpmZGcNLOUGamZmZfFwnQY/C9SjYGiVB",
          "dtype": "f8"
         }
        },
        {
         "mode": "lines+markers",
         "name": "2014",
         "type": "scatter",
         "x": [
          "January",
          "February",
          "March",
          "April",
          "May",
          "June",
          "July",
          "August",
          "September",
          "October",
          "November",
          "December"
         ],
         "y": {
          "bdata": "Fa5HYZnXKEE+Ctdjg4YxQdejcL1VcSRBj8L1KIFhLEHrUbgewEkpQR+F69HZfDZBFK5HYbMxLEFwPQrXNCQoQa5H4Xo4OS9BuB6F6+EwO0FmZmZmcHMiQWZmZuYl6T5B",
          "dtype": "f8"
         }
        }
       ],
       "layout": {
        "legend": {
         "title": {
          "text": "Year"
         }
        },
        "template": {
         "data": {
          "bar": [
           {
            "error_x": {
             "color": "#2a3f5f"
            },
            "error_y": {
             "color": "#2a3f5f"
            },
            "marker": {
             "line": {
              "color": "#E5ECF6",
              "width": 0.5
             },
             "pattern": {
              "fillmode": "overlay",
              "size": 10,
              "solidity": 0.2
             }
            },
            "type": "bar"
           }
          ],
          "barpolar": [
           {
            "marker": {
             "line": {
              "color": "#E5ECF6",
              "width": 0.5
             },
             "pattern": {
              "fillmode": "overlay",
              "size": 10,
              "solidity": 0.2
             }
            },
            "type": "barpolar"
           }
          ],
          "carpet": [
           {
            "aaxis": {
             "endlinecolor": "#2a3f5f",
             "gridcolor": "white",
             "linecolor": "white",
             "minorgridcolor": "white",
             "startlinecolor": "#2a3f5f"
            },
            "baxis": {
             "endlinecolor": "#2a3f5f",
             "gridcolor": "white",
             "linecolor": "white",
             "minorgridcolor": "white",
             "startlinecolor": "#2a3f5f"
            },
            "type": "carpet"
           }
          ],
          "choropleth": [
           {
            "colorbar": {
             "outlinewidth": 0,
             "ticks": ""
            },
            "type": "choropleth"
           }
          ],
          "contour": [
           {
            "colorbar": {
             "outlinewidth": 0,
             "ticks": ""
            },
            "colorscale": [
             [
              0,
              "#0d0887"
             ],
             [
              0.1111111111111111,
              "#46039f"
             ],
             [
              0.2222222222222222,
              "#7201a8"
             ],
             [
              0.3333333333333333,
              "#9c179e"
             ],
             [
              0.4444444444444444,
              "#bd3786"
             ],
             [
              0.5555555555555556,
              "#d8576b"
             ],
             [
              0.6666666666666666,
              "#ed7953"
             ],
             [
              0.7777777777777778,
              "#fb9f3a"
             ],
             [
              0.8888888888888888,
              "#fdca26"
             ],
             [
              1,
              "#f0f921"
             ]
            ],
            "type": "contour"
           }
          ],
          "contourcarpet": [
           {
            "colorbar": {
             "outlinewidth": 0,
             "ticks": ""
            },
            "type": "contourcarpet"
           }
          ],
          "heatmap": [
           {
            "colorbar": {
             "outlinewidth": 0,
             "ticks": ""
            },
            "colorscale": [
             [
              0,
              "#0d0887"
             ],
             [
              0.1111111111111111,
              "#46039f"
             ],
             [
              0.2222222222222222,
              "#7201a8"
             ],
             [
              0.3333333333333333,
              "#9c179e"
             ],
             [
              0.4444444444444444,
              "#bd3786"
             ],
             [
              0.5555555555555556,
              "#d8576b"
             ],
             [
              0.6666666666666666,
              "#ed7953"
             ],
             [
              0.7777777777777778,
              "#fb9f3a"
             ],
             [
              0.8888888888888888,
              "#fdca26"
             ],
             [
              1,
              "#f0f921"
             ]
            ],
            "type": "heatmap"
           }
          ],
          "histogram": [
           {
            "marker": {
             "pattern": {
              "fillmode": "overlay",
              "size": 10,
              "solidity": 0.2
             }
            },
            "type": "histogram"
           }
          ],
          "histogram2d": [
           {
            "colorbar": {
             "outlinewidth": 0,
             "ticks": ""
            },
            "colorscale": [
             [
              0,
              "#0d0887"
             ],
             [
              0.1111111111111111,
              "#46039f"
             ],
             [
              0.2222222222222222,
              "#7201a8"
             ],
             [
              0.3333333333333333,
              "#9c179e"
             ],
             [
              0.4444444444444444,
              "#bd3786"
             ],
             [
              0.5555555555555556,
              "#d8576b"
             ],
             [
              0.6666666666666666,
              "#ed7953"
             ],
             [
              0.7777777777777778,
              "#fb9f3a"
             ],
             [
              0.8888888888888888,
              "#fdca26"
             ],
             [
              1,
              "#f0f921"
             ]
            ],
            "type": "histogram2d"
           }
          ],
          "histogram2dcontour": [
           {
            "colorbar": {
             "outlinewidth": 0,
             "ticks": ""
            },
            "colorscale": [
             [
              0,
              "#0d0887"
             ],
             [
              0.1111111111111111,
              "#46039f"
             ],
             [
              0.2222222222222222,
              "#7201a8"
             ],
             [
              0.3333333333333333,
              "#9c179e"
             ],
             [
              0.4444444444444444,
              "#bd3786"
             ],
             [
              0.5555555555555556,
              "#d8576b"
             ],
             [
              0.6666666666666666,
              "#ed7953"
             ],
             [
              0.7777777777777778,
              "#fb9f3a"
             ],
             [
              0.8888888888888888,
              "#fdca26"
             ],
             [
              1,
              "#f0f921"
             ]
            ],
            "type": "histogram2dcontour"
           }
          ],
          "mesh3d": [
           {
            "colorbar": {
             "outlinewidth": 0,
             "ticks": ""
            },
            "type": "mesh3d"
           }
          ],
          "parcoords": [
           {
            "line": {
             "colorbar": {
              "outlinewidth": 0,
              "ticks": ""
             }
            },
            "type": "parcoords"
           }
          ],
          "pie": [
           {
            "automargin": true,
            "type": "pie"
           }
          ],
          "scatter": [
           {
            "fillpattern": {
             "fillmode": "overlay",
             "size": 10,
             "solidity": 0.2
            },
            "type": "scatter"
           }
          ],
          "scatter3d": [
           {
            "line": {
             "colorbar": {
              "outlinewidth": 0,
              "ticks": ""
             }
            },
            "marker": {
             "colorbar": {
              "outlinewidth": 0,
              "ticks": ""
             }
            },
            "type": "scatter3d"
           }
          ],
          "scattercarpet": [
           {
            "marker": {
             "colorbar": {
              "outlinewidth": 0,
              "ticks": ""
             }
            },
            "type": "scattercarpet"
           }
          ],
          "scattergeo": [
           {
            "marker": {
             "colorbar": {
              "outlinewidth": 0,
              "ticks": ""
             }
            },
            "type": "scattergeo"
           }
          ],
          "scattergl": [
           {
            "marker": {
             "colorbar": {
              "outlinewidth": 0,
              "ticks": ""
             }
            },
            "type": "scattergl"
           }
          ],
          "scattermap": [
           {
            "marker": {
             "colorbar": {
              "outlinewidth": 0,
              "ticks": ""
             }
            },
            "type": "scattermap"
           }
          ],
          "scattermapbox": [
           {
            "marker": {
             "colorbar": {
              "outlinewidth": 0,
              "ticks": ""
             }
            },
            "type": "scattermapbox"
           }
          ],
          "scatterpolar": [
           {
            "marker": {
             "colorbar": {
              "outlinewidth": 0,
              "ticks": ""
             }
            },
            "type": "scatterpolar"
           }
          ],
          "scatterpolargl": [
           {
            "marker": {
             "colorbar": {
              "outlinewidth": 0,
              "ticks": ""
             }
            },
            "type": "scatterpolargl"
           }
          ],
          "scatterternary": [
           {
            "marker": {
             "colorbar": {
              "outlinewidth": 0,
              "ticks": ""
             }
            },
            "type": "scatterternary"
           }
          ],
          "surface": [
           {
            "colorbar": {
             "outlinewidth": 0,
             "ticks": ""
            },
            "colorscale": [
             [
              0,
              "#0d0887"
             ],
             [
              0.1111111111111111,
              "#46039f"
             ],
             [
              0.2222222222222222,
              "#7201a8"
             ],
             [
              0.3333333333333333,
              "#9c179e"
             ],
             [
              0.4444444444444444,
              "#bd3786"
             ],
             [
              0.5555555555555556,
              "#d8576b"
             ],
             [
              0.6666666666666666,
              "#ed7953"
             ],
             [
              0.7777777777777778,
              "#fb9f3a"
             ],
             [
              0.8888888888888888,
              "#fdca26"
             ],
             [
              1,
              "#f0f921"
             ]
            ],
            "type": "surface"
           }
          ],
          "table": [
           {
            "cells": {
             "fill": {
              "color": "#EBF0F8"
             },
             "line": {
              "color": "white"
             }
            },
            "header": {
             "fill": {
              "color": "#C8D4E3"
             },
             "line": {
              "color": "white"
             }
            },
            "type": "table"
           }
          ]
         },
         "layout": {
          "annotationdefaults": {
           "arrowcolor": "#2a3f5f",
           "arrowhead": 0,
           "arrowwidth": 1
          },
          "autotypenumbers": "strict",
          "coloraxis": {
           "colorbar": {
            "outlinewidth": 0,
            "ticks": ""
           }
          },
          "colorscale": {
           "diverging": [
            [
             0,
             "#8e0152"
            ],
            [
             0.1,
             "#c51b7d"
            ],
            [
             0.2,
             "#de77ae"
            ],
            [
             0.3,
             "#f1b6da"
            ],
            [
             0.4,
             "#fde0ef"
            ],
            [
             0.5,
             "#f7f7f7"
            ],
            [
             0.6,
             "#e6f5d0"
            ],
            [
             0.7,
             "#b8e186"
            ],
            [
             0.8,
             "#7fbc41"
            ],
            [
             0.9,
             "#4d9221"
            ],
            [
             1,
             "#276419"
            ]
           ],
           "sequential": [
            [
             0,
             "#0d0887"
            ],
            [
             0.1111111111111111,
             "#46039f"
            ],
            [
             0.2222222222222222,
             "#7201a8"
            ],
            [
             0.3333333333333333,
             "#9c179e"
            ],
            [
             0.4444444444444444,
             "#bd3786"
            ],
            [
             0.5555555555555556,
             "#d8576b"
            ],
            [
             0.6666666666666666,
             "#ed7953"
            ],
            [
             0.7777777777777778,
             "#fb9f3a"
            ],
            [
             0.8888888888888888,
             "#fdca26"
            ],
            [
             1,
             "#f0f921"
            ]
           ],
           "sequentialminus": [
            [
             0,
             "#0d0887"
            ],
            [
             0.1111111111111111,
             "#46039f"
            ],
            [
             0.2222222222222222,
             "#7201a8"
            ],
            [
             0.3333333333333333,
             "#9c179e"
            ],
            [
             0.4444444444444444,
             "#bd3786"
            ],
            [
             0.5555555555555556,
             "#d8576b"
            ],
            [
             0.6666666666666666,
             "#ed7953"
            ],
            [
             0.7777777777777778,
             "#fb9f3a"
            ],
            [
             0.8888888888888888,
             "#fdca26"
            ],
            [
             1,
             "#f0f921"
            ]
           ]
          },
          "colorway": [
           "#636efa",
           "#EF553B",
           "#00cc96",
           "#ab63fa",
           "#FFA15A",
           "#19d3f3",
           "#FF6692",
           "#B6E880",
           "#FF97FF",
           "#FECB52"
          ],
          "font": {
           "color": "#2a3f5f"
          },
          "geo": {
           "bgcolor": "white",
           "lakecolor": "white",
           "landcolor": "#E5ECF6",
           "showlakes": true,
           "showland": true,
           "subunitcolor": "white"
          },
          "hoverlabel": {
           "align": "left"
          },
          "hovermode": "closest",
          "mapbox": {
           "style": "light"
          },
          "paper_bgcolor": "white",
          "plot_bgcolor": "#E5ECF6",
          "polar": {
           "angularaxis": {
            "gridcolor": "white",
            "linecolor": "white",
            "ticks": ""
           },
           "bgcolor": "#E5ECF6",
           "radialaxis": {
            "gridcolor": "white",
            "linecolor": "white",
            "ticks": ""
           }
          },
          "scene": {
           "xaxis": {
            "backgroundcolor": "#E5ECF6",
            "gridcolor": "white",
            "gridwidth": 2,
            "linecolor": "white",
            "showbackground": true,
            "ticks": "",
            "zerolinecolor": "white"
           },
           "yaxis": {
            "backgroundcolor": "#E5ECF6",
            "gridcolor": "white",
            "gridwidth": 2,
            "linecolor": "white",
            "showbackground": true,
            "ticks": "",
            "zerolinecolor": "white"
           },
           "zaxis": {
            "backgroundcolor": "#E5ECF6",
            "gridcolor": "white",
            "gridwidth": 2,
            "linecolor": "white",
            "showbackground": true,
            "ticks": "",
            "zerolinecolor": "white"
           }
          },
          "shapedefaults": {
           "line": {
            "color": "#2a3f5f"
           }
          },
          "ternary": {
           "aaxis": {
            "gridcolor": "white",
            "linecolor": "white",
            "ticks": ""
           },
           "baxis": {
            "gridcolor": "white",
            "linecolor": "white",
            "ticks": ""
           },
           "bgcolor": "#E5ECF6",
           "caxis": {
            "gridcolor": "white",
            "linecolor": "white",
            "ticks": ""
           }
          },
          "title": {
           "x": 0.05
          },
          "xaxis": {
           "automargin": true,
           "gridcolor": "white",
           "linecolor": "white",
           "ticks": "",
           "title": {
            "standoff": 15
           },
           "zerolinecolor": "white",
           "zerolinewidth": 2
          },
          "yaxis": {
           "automargin": true,
           "gridcolor": "white",
           "linecolor": "white",
           "ticks": "",
           "title": {
            "standoff": 15
           },
           "zerolinecolor": "white",
           "zerolinewidth": 2
          }
         }
        },
        "title": {
         "text": "Monthly profit per Year"
        },
        "xaxis": {
         "title": {
          "text": "Month"
         }
        },
        "yaxis": {
         "title": {
          "text": "profit in $"
         }
        }
       }
      }
     },
     "metadata": {},
     "output_type": "display_data"
    }
   ],
   "source": [
    "# Grouping by Year and Month_Name, sum Profit\n",
    "df_monthly_profit = df.groupby(['Year', 'Month_Name'])['Profit'].sum().reset_index()\n",
    "\n",
    "# Ensuring that Month_Name is ordered correctly\n",
    "df_monthly_profit['Month_Name'] = pd.Categorical(df_monthly_profit['Month_Name'], categories=month_order, ordered=True)\n",
    "df_monthly_profit = df_monthly_profit.sort_values(['Year', 'Month_Name'])\n",
    "\n",
    "# Pivot for plotting\n",
    "monthly_profit_pivot = df_monthly_profit.pivot(index='Month_Name', columns='Year', values='Profit')\n",
    "\n",
    "fig = go.Figure()\n",
    "for year in years:\n",
    "    fig.add_trace(go.Scatter(\n",
    "        x=monthly_profit_pivot.index,\n",
    "        y=monthly_profit_pivot[year],\n",
    "        mode='lines+markers',\n",
    "        name=str(year)\n",
    "    ))\n",
    "\n",
    "fig.update_layout(\n",
    "    title='Monthly profit per Year',\n",
    "    xaxis_title='Month',\n",
    "    yaxis_title='profit in $',\n",
    "    legend_title='Year'\n",
    ")\n",
    "fig.show()"
   ]
  },
  {
   "cell_type": "code",
   "execution_count": 71,
   "id": "83fcaa80",
   "metadata": {},
   "outputs": [
    {
     "name": "stdout",
     "output_type": "stream",
     "text": [
      "Product with max profit:  Paseo  ($4,797,437.96)\n",
      "Product with min profit:  Carretera  ($1,826,804.89)\n",
      "Segment with max profit: Government ($11,388,173.18)\n",
      "Segment with min profit: Enterprise ($-614,545.62)\n"
     ]
    }
   ],
   "source": [
    "# Finding the product with max and min total profit\n",
    "product_profit = df.groupby('Product')['Profit'].sum()\n",
    "max_profit_product = product_profit.idxmax()\n",
    "min_profit_product = product_profit.idxmin()\n",
    "max_profit_product_value = product_profit.max()\n",
    "min_profit_product_value = product_profit.min()\n",
    "\n",
    "# Finding the segment with max and min total profit\n",
    "segment_profit = df.groupby('Segment')['Profit'].sum()\n",
    "max_profit_segment = segment_profit.idxmax()\n",
    "min_profit_segment = segment_profit.idxmin()\n",
    "max_profit_segment_value = segment_profit.max()\n",
    "min_profit_segment_value = segment_profit.min()\n",
    "\n",
    "print(f\"Product with max profit: {max_profit_product} (${max_profit_product_value:,.2f})\")\n",
    "print(f\"Product with min profit: {min_profit_product} (${min_profit_product_value:,.2f})\")\n",
    "print(f\"Segment with max profit: {max_profit_segment} (${max_profit_segment_value:,.2f})\")\n",
    "print(f\"Segment with min profit: {min_profit_segment} (${min_profit_segment_value:,.2f})\")"
   ]
  },
  {
   "cell_type": "code",
   "execution_count": 72,
   "id": "982183d6",
   "metadata": {},
   "outputs": [
    {
     "data": {
      "application/vnd.microsoft.datawrangler.viewer.v0+json": {
       "columns": [
        {
         "name": "index",
         "rawType": "int64",
         "type": "integer"
        },
        {
         "name": "Metric",
         "rawType": "object",
         "type": "string"
        },
        {
         "name": "Value",
         "rawType": "object",
         "type": "unknown"
        }
       ],
       "conversionMethod": "pd.DataFrame",
       "ref": "f64f8e63-eb05-48bc-b00c-efae70780474",
       "rows": [
        [
         "0",
         "Total Countries",
         "5"
        ],
        [
         "1",
         "Total Products",
         "6"
        ],
        [
         "2",
         "Total Segments",
         "5"
        ],
        [
         "3",
         "Total Units Sold",
         "1125806.0"
        ],
        [
         "4",
         "Total Gross Sales",
         "127931598.5"
        ],
        [
         "5",
         "Total Sales",
         "118726350.28999999"
        ],
        [
         "6",
         "Total Profit",
         "16893702.29"
        ],
        [
         "7",
         "Min Profit Country",
         "Mexico"
        ],
        [
         "8",
         "Max Profit Country",
         "France"
        ],
        [
         "9",
         "Max Profit Product",
         " Paseo "
        ],
        [
         "10",
         "Min Profit Product",
         " Carretera "
        ],
        [
         "11",
         "Max Profit Segment",
         "Government"
        ],
        [
         "12",
         "Min Profit Segment",
         "Enterprise"
        ]
       ],
       "shape": {
        "columns": 2,
        "rows": 13
       }
      },
      "text/html": [
       "<div>\n",
       "<style scoped>\n",
       "    .dataframe tbody tr th:only-of-type {\n",
       "        vertical-align: middle;\n",
       "    }\n",
       "\n",
       "    .dataframe tbody tr th {\n",
       "        vertical-align: top;\n",
       "    }\n",
       "\n",
       "    .dataframe thead th {\n",
       "        text-align: right;\n",
       "    }\n",
       "</style>\n",
       "<table border=\"1\" class=\"dataframe\">\n",
       "  <thead>\n",
       "    <tr style=\"text-align: right;\">\n",
       "      <th></th>\n",
       "      <th>Metric</th>\n",
       "      <th>Value</th>\n",
       "    </tr>\n",
       "  </thead>\n",
       "  <tbody>\n",
       "    <tr>\n",
       "      <th>0</th>\n",
       "      <td>Total Countries</td>\n",
       "      <td>5</td>\n",
       "    </tr>\n",
       "    <tr>\n",
       "      <th>1</th>\n",
       "      <td>Total Products</td>\n",
       "      <td>6</td>\n",
       "    </tr>\n",
       "    <tr>\n",
       "      <th>2</th>\n",
       "      <td>Total Segments</td>\n",
       "      <td>5</td>\n",
       "    </tr>\n",
       "    <tr>\n",
       "      <th>3</th>\n",
       "      <td>Total Units Sold</td>\n",
       "      <td>1125806.0</td>\n",
       "    </tr>\n",
       "    <tr>\n",
       "      <th>4</th>\n",
       "      <td>Total Gross Sales</td>\n",
       "      <td>127931598.5</td>\n",
       "    </tr>\n",
       "    <tr>\n",
       "      <th>5</th>\n",
       "      <td>Total Sales</td>\n",
       "      <td>118726350.29</td>\n",
       "    </tr>\n",
       "    <tr>\n",
       "      <th>6</th>\n",
       "      <td>Total Profit</td>\n",
       "      <td>16893702.29</td>\n",
       "    </tr>\n",
       "    <tr>\n",
       "      <th>7</th>\n",
       "      <td>Min Profit Country</td>\n",
       "      <td>Mexico</td>\n",
       "    </tr>\n",
       "    <tr>\n",
       "      <th>8</th>\n",
       "      <td>Max Profit Country</td>\n",
       "      <td>France</td>\n",
       "    </tr>\n",
       "    <tr>\n",
       "      <th>9</th>\n",
       "      <td>Max Profit Product</td>\n",
       "      <td>Paseo</td>\n",
       "    </tr>\n",
       "    <tr>\n",
       "      <th>10</th>\n",
       "      <td>Min Profit Product</td>\n",
       "      <td>Carretera</td>\n",
       "    </tr>\n",
       "    <tr>\n",
       "      <th>11</th>\n",
       "      <td>Max Profit Segment</td>\n",
       "      <td>Government</td>\n",
       "    </tr>\n",
       "    <tr>\n",
       "      <th>12</th>\n",
       "      <td>Min Profit Segment</td>\n",
       "      <td>Enterprise</td>\n",
       "    </tr>\n",
       "  </tbody>\n",
       "</table>\n",
       "</div>"
      ],
      "text/plain": [
       "                Metric         Value\n",
       "0      Total Countries             5\n",
       "1       Total Products             6\n",
       "2       Total Segments             5\n",
       "3     Total Units Sold     1125806.0\n",
       "4    Total Gross Sales   127931598.5\n",
       "5          Total Sales  118726350.29\n",
       "6         Total Profit   16893702.29\n",
       "7   Min Profit Country        Mexico\n",
       "8   Max Profit Country        France\n",
       "9   Max Profit Product        Paseo \n",
       "10  Min Profit Product    Carretera \n",
       "11  Max Profit Segment    Government\n",
       "12  Min Profit Segment    Enterprise"
      ]
     },
     "execution_count": 72,
     "metadata": {},
     "output_type": "execute_result"
    }
   ],
   "source": [
    "# Summarize key metrics into a single DataFrame for export\n",
    "\n",
    "summary_data = {\n",
    "    'Metric': [\n",
    "        'Total Countries',\n",
    "        'Total Products',\n",
    "        'Total Segments',\n",
    "        'Total Units Sold',\n",
    "        'Total Gross Sales',\n",
    "        'Total Sales',\n",
    "        'Total Profit',\n",
    "        'Min Profit Country',\n",
    "        'Max Profit Country',\n",
    "        'Max Profit Product',\n",
    "        'Min Profit Product',\n",
    "        'Max Profit Segment',\n",
    "        'Min Profit Segment'\n",
    "    ],\n",
    "    'Value': [\n",
    "        df['Country'].nunique(),\n",
    "        df['Product'].nunique(),\n",
    "        df['Segment'].nunique(),\n",
    "        df['Units_Sold'].sum(),\n",
    "        df['Gross_Sales'].sum(),\n",
    "        df['Sales'].sum(),\n",
    "        df['Profit'].sum(),\n",
    "        min_profit_country,\n",
    "        max_profit_country,\n",
    "        max_profit_product,\n",
    "        min_profit_product,\n",
    "        max_profit_segment,\n",
    "        min_profit_segment\n",
    "    ]\n",
    "}\n",
    "\n",
    "df_summary = pd.DataFrame(summary_data)\n",
    "df_summary"
   ]
  }
 ],
 "metadata": {
  "kernelspec": {
   "display_name": "data_anal",
   "language": "python",
   "name": "python3"
  },
  "language_info": {
   "codemirror_mode": {
    "name": "ipython",
    "version": 3
   },
   "file_extension": ".py",
   "mimetype": "text/x-python",
   "name": "python",
   "nbconvert_exporter": "python",
   "pygments_lexer": "ipython3",
   "version": "3.12.7"
  }
 },
 "nbformat": 4,
 "nbformat_minor": 5
}
